{
 "cells": [
  {
   "cell_type": "markdown",
   "metadata": {},
   "source": [
    "## Exercise 1\n",
    "\n",
    "In this exercise we will understand the functioning of TF/IDF ranking. \n",
    "\n",
    "Implement the vector space retrieval model, based on the code framework provided below.\n",
    "\n",
    "For testing we have provided a simple document collection with 5 documents in file bread.txt:\n",
    "\n",
    "  DocID | Document Text\n",
    "  ------|------------------\n",
    "  1     | How to Bake Breads Without Baking Recipes\n",
    "  2     | Smith Pies: Best Pies in London\n",
    "  3     | Numerical Recipes: The Art of Scientific Computing\n",
    "  4     | Breads, Pastries, Pies, and Cakes: Quantity Baking Recipes\n",
    "  5     | Pastry: A Book of Best French Pastry Recipes\n",
    "\n",
    "Now, for the query $Q = ``baking''$, find the top ranked documents according to the TF/IDF rank.\n",
    "\n",
    "For further testing, use the collection __epfldocs.txt__, which contains recent tweets mentioning EPFL.\n",
    "\n",
    "Compare the results also to the results obtained from the reference implementation using the scikit-learn library."
   ]
  },
  {
   "cell_type": "code",
   "execution_count": 4,
   "metadata": {},
   "outputs": [
    {
     "name": "stdout",
     "output_type": "stream",
     "text": [
      "[nltk_data] Downloading package stopwords to /home/yawen/nltk_data...\n",
      "[nltk_data]   Package stopwords is already up-to-date!\n",
      "[nltk_data] Downloading package punkt to /home/yawen/nltk_data...\n",
      "[nltk_data]   Package punkt is already up-to-date!\n"
     ]
    }
   ],
   "source": [
    "# Loading of libraries and documents\n",
    "\n",
    "from nltk.stem import PorterStemmer, WordNetLemmatizer\n",
    "import nltk\n",
    "from sklearn.feature_extraction.text import CountVectorizer, TfidfVectorizer\n",
    "from sklearn.metrics.pairwise import linear_kernel\n",
    "import string\n",
    "from nltk.corpus import stopwords\n",
    "import math\n",
    "from collections import Counter\n",
    "nltk.download('stopwords')\n",
    "nltk.download('punkt')\n",
    "\n",
    "# Tokenize, stem a document\n",
    "stemmer = PorterStemmer()\n",
    "def tokenize(text):\n",
    "    text = \"\".join([ch for ch in text if ch not in string.punctuation])\n",
    "    tokens = nltk.word_tokenize(text)\n",
    "    return \" \".join([stemmer.stem(word.lower()) for word in tokens])\n",
    "\n",
    "# Read a list of documents from a file. Each line in a file is a document\n",
    "with open(\"epfldocs.txt\") as f:\n",
    "    content = f.readlines()\n",
    "original_documents = [x.strip() for x in content] \n",
    "documents = [tokenize(d).split() for d in original_documents]"
   ]
  },
  {
   "cell_type": "code",
   "execution_count": 5,
   "metadata": {},
   "outputs": [
    {
     "name": "stdout",
     "output_type": "stream",
     "text": [
      "['0', '0203', '0206', '032017', '06', '1', '10', '100', '1000', '100kg', '1011', '1012', '1030', '10h', '10pm', '10th', '11', '1112', '11am', '12', '120', '1200', '12000', '1200cet', '1215h', '13', '1315', '1315th', '14h', '15', '150', '15billion', '15h', '15h15', '15th', '16', '16h', '17', '170', '1717', '17h', '18', '18h00', '18h30', '18th', '19052017', '1946', '1980', '1989', '1er', '1st', '1ère', '2', '20', '2015', '2016', '20162017', '2017', '2018', '2018hpeworkshop', '2020', '20242028', '2030agenda', '21', '2101', '21st', '227', '22march', '23rd', '23rdthing', '24', '247', '24heuresch', '25042017', '2526', '25kmh', '25novemb', '26', '26th', '27', '28082017', '299', '2eme', '2nd', '3', '30', '3001', '30th', '31', '31052017', '32', '35', '359', '3d', '3dprint', '3dprintabl', '3dprinter', '3e', '3ème', '4', '40', '400k', '42', '42born2cod', '45', '45th', '4k', '4person', '4pm', '4th', '5', '50', '500', '50000', '5060', '51', '55', '5d', '5g', '5gppp', '5pm', '5ten', '5th', '5ème', '6', '630', '630730pm', '630pm', '690', '6902010', '6h', '6pm', '6th', '7', '7047', '72', '79', '7th', '8', '8pm', '9', '900', '99', '994', 'a3forum', 'abandonnerai', 'abbschweizag', 'abion', 'abl', 'absorpt', 'abstract', 'ac', 'academ', 'academia', 'acadsci', 'académi', 'académiqu', 'access', 'accesspoint', 'accompagné', 'accord', 'accueil', 'aceexpedit', 'acetyl', 'achiev', 'acmepfl', 'acquir', 'acquisit', 'acsnano', 'act', 'action', 'activ', 'activit', 'activité', 'actual', 'actuallywork', 'actuat', 'adapt', 'add', 'addit', 'address', 'adelio', 'adjust', 'admit', 'adnovum', 'adrastia', 'adress', 'adressé', 'adrian', 'adrien', 'advanc', 'advantag', 'advertis', 'aebisch', 'aesthet', 'affam', 'afford', 'affront', 'afin', 'africa', 'africain', 'africangeek', 'afriquemagazin', 'afternoon', 'againstbc', 'age', 'ageficom', 'agenda', 'agent', 'agepoli', 'agre', 'agricultur', 'ah', 'ahead', 'ai', 'aid', 'aider', 'aigencycom', 'aigs2017', 'aihealth', 'aiidateam', 'aij', 'ailleur', 'aimerai', 'ainsi', 'airbnb', 'airsportsfai', 'aisten', 'aitcamp', 'akademischen', 'akthman', 'al', 'alahi', 'albrecht96', 'aleaf', 'alert', 'alex', 'alexalahi', 'alexandr', 'alexi', 'algebraictopolog', 'algo2017', 'algorithm', 'algèbr', 'ali', 'alison', 'allen', 'allergi', 'allergytest', 'allow', 'allègrement', 'almost', 'alogo', 'alogoanalysi', 'alor', 'alp', 'alpin', 'also', 'alternatif', 'although', 'altitud', 'alumni', 'alumnu', 'alway', 'alzheim', 'amaz', 'ambassador', 'ambiant', 'ambitieux', 'ambrosusamb', 'american', 'amin', 'amit', 'amld', 'amld2018', 'among', 'amp', 'amp8207', 'amparistech', 'amplifi', 'amyloid', 'amélior', 'aménag', 'analys', 'analysi', 'analyz', 'ancien', 'andor', 'andrea', 'andrej', 'andrisilbi', 'angewchem', 'ani', 'anim', 'animaux', 'ann', 'anniversari', 'announc', 'annual', 'anné', 'anoth', 'anouch', 'antarctica', 'antarcticbas', 'antiag', 'antibiot', 'antibiotiqu', 'anticanc', 'antichrist', 'antirheumat', 'antitumor', 'antivir', 'antoin', 'anton', 'anyon', 'anyth', 'anyway', 'anywher', 'apachemxnet', 'app', 'apparti', 'appear', 'appel', 'appl', 'appli', 'applic', 'appliedmlday', 'appoint', 'appreci', 'apprendr', 'apprenn', 'appri', 'approach', 'april', 'aprè', 'aprèsmidi', 'ar', 'arbeitsplätz', 'arbor', 'arbr', 'archaïqu', 'archimag', 'archimagredac', 'architect', 'architectur', 'architecturaux', 'architectureschool', 'archiv', 'archivch', 'archizoom', 'arctiqu', 'area', 'arena', 'argent', 'ariel', 'aristotl', 'arm', 'around', 'arriv', 'art', 'artanimmocap', 'articl', 'articles…', 'artifici', 'artificialintellig', 'artificiel', 'artikel', 'artist', 'artlab', 'artmyn', 'artmynch', 'artwork', 'asemday', 'ashg17', 'asia', 'asilomar', 'ask', 'assa2018', 'assameet', 'assembl', 'assess', 'assist', 'assistez', 'assoc', 'associ', 'associé', 'ast', 'astro4dev', 'astronaut', 'astronom', 'astronomi', 'ateli', 'atomtron', 'attack', 'attain', 'attend', 'attent', 'attest', 'attir', 'attract', 'attribut', 'au', 'aublebanon', 'auch', 'aucun', 'aud', 'audienc', 'audiotactil', 'aug', 'augmentedr', 'augmenté', 'august', 'augustepiccard', 'aujourdhui', 'aura', 'aurelberra', 'auront', 'auroregranvalepflch', 'auskunft', 'auspol', 'aussi', 'australia', 'autatetoulous', 'authentiqu', 'authorprofil', 'automat', 'autonom', 'autour', 'auwerx', 'auwerxlab', 'aux', 'avail', 'avalanch', 'avant', 'avc', 'avec', 'avez', 'aviat', 'avion', 'aviv', 'avoid', 'avoir', 'avril', 'avril4', 'award', 'away', 'awesom', 'axé', 'aziz', 'aztitecnalia', 'aérienn', 'aéronautiqu', 'a…', 'b', 'b3', 'babi', 'bach', 'bachelor', 'back', 'backdoor', 'background', 'backtoschool', 'bacteri', 'bad', 'badcompani', 'bah', 'baks3assoc', 'balanc', 'bald', 'balelec', 'baphomet', 'barrag', 'barran', 'bartek', 'barth', 'base', 'bateau', 'battin', 'bauingenieurwissenschaften', 'baumann', 'baychimokin', 'bb', 'bbc', 'bbca', 'bbcradio4', 'bcdiploma', 'bci', 'bcu', 'beat', 'beau', 'beauti', 'becaus', 'becom', 'bedsid', 'beer', 'beerdecod', 'beethoven', 'befcorreiahantschelmblokesch', 'befor', 'begin', 'begreifbar', 'behavior', 'behaviour', 'behind', 'bei', 'beibringen', 'beim', 'bel', 'belgianthem', 'believ', 'bell', 'belletin', 'bellon', 'belong', 'belt', 'beltandroad', 'beltandroad1', 'beltandroaddesk', 'bench', 'benefit', 'benoit', 'beobsess', 'bepa', 'bepo', 'bepool', 'bercher', 'bereich', 'berend', 'berichten', 'berlin', 'bern', 'bernasconifosco', 'berri', 'bertarellineuro', 'bertrandpiccard', 'besar', 'bese', 'besmart', 'besoin', 'besson', 'best', 'bestsel', 'besuch', 'better', 'beyond', 'bfhhesb', 'bhutan', 'bi', 'bibliograph', 'bibliographi', 'bibliographiqu', 'bibliothequ', 'bibliothèqu', 'bibliothécair', 'bid', 'bien', 'bientôt', 'bienvenu', 'big', 'bigdata', 'bike', 'bilanmagazin', 'bilanz', 'bild', 'billard', 'billetteri', 'bind', 'biociment', 'biofuel', 'bioinformat', 'biolog', 'biologi', 'biologist', 'biomedia', 'biometr', 'biomimétism', 'biomolecul', 'bionic', 'biophys', 'biorobot', 'biorxivneursci', 'biosensor', 'bioterror', 'birthday', 'bishnoi', 'bishop', 'bit', 'bitcoincash', 'blindpad', 'blockchain', 'blockchainsummit', 'blockfest', 'blond', 'bloodi', 'blown', 'blue', 'bluebrain', 'bluebrainpjt', 'bluefactori', 'bms2018', 'board', 'boi', 'boillat', 'bolo', 'boloabcm', 'bon', 'bonjour', 'bonn', 'bonnardv', 'book', 'boost', 'bootcamp', 'borgesjorgel', 'born', 'boschglob', 'bottom', 'bottomup', 'bourgd', 'bouri', 'bours', 'boy', 'boyarkin', 'boybat', 'br', 'bra', 'bradsmi', 'brain', 'brainstorm', 'braintovehicl', 'brainwav', 'branch', 'brantut', 'bravo', 'break', 'breakfast', 'breast', 'brevet', 'bricol', 'brief', 'bright', 'brighten', 'brigitt', 'brigittepierrat', 'brillant', 'brilliant', 'bring', 'bringt', 'brjsa', 'brjsa📀', 'broadspectrum', 'bruit', 'bruno', 'bruschini', 'bruyant', 'bscampmast', 'btw', 'bubbl', 'buccipergenova', 'buec', 'buhlergroup', 'build', 'built', 'bulletin', 'burnout', 'busi', 'businessinsider…', 'butterfli', 'button', 'butweet', 'bâtiment', 'bêche', 'bühler', 'bürgi', 'c', 'c7', 'ca', 'caban', 'cad', 'cafe', 'cafetièr', 'cage', 'calcul', 'calibr', 'call', 'calvinhyacinth', 'cambridg', 'camera', 'camil', 'camion', 'camp', 'campaign', 'campu', 'campusbiotech', 'campusday', 'campus…', 'caméra', 'canard', 'cancer', 'cancertreat', 'cancervaccin', 'candidatur', 'cant', 'canton', 'cantongenev', 'capabl', 'capac', 'cape', 'capital', 'capssieu', 'captiv', 'captur', 'car', 'carandach', 'carbon', 'carboneutr', 'cardiacsurgeon', 'cardinaldolan', 'cardiolog', 'career', 'careerbuild', 'cargo', 'cargobik', 'carinadjey', 'carlo', 'carmelatroncoso', 'carri', 'carv', 'case', 'casestudi', 'cash', 'catalyt', 'categori', 'catharuçia', 'catégori', 'caus', 'caution', 'cc', 'cciliv', 'ccmarcbgrub', 'cdf', 'cdfdanslapress', 'cdmissionindia', 'cdu', 'ce', 'cecam', 'cela', 'celebr', 'cell', 'cellul', 'celui', 'cement', 'cen', 'censor', 'center', 'centr', 'central', 'centuri', 'centuryold', 'ceo', 'ceremoni', 'cern', 'certain', 'certif', 'certificat', 'cerveau', 'ces2017', 'ces2018', 'cesmichigan', 'cest', 'cet', 'cett', 'ceux', 'cff', 'cfj', 'ch', 'chainiac', 'chair', 'challeng', 'champel28', 'champion', 'championn', 'champsnight', 'chanc', 'chang', 'changement', 'changementsclimatiqu', 'changer', 'chaqu', 'character', 'charg', 'chargeur', 'charl', 'chaîn', 'chbotschaftd', 'cheat', 'check', 'checklist', 'checkpoint', 'chees', 'cheesecak', 'chem', 'chemic', 'chemistri', 'chemjob', 'chemtweet', 'chercheur', 'chergui', 'chethana', 'chez', 'chf', 'chgisedu', 'chi', 'chicco785', 'chiccommun', 'chief', 'chiefdisrupt', 'child', 'childcar', 'children', 'chimi', 'chimiqu', 'china', 'chinagoabroad', 'chip', 'chocol', 'choic', 'cholera', 'choos', 'chosen', 'chouett', 'chri', 'chrisbishopmsft', 'christianeuhau', 'christma', 'chrlovi', 'chromatin', 'chronic', 'chroniqu', 'chui', 'chute', 'chuvlausann', 'chôro', 'cinegi', 'cinema', 'cio', 'circl', 'circuitq', 'circular', 'cisbat2017', 'cisco', 'cisdk', 'citat', 'citec', 'citecmobilit', 'citi', 'cityclub', 'civil', 'civilengin', 'civiqu', 'clapton', 'claquer', 'clarifi', 'class', 'classement', 'classifi', 'claud', 'claudio', 'claudiopagliara', 'clean', 'cleantech', 'clear', 'clearer', 'clef', 'cliché', 'click', 'climat', 'climatechang', 'climateprotect', 'climatiqu', 'climb', 'clinic', 'clip', 'clipair', 'clo', 'clock', 'close', 'cloud', 'cltucci', 'club', 'clubhealthcar', 'cluster', 'clé', 'cmi', 'cnbc', 'cnbi', 'cndpdebatpubl', 'cnp', 'cnrscentreest', 'co', 'co2', 'coaché', 'coaward', 'cobay', 'cobra', 'coccolo', 'cockroach', 'cocktail', 'code', 'coder', 'codeur', 'codev', 'codeweekch', 'codeweekeu', 'coeur', 'coffe', 'cohabit', 'cohabitonsepfl', 'cohort', 'colab', 'cold', 'coldion', 'cole', 'coll', 'collabor', 'collaboratif', 'colleagu', 'collect', 'collectifta', 'collegium', 'collid', 'collis', 'color', 'colorselect', 'coltran', 'combien', 'combin', 'come', 'comechatwithm', 'comfort', 'comic', 'comité', 'comm', 'commenc', 'comment', 'commentair', 'commeric', 'committe', 'commun', 'communelausann', 'communiqu', 'compact', 'compani', 'compar', 'compbio', 'compet', 'competit', 'complain', 'complet', 'complex', 'compon', 'compos', 'comprehens', 'comprendr', 'compress', 'compromi', 'compt', 'comput', 'computationalsci', 'compétenc', 'compétitivité', 'concentr', 'concept', 'conclud', 'concour', 'concret', 'condit', 'conf', 'confer', 'confess', 'confianc', 'confond', 'confus', 'conférenc', 'congo', 'congrat', 'congratul', 'connai', 'connaiss', 'connect', 'consanguin', 'conscious', 'conseil', 'conseilepf', 'consid', 'considér', 'constant', 'constitut', 'constraint', 'construct', 'construir', 'construit', 'consult', 'cont', 'content', 'contest', 'context', 'continu', 'continuum', 'contr', 'contreexpertis', 'contrib', 'contribu', 'contribut', 'control', 'contrôler', 'conundrum', 'convent', 'convers', 'convert', 'convivialité', 'conway', 'conçu', 'cool', 'cooper', 'coordin', 'coorgan', 'coorpacademi', 'copenhagen', 'copi', 'corefacil', 'cornavin', 'corpor', 'correcteur', 'cors', 'cortex', 'cortexia', 'coréenn', 'cosandey', 'cosi', 'cosmoorbu', 'cosplay', 'cost', 'coucou', 'could', 'council', 'countdown', 'counterpart', 'countri', 'coup', 'cour', 'cours', 'coursera', 'court', 'courtin', 'cousinjimmy2', 'cover', 'covestrogroup', 'cowork', 'coût', 'cranfielduni', 'creapol', 'creat', 'creation', 'creativ', 'creativeai', 'credit', 'crew', 'crime', 'crispri', 'critic', 'croir', 'croissanc', 'croisé', 'crossdress', 'crosstalk', 'crowdsourc', 'crucial', 'cruelamom', 'cryo', 'cryogen', 'cryptosecur', 'cryptotoken', 'créatif', 'création', 'crée', 'créon', 'créé', 'csem', 'cseminfo', 'csl', 'csnew', 'csschweiz', 'ct', 'ctmcecam', 'ctrl', 'cultureartsci', 'cumul', 'cup', 'curdi', 'curieus', 'currenc', 'current', 'curriculum', 'curti', 'curvilinear', 'cusophd', 'custom', 'cv', 'cvcilausann', 'cwarwarrior', 'cybathlon', 'cyber', 'cyberattack', 'cyberintproject', 'cybersecur', 'cybersecurityday', 'cyberspac', 'cybersécurité', 'cyclabl', 'cyclobiblio', 'cyclometal', 'cytometri', 'cérébrale', 'da', 'daccord', 'dachat', 'daeinar', 'dahl', 'daili', 'dakar', 'damag', 'damasio', 'damian', 'dan', 'danalys', 'danger', 'dangereus', 'danish', 'dann', 'danné', 'danser', 'danss', 'daprè', 'darchitectur', 'darchiv', 'dargent', 'dariahteach', 'dario', 'dark', 'darker', 'darkmatt', 'dartseventeen', 'dashboard', 'dashdawai', 'dass', 'data', 'databas', 'datadriven', 'datajamday', 'datamanag', 'datasci', 'datastorag', 'dataviz', 'date', 'datteindr', 'daughter', 'dautr', 'davantag', 'david', 'davo', 'day', 'daylight', 'daylightsymposium', 'dcgan', 'de', 'deadlin', 'deadpooly96', 'dean', 'debat', 'dec', 'decaathlon', 'decathlon', 'deceiv', 'decemb', 'decentr', 'deciph', 'decis', 'decisionmak', 'deco', 'deconvolut', 'deconvolutionlab2', 'decor', 'dedic', 'dedux', 'deep', 'deepartio', 'deephot', 'deeplearn', 'defens', 'defin', 'deform', 'degrad', 'degyetem', 'delay', 'delight', 'deliv', 'deliveri', 'delà', 'dem', 'demain', 'demo', 'democrat', 'demonstr', 'denfer', 'deni', 'denken', 'dentourloup', 'deploy', 'depriv', 'depui', 'deputi', 'der', 'dernier', 'dernièr', 'derrièr', 'describ', 'deserv', 'design', 'designresearch', 'dessin', 'dessou', 'dessu', 'destroy', 'detail', 'detect', 'detector', 'determin', 'detour', 'deux', 'develop', 'devenir', 'devenu', 'devic', 'devop', 'dexpo', 'dfloreano', 'dgtswitzerland', 'dh', 'dhlab', 'dhum', 'diabet', 'diagnost', 'diamond', 'diaspora', 'didier', 'didnt', 'die', 'dies', 'dieser', 'differ', 'difficult', 'digest', 'digit', 'digital', 'digitalday', 'digitalgenevaconvent', 'digitalhealth', 'digitalimag', 'digitalinnov', 'digitallernen', 'digitalshap', 'digitaltrust', 'digitaux', 'digithum2017', 'dimens', 'dimer', 'diminué', 'dimprovis', 'dindin', 'dioxid', 'diplom', 'diplomtypu', 'dire', 'direct', 'directeur', 'directli', 'director', 'dirig', 'dirti', 'disabl', 'disast', 'disconcert', 'discov', 'discoveri', 'discuss', 'diseas', 'disgrac', 'display', 'dispon', 'dispositif', 'disrupt', 'distanc', 'distinguish', 'dite', 'ditmai', 'divers', 'divis', 'divisar', 'diy', 'dkineu', 'dmfunil', 'dmp', 'dna', 'dnabind', 'dnasequenc', 'dnmason', 'doc', 'docomomo', 'doctor', 'documentalist', 'doe', 'doehlergroup', 'doesnt', 'doit', 'domain', 'domest', 'dominiqueforay', 'dommag', 'donat', 'donc', 'done', 'donn', 'donnez', 'dont', 'dot', 'dotastro', 'dotsecurityio', 'doubl', 'doug', 'dougla', 'dphroy', 'dr', 'draft', 'draw', 'dream', 'driven', 'driver', 'driverless', 'droit', 'drone', 'droneday', 'drop', 'droplet', 'drosophila', 'drpetti', 'drr', 'drug', 'dsm', 'dsmeu', 'dtsbourg', 'dtu', 'dtutweet', 'du', 'dual', 'dublin', 'dubochet', 'duboul', 'due', 'dun', 'dune', 'durabili', 'durabilité', 'durabl', 'durant', 'dure', 'duré', 'dutilis', 'dy', 'dyesensit', 'dynam', 'dynamicsmechan', 'dynamiqu', 'débrouillé', 'débusqu', 'début', 'débutent', 'décerné', 'déchanger', 'déchet', 'découvert', 'découvrez', 'découvrir', 'décret', 'dédié', 'défi', 'déjeuner', 'déjà', 'délicat', 'dénonc', 'départ', 'dépend', 'désolé', 'désormai', 'détect', 'détecter', 'détendr', 'détermin', 'détruir', 'développ', 'développeur', 'développé', 'dévoil', 'dévoilé', 'dêtre', 'earli', 'earn', 'easi', 'easili', 'eat', 'eaten', 'eawag', 'eawagresearch', 'eborloz', 'ebugnion', 'eca', 'ecal', 'ecargobik', 'ecm', 'ecol', 'ecolog', 'ecologi', 'ecommerc', 'econom', 'ecorobotix', 'ecosystem', 'ed', 'edaci', 'edacyhq', 'eddi', 'edg', 'edibl', 'ediblerobot', 'edinburghuni', 'edit', 'editionslavolt', 'editor', 'edtech', 'edtechaccelch', 'edu', 'educ', 'educationread', 'edx', 'edxonlin', 'ee', 'ee559', 'eeg', 'eel', 'effect', 'effet', 'efficaci', 'efficacité', 'effici', 'effort', 'effyvayena', 'egiannoni', 'ehl', 'ehlnew', 'ehmicrobiomes2017', 'ehr', 'eight', 'ein', 'eindhoven', 'einem', 'einen', 'einfach', 'either', 'eksobion', 'elastictim', 'elaudierlaudi', 'elderli', 'elect', 'electr', 'electricvehicl', 'electrochem', 'electroluminesc', 'electromobili', 'electron', 'elektroden', 'elektrotechnik', 'elfirepfl', 'elisabethborn', 'elliottrham', 'elluba', 'els', 'elsevierchemist', 'emad', 'email', 'embark', 'embarqu', 'embiontech', 'embl', 'embojourn', 'embol', 'embopress', 'embrac', 'emeritu', 'emiss', 'emmanuelmacron', 'emp', 'empach', 'employe', 'emprunt', 'emr', 'en', 'enabl', 'enac', 'enacresearchday', 'enc2017', 'enclench', 'encor', 'encourag', 'encrypt', 'end', 'endosymbiont', 'energi', 'energyeffici', 'energyharvest', 'energypoli', 'energystorag', 'energystrategi', 'enfantsado', 'eng', 'engadget', 'engag', 'engin', 'english', 'engrxiv', 'enhanc', 'enjeux', 'enjoy', 'enoch', 'enorm', 'enough', 'enquêt', 'enr', 'enrol', 'ensmmofficiel', 'entdeckt', 'enter', 'enthusiast', 'entier', 'entir', 'entr', 'entranc', 'entrepreneur', 'entrepreneuri', 'entrepreneurship', 'entrepreun', 'entreptech', 'entretien', 'entré', 'envelop', 'envirobot', 'envirochem', 'environ', 'environment', 'environn', 'envol', 'envscitech', 'epfl', 'epflalumni', 'epflalumnigala', 'epflartlab', 'epflcampu', 'epflcdm', 'epflcultur', 'epfldroneday', 'epfldur', 'epflec', 'epflecallab', 'epflen', 'epflenac', 'epflenroadsign', 'epflev', 'epflfood', 'epflinnov', 'epfllibrari', 'epfllts5', 'epflmauric', 'epflpark', 'epflphd', 'epflsb', 'epflstud', 'epflsv', 'epidemiolog', 'epigenet', 'episod', 'epuck', 'epuck2', 'equival', 'er', 'era', 'erc', 'erf2018', 'erfahrung', 'eric', 'ericdubay', 'ericsson', 'erlaubt', 'erstmal', 'eröffnet', 'eröffnungsred', 'es', 'esaeduc', 'esmtelecom', 'esp', 'espac', 'espdakar', 'especi', 'espion', 'esr', 'esrofficiel', 'essayezv', 'essenti', 'essentiel', 'est', 'estel', 'esthétiqu', 'et', 'etat', 'etatdevaud', 'etc', 'eth', 'ethbibliothek', 'ethdomain', 'ethen', 'ethingenieur', 'ethrat', 'ethspinoff', 'ethz', 'ethzurich', 'etiquett', 'etr', 'etudesantedusoir', 'eu', 'eucommiss', 'euh2020', 'eurekalert', 'eurekalertaaa', 'euronew', 'euronewsknwldg', 'europ', 'europarlen…', 'european', 'eurosys2018', 'eusciencehub', 'eux', 'evalu', 'evangelist', 'even', 'event', 'ever', 'everi', 'everybodi', 'everyon', 'evid', 'evidencebas', 'evolut', 'evot', 'evp', 'ewzenergi', 'ex', 'exam', 'examen', 'exampl', 'excel', 'except', 'excess', 'exchang', 'excit', 'exciton', 'exclusif', 'execut', 'exempl', 'exercis', 'exhibit', 'exhibitiondesign', 'exist', 'exoplanet', 'exoskeleton', 'exosom', 'exosquelett', 'exot', 'expand', 'expans', 'expect', 'experi', 'experiment', 'expert', 'expertis', 'explain', 'explan', 'expliqu', 'exploit', 'explor', 'expo', 'exposit', 'exposur', 'expscifilm17', 'expériment', 'extend', 'extens', 'extinct', 'extrapol', 'extrem', 'extrêmement', 'exutcae', 'exzellenz', 'exécutif', 'eye', 'f', 'fab', 'fabiansuter1', 'fabienfontannaz', 'fabric', 'fabriqu', 'fac', 'facad', 'face', 'facebook', 'facialrecognit', 'facil', 'facteur', 'factor', 'factori', 'faculti', 'faculté', 'fad', 'faessler', 'faget', 'fai', 'fail', 'fair', 'fairi', 'fairpowerch', 'fait', 'fakenew', 'fakepussi', 'fall', 'fallait', 'falsafi', 'falt', 'famili', 'fan', 'fantast', 'far', 'farm', 'fascin', 'fascinant', 'fast', 'faster', 'fate', 'fatherjenkin', 'fatti', 'faux', 'favorit', 'favourit', 'façad', 'fb', 'fcokienzl', 'fda', 'fds2017', 'fear', 'feasibl', 'feather', 'featur', 'feb', 'februar', 'februari', 'feder', 'feedback', 'feet', 'femal', 'femm', 'fems2017', 'femtoprint', 'femtoprint®', 'fenêtr', 'fer', 'ferait', 'ferdinand', 'feront', 'festiv', 'fev', 'ff', 'fhaptic', 'fhll', 'fiber', 'fiberopt', 'fibril', 'field', 'fier', 'fifa', 'fifel', 'fifpro', 'fight', 'filigran', 'fill', 'fillett', 'film', 'fin', 'final', 'financ', 'financi', 'find', 'findet', 'fine', 'finir', 'finish', 'finiss', 'finland', 'fintech', 'firmament', 'first', 'fischerconnect', 'fish', 'fit', 'fitfund', 'five', 'fiveminut', 'fiwar', 'fièr', 'flat', 'flatearth', 'flatter', 'flaviacorda', 'fleshandblood', 'flexibl', 'fli', 'flipclass', 'flocon', 'floor', 'floridi', 'florislondon', 'flourish', 'flow', 'flowcytometri', 'flowecommerc', 'flowersinria', 'flyabil', 'flyerlft', 'fmondada', 'fntpinfo', 'focu', 'focus', 'focusonlin', 'foe', 'foi', 'fold', 'foldaway', 'foli', 'folk', 'follicular', 'follicularlymphoma', 'follow', 'fonction', 'fondamental', 'fondat', 'fongit1', 'food', 'footbal', 'footersi', 'forbesunder30', 'forecast', 'foreign', 'foresti', 'forestsandwood', 'forget', 'form', 'format', 'former', 'formid', 'formul', 'formula', 'forschung', 'fort', 'forthcom', 'forum', 'forumepfl', 'forumwslsuisseromand', 'forward', 'forêt', 'foster', 'found', 'foundat', 'founder', 'four', 'fourni', 'fourth', 'fourthrevolut', 'fox', 'fpbock', 'fpga', 'fr', 'fractur', 'fragmentin', 'framework', 'franc', 'franceia', 'franceint', 'francisco', 'francosuiss', 'franz', 'françai', 'françou', 'frauduleux', 'fredericgisl', 'frederickaplan', 'free', 'french', 'frequent', 'fret', 'fribourg', 'friday', 'friend', 'fritz', 'friup', 'froid', 'front', 'frontier', 'fsrm', 'fsrmch', 'ft', 'fujifilmxseri', 'fujilove30', 'full', 'fulli', 'fulltext', 'fun', 'function', 'fund', 'fundament', 'funprog', 'furnitur', 'fusion', 'futur', 'futuri', 'fwd', 'fxpetit', 'fédérale', 'félicit', 'février', 'fête', 'für', 'gafa', 'gafam', 'gagner', 'gain', 'gainde2000', 'gait', 'gala', 'galaxi', 'gamayanew', 'gamechang', 'gamelab🕹rtstribu', 'gan', 'garcia', 'garfieldabh', 'gdanezi', 'ged', 'gefahren', 'gefordert', 'gehen', 'gehendragurung', 'geht', 'geissbuhl', 'gelatin', 'gelähmten', 'gem', 'gender', 'genderequ', 'genderequalpanel', 'gene', 'gener', 'genet', 'genev', 'geneva', 'genferse', 'genom', 'genova', 'genèv', 'geographemedecin', 'geomechaepfl', 'geomicrobiolog', 'georgio', 'geoschoolday2017', 'geotherm', 'gerad', 'gerolimini', 'gerufen', 'geschicht', 'gesisorg', 'gesundheit', 'get', 'geteschool', 'gettu', 'gewch2017', 'gianpaolorando', 'gibt', 'giesenhow', 'gigant', 'gill', 'gillesjobin1', 'gillet', 'giovannitoti', 'girault', 'giraulthubert', 'girl', 'gise', 'gisiq', 'githubeduc', 'giulia', 'givaudan', 'give', 'gixedu', 'glad', 'glare', 'glass', 'glisser', 'global', 'globe🌍', 'globu', 'gluon', 'glückwunsch', 'gniarfffff', 'go', 'goal', 'gobeyondba', 'gobolo', 'god', 'gogirl', 'golang', 'gold', 'goldcomput', 'golfweek', 'gone', 'gonin', 'good', 'goodby', 'goodpowwow', 'googl', 'gopro', 'gordon', 'gorgeou', 'gosh', 'got', 'govend', 'governmentmand', 'gqdaley', 'grade', 'graduat', 'graf', 'grand', 'grandformat', 'grant', 'grante', 'graph', 'graphen', 'graphenebas', 'grapheneco', 'graphic', 'graphicdesign', 'gratul', 'gratzel', 'grave', 'great', 'greatcellsolar', 'greater', 'green', 'greenway', 'gregoir', 'grenobleinp', 'grid', 'gro', 'ground', 'group', 'groupecofina', 'grow', 'growth', 'grt', 'gruenebundestag', 'gruenebw', 'grund', 'grâce', 'gräeff', 'grätzel', 'gründet', 'gt', 'gtgt', 'gtgtventuregtgt', 'guess', 'guid', 'guidag', 'guider', 'guitar', 'gulf', 'gupta', 'gut', 'guy', 'guyparmeiin', 'gymnas', 'génie', 'génétiqu', 'géothermi', 'h2020', 'h2020sc5', 'ha', 'haben', 'hack', 'hackathon', 'hackday', 'hackdisrupt', 'hacker', 'hackuarium', 'haenni', 'halfway', 'hall', 'haltug', 'han', 'hanahan', 'hand', 'handexoskeleton', 'handi', 'handson', 'hang', 'happen', 'happi', 'happylook', 'haptic', 'har', 'hard', 'hardwork', 'harmanton', 'harvard', 'harvardm', 'harvest', 'hasard', 'hasti', 'hat', 'hauss', 'haut', 'hauteecolearc', 'hazard', 'haïku', 'hbagp', 'hbcdigitalgilttech', 'hbpeduc', 'head', 'headgenev', 'headlin', 'health', 'healthcar', 'healthi', 'healthyag', 'hear', 'hearcingenieri', 'heart', 'heathercmil', 'heavi', 'heclausann', 'hecpari', 'heddi', 'hei', 'heiafr', 'heigvd', 'held', 'helga', 'helmholtzmuc', 'help', 'heluc', 'henri', 'henrik', 'hep', 'hepia', 'herbac', 'heritag', 'herzlich', 'hess', 'hesso', 'hessovalai', 'heterogen', 'heur', 'heurist', 'hey', 'hgststorag', 'hi', 'hidden', 'hide', 'hier', 'high', 'highenthalpi', 'higher', 'highereduc', 'highli', 'highlight', 'highlights1112', 'highlights1212', 'hightech', 'highthroughput', 'highway', 'hiiiiiighwaayyyyyyyi', 'hill', 'hillaryclinton', 'hint', 'histoir', 'histon', 'historiqu', 'hit', 'hk–chic', 'hm17', 'ho', 'holyghostalic', 'holzer', 'home', 'hongkong', 'honneur', 'honor', 'hope', 'hopitauxunig', 'horizon', 'horizon2020ict', 'horizontal', 'hormon', 'host', 'hot', 'hour', 'hous', 'household', 'hp1a', 'hpk42', 'hr', 'hrff', 'hsgstgallen', 'hslu', 'ht', 'hts18', 'httpstco00omllvto8', 'httpstco04a2xijk2f', 'httpstco05rvcqymng', 'httpstco06jmxdae2h', 'httpstco089f9utg0f', 'httpstco09hxnyityk', 'httpstco0acwalws6q', 'httpstco0bajjgzvtj', 'httpstco0bgdavipyo', 'httpstco0bnmbpx50k', 'httpstco0cbbopaybc', 'httpstco0givobwpuo', 'httpstco0gkajw4qsi', 'httpstco0iqt3k8fkq', 'httpstco0ke069ombn', 'httpstco0kflwez4eq', 'httpstco0l63qx5qmr', 'httpstco0nrauzuszk', 'httpstco0ryra559n0', 'httpstco0wb6ae4gox', 'httpstco0whox0aktr', 'httpstco0xczhd4kon', 'httpstco15wpb7m1bb', 'httpstco16jwmxzzn8', 'httpstco16zzhx0prn', 'httpstco1bcbnjueyo', 'httpstco1espabvvxp', 'httpstco1fat8de575', 'httpstco1fgggsnrkl', 'httpstco1ismya7e0p', 'httpstco1ja3cl59dq', 'httpstco1kcnfc67xr', 'httpstco1ko7mdz4ag', 'httpstco1ktfeyqze6', 'httpstco1nu0esmrbg', 'httpstco1oxxxs6mg', 'httpstco1rc2edm3bc', 'httpstco1ub7y6bcku', 'httpstco1ulb3gwmfp', 'httpstco1vtjkucjfa', 'httpstco1wl4g431s6', 'httpstco1zauh8ulfo', 'httpstco23kjig8pxt', 'httpstco27enjydfx9', 'httpstco2bbtingzup', 'httpstco2byw3asuc2', 'httpstco2eruzdhgxv', 'httpstco2hvx5go6s6', 'httpstco2ibzrspr4b', 'httpstco2n1qwhfuti', 'httpstco2r2t895qxi', 'httpstco2sdcrepbwj', 'httpstco2uvy9ji9ct', 'httpstco2va71avjyg', 'httpstco2vdekx9yhv', 'httpstco2vqqgqhact', 'httpstco2vtdqhgppr', 'httpstco2wg3bbhbnq', 'httpstco39tyluij9i', 'httpstco39urk8zhu9', 'httpstco3bjtbr7d5l', 'httpstco3cnvxvrwdd', 'httpstco3ekteqvhor', 'httpstco3hbktnie3q', 'httpstco3jd6ff6a9z', 'httpstco3lng5suuw8', 'httpstco3qhw8vh9il', 'httpstco3rdc5zmouw', 'httpstco3rjiief5ag', 'httpstco3rmmobhido', 'httpstco3vujybmevd', 'httpstco3wjjjpb40a', 'httpstco3zvz8pwqlc', 'httpstco403ikcep1k', 'httpstco40du7yawd9', 'httpstco42qaeby17w', 'httpstco45apcebiwl', 'httpstco462ghoecml', 'httpstco4agkuwothi', 'httpstco4akq4dxkgd', 'httpstco4ask1pvykb', 'httpstco4d9qk0bn80', 'httpstco4gegfxu8co', 'httpstco4hmazta9qa', 'httpstco4l1kod6rgm', 'httpstco4ldoldo6uw', 'httpstco4opdwrqfn8', 'httpstco4qqqksoafm', 'httpstco4r7b6cemhk', 'httpstco4rh442x4q1', 'httpstco4svpdoedyh', 'httpstco4uidxckvaq', 'httpstco4vuyimvgj', 'httpstco4xduwhjtu', 'httpstco4yts0a28x', 'httpstco50aucbavcm', 'httpstco50enztwuhi', 'httpstco518lm0ymsn', 'httpstco58hoxs4wco', 'httpstco5a390onksj', 'httpstco5aowo9rolr', 'httpstco5bjykqbybl', 'httpstco5coubobbj1', 'httpstco5hwwdcahxr', 'httpstco5kzmbdfpr', 'httpstco5mf6xxcaih', 'httpstco5mvdxw3ofn', 'httpstco5nmydbcuzk', 'httpstco5psizmobkn', 'httpstco5qiiwlrwqj', 'httpstco5seujzfvmf', 'httpstco5t4as0uei1', 'httpstco5t7egh0quw', 'httpstco5tamwdmspa', 'httpstco5tmqyjekih', 'httpstco5uemh3nxma', 'httpstco5vujmpeatm', 'httpstco5zcwxyykdh', 'httpstco60smllndjx', 'httpstco66xc0kojlp', 'httpstco6c3s2rk03u', 'httpstco6eo2nbfqg0', 'httpstco6epuivmddz', 'httpstco6f6pmtukz2', 'httpstco6haoskjtmz', 'httpstco6houuycwab', 'httpstco6ixddicblu', 'httpstco6jehtk8y7i', 'httpstco6lmgbkcsdb', 'httpstco6nixgyxgbx', 'httpstco6onrmewcnb', 'httpstco6oy7g20dit', 'httpstco6pgdtcpyhq', 'httpstco6rcktsojc7', 'httpstco6tiu1sc7oi', 'httpstco6utnj68psc', 'httpstco6uwi3r9ku', 'httpstco6uzlxnhwvr', 'httpstco6yigv1nt', 'httpstco6yiyk7cyi1', 'httpstco6yp1ywa7ww', 'httpstco6yy93dwpz1', 'httpstco6ztzov8ylh', 'httpstco70efmmqrxt', 'httpstco786fy61i51', 'httpstco7bq0irddss', 'httpstco7btkzcjdvd', 'httpstco7e2mgk4jiu', 'httpstco7g2w1geiz9', 'httpstco7hgjus0y6f', 'httpstco7lkkao5780', 'httpstco7lr3x8nkqn', 'httpstco7p7b964hq3', 'httpstco7q3ofxp28a', 'httpstco7qzba4qjxg', 'httpstco7vf2txcuio', 'httpstco7whgqt8bmg', 'httpstco7wrh9tmlak', 'httpstco7zgbr0eotc', 'httpstco7zrtclzioh', 'httpstco7zwhp1j03t', 'httpstco81jojeidzx', 'httpstco856yhgi74j', 'httpstco89ziiby5f', 'httpstco8bxhrmekyy', 'httpstco8f4bnl7aa', 'httpstco8hh2xacpdn', 'httpstco8hjddrifxi', 'httpstco8jduui0oiu', 'httpstco8ov83oqah8', 'httpstco8owqib0csc', 'httpstco8oypzdqbhd', 'httpstco8rlp0zzhyb', 'httpstco8staqsmknh', 'httpstco8uprqcypqt', 'httpstco8wktgl06vq', 'httpstco94kl7dmd6z', 'httpstco99djfmjkt8', 'httpstco9ck73aptxc', 'httpstco9d256rj7ct', 'httpstco9dnfecxaof', 'httpstco9f2iuduopr', 'httpstco9f9q98oxp', 'httpstco9fgitpnf', 'httpstco9j5gplmcoi', 'httpstco9jgkw9qz6x', 'httpstco9kcj2kfaek', 'httpstco9kyvtde4qa', 'httpstco9lr6sbjlil', 'httpstco9mwx3ratkh', 'httpstco9olqaib7vf', 'httpstco9oq2y42cox', 'httpstco9oxz0xpebg', 'httpstco9qmkshraqj', 'httpstco9qvu4leli0', 'httpstco9ugolooviz', 'httpstco9y9b1tbiqk', 'httpstco9yrr6bbjf2', 'httpstcoa0fsbkkmwn', 'httpstcoa1y1stv0lb', 'httpstcoa5in0tcls7', 'httpstcoa6lliu7txb', 'httpstcoa9sfxas20o', 'httpstcoaa0crtmgnf', 'httpstcoaaiitfl6ji', 'httpstcoacnn5znc95', 'httpstcoae68flyvs5', 'httpstcoaf6shy2cvv', 'httpstcoancm3qlido', 'httpstcoaodxrekih3', 'httpstcoapgzetdcu', 'httpstcoarbz9t2dzx', 'httpstcoarkwnybioy', 'httpstcoarslxzoshq', 'httpstcoaskf9ui0mi', 'httpstcoassaroj5bc', 'httpstcoaumywxycdb', 'httpstcoavujdhhuvu', 'httpstcoawob8mwpvw', 'httpstcoaxxf5tgqj3', 'httpstcoayzqdgq6r4', 'httpstcoaz7xlfk3da', 'httpstcoazwevbdhvv', 'httpstcob1rcngnblz', 'httpstcob2egco0qbn', 'httpstcob2tct924cp', 'httpstcob4qwcq4hda', 'httpstcob539k4mylr', 'httpstcob9jpcjfjsz', 'httpstcob9tglxo4kd', 'httpstcobanevqtrxf', 'httpstcobbzb8julcc', 'httpstcobcumzs50wo', 'httpstcobdowqoqx', 'httpstcobeq7t6h43v', 'httpstcobeqgfwefwz', 'httpstcobexn0kdflf', 'httpstcobezxs7dnvg', 'httpstcobh4l44zsmn', 'httpstcobhlj5whmbc', 'httpstcobid211ncnp', 'httpstcobikrcmkfsq', 'httpstcobiqcjzrjl8', 'httpstcobiwgqtdufw', 'httpstcobkliewfcro', 'httpstcoblwafqtopd', 'httpstcobmj2ym1mdi', 'httpstcobmpozyou0x', 'httpstcoboreqiexit', 'httpstcoboxkkgrla', 'httpstcobpnpc47k3l', 'httpstcobpsq6uqc26', 'httpstcobsrf78yslc', 'httpstcobst7m6v3z6', 'httpstcobszu1pc7yk', 'httpstcobtfmcsw0xp', 'httpstcobtxtpnmnbh', 'httpstcobtzhxeaemn', 'httpstcobuda7w2icm', 'httpstcobvfd0ag6bg', 'httpstcobvuygd07tv', 'httpstcobwarzzxaya', 'httpstcobxrhpamqlx', 'httpstcobymmkjagz1', 'httpstcobzdpdlwf40', 'httpstcoc0vpvlzrbv', 'httpstcoc1eicmvniq', 'httpstcoc4nv8d9eay', 'httpstcoc4xprlshiy', 'httpstcoc7letjanc', 'httpstcoc8ssuixmmg', 'httpstcoc9c96wee6b', 'httpstcocashbjl9ap', 'httpstcocbsxy8wduh', 'httpstcocbwparmemb', 'httpstcoceuog4myqi', 'httpstcocey6grxdgf', 'httpstcocfigqtyncp', 'httpstcocgh44xxknz', 'httpstcocgupoky9b', 'httpstcochibnceiwj', 'httpstcociezy0jtbm', 'httpstcocixq0xhiu9', 'httpstcocjnak2wc0p', 'httpstcocjwc2eueii', 'httpstcoclpyvpputz', 'httpstcoclr13oo7rr', 'httpstcocmhoigyevq', 'httpstcocmiyfgtdn0', 'httpstcocmoowb3eh6', 'httpstcocmujlvakjl', 'httpstcocmx5oahu6a', 'httpstcocniwy0knqi', 'httpstcoco2lbnhmvd', 'httpstcoco689b3qr5', 'httpstcocodsk7agck', 'httpstcocqa8fqwqqg', 'httpstcoctes8y5qxj', 'httpstcoctx6uusyog', 'httpstcocuixeajydh', 'httpstcocujsqv4kfd', 'httpstcoculfwnlubc', 'httpstcocvhref9yhb', 'httpstcocwmdckutob', 'httpstcocxoi7zmv8a', 'httpstcod2jzzta3ca', 'httpstcod2oi9inptx', 'httpstcod5gqfbidsf', 'httpstcod76buifpkw', 'httpstcod7efdxo4mp', 'httpstcod7isvdvpnf', 'httpstcod7slk6ruat', 'httpstcod7ylxqyt2a', 'httpstcod8i7iov05c', 'httpstcod9rmzxllm5', 'httpstcodbgbotyhez', 'httpstcodbgpv4sztp', 'httpstcodc4jeabheo', 'httpstcodcuyrn9fng', 'httpstcoddeefomq87', 'httpstcodenokqywrc', 'httpstcodftdrcetrl', 'httpstcodgxoj2dafk', 'httpstcodhjuvdnb24', 'httpstcodhsmrolyj7', 'httpstcodkgmxia7tq', 'httpstcodnot4oimmv', 'httpstcodntchhce5l', 'httpstcodoe5shp9xr', 'httpstcodofvlxov71', 'httpstcodoj2hmekbc', 'httpstcodosw7ttzm0', 'httpstcodp3fdxfp3z', 'httpstcodpemd35x1r', 'httpstcodpkpwjmxg5', 'httpstcodrtxjxjdzd', 'httpstcodrvhknmmlf', 'httpstcodtqvfwl3lj', 'httpstcody437yk4su', 'httpstcoe0libndjkc', 'httpstcoe16f7bccbu', 'httpstcoe2dcsoafrj', 'httpstcoe2ogm9ze7v', 'httpstcoe3pdcg6nvb', 'httpstcoe98ay49ac', 'httpstcoeac5pmdphr', 'httpstcoeadcnn0urq', 'httpstcoealk3tvsem', 'httpstcoebjlvalhzz', 'httpstcoecz2m8znl4', 'httpstcoedkac9gul3', 'httpstcoeek6g1vnm5', 'httpstcoefcvq215nh', 'httpstcoeftnavcnh6', 'httpstcoefz6cwdb96', 'httpstcoegweg4aqj4', 'httpstcoehgkchyud6', 'httpstcoeituenfoax', 'httpstcoel8rjs7wc1', 'httpstcoelpyorrs7', 'httpstcoem60qbahti', 'httpstcoemdmiz31w6', 'httpstcoen0umiyykp', 'httpstcoeoe8vhmgek', 'httpstcoeomfj5c9rg', 'httpstcoeozeypyi68', 'httpstcoepj0zoeiiz', 'httpstcoepvu8vla0c', 'httpstcoepymyqckzw', 'httpstcoerqa06qoiy', 'httpstcoeso9y25dgv', 'httpstcoestl9bkiyv', 'httpstcoesz9scdzao', 'httpstcoeuej1rpwuj', 'httpstcoeuir5wfkca', 'httpstcoevlw3kf6v', 'httpstcoevqyqd7ffl', 'httpstcoewpqrcc817', 'httpstcoeyv68jvgxj', 'httpstcoezqkccdlqn', 'httpstcof20kegnzrl', 'httpstcof2bc5igpvo', 'httpstcof2rw5zdshd', 'httpstcof47bx1wyki', 'httpstcof6us6yutfq', 'httpstcof7eierrjkt', 'httpstcof8lulsdz04', 'httpstcof8vfogntco', 'httpstcof9bwoytwvg', 'httpstcofc9t0gbuhx', 'httpstcofclluldktk', 'httpstcofclzitsweo', 'httpstcofdi5yz2a6m', 'httpstcofeglco5gun', 'httpstcofer6wwr7fc', 'httpstcofgvqhgwc58', 'httpstcofgzktgbjq6', 'httpstcofh09qifrdh', 'httpstcofhj9vlbq5r', 'httpstcofhmq51xdjw', 'httpstcofhrlh3haa9', 'httpstcofhtmlunack', 'httpstcofhw6avwslu', 'httpstcofiup9zphwo', 'httpstcofiymwvlnar', 'httpstcofkue1gsy1z', 'httpstcoflbrxiqi6a', 'httpstcofmf9ged4km', 'httpstcofnu3wqtnd3', 'httpstcofopmo6q4ur', 'httpstcofotu0dxvup', 'httpstcofow8wqhbka', 'httpstcofp0yajwe9n', 'httpstcofpkkytclij', 'httpstcofqknaemwgu', 'httpstcofs7tdpbfsp', 'httpstcofsy9srernq', 'httpstcoftcnk40ssm', 'httpstcofzflfmwopo', 'httpstcofzp3zsaqyn', 'httpstcofzvdm86ntf', 'httpstcog09yb45hzq', 'httpstcog0hzwjpurg', 'httpstcog6qbwtrwga', 'httpstcogahnnos8eu', 'httpstcogasahdy1u9', 'httpstcogbdmfiztsk', 'httpstcogbftwzax5f', 'httpstcogdce6nyj6i', 'httpstcogddwywahp4', 'httpstcogdesyev6cc', 'httpstcogfpx3df7y8', 'httpstcogghuh49wmi', 'httpstcoggjxqokinp', 'httpstcoggucszbsxr', 'httpstcogjfgwn1gcq', 'httpstcogk95auonyf', 'httpstcoglezs0jt7p', 'httpstcoglfsbvjxso', 'httpstcognraozl2zh', 'httpstcogo0zwhqt8d', 'httpstcogos2e6k7ba', 'httpstcogp8mbyxeqt', 'httpstcogprzz9ru08', 'httpstcogq9outmsd4', 'httpstcogqk1h9bplr', 'httpstcogt73oaevoh', 'httpstcogts6lu5tnr', 'httpstcogtxlhi6lt', 'httpstcogxoftztum9', 'httpstcogxya6brhfl', 'httpstcogyclie4vhl', 'httpstcogyh0xlimff', 'httpstcogykdblzsr5', 'httpstcogyvwr4hg0h', 'httpstcogzszv8qdp1', 'httpstcoh0tw5auhlg', 'httpstcoh1tcmssnjb', 'httpstcoh3jz6pjmta', 'httpstcoh3t8onsbo', 'httpstcoh45eoihqmh', 'httpstcoh4f3dhx6i9', 'httpstcoh5x6sei7od', 'httpstcoh7tpm4gwmk', 'httpstcoh8cjpqe2', 'httpstcoh8ijwaxp76', 'httpstcoh9i17a12yx', 'httpstcohbayeuqajd', 'httpstcohblrytdmtt', 'httpstcohczufdnrbc', 'httpstcohdf05qrhiu', 'httpstcohe7xqif7cf', 'httpstcohf3tyz8li1', 'httpstcohjbhwul4pv', 'httpstcohm1ccy2pln', 'httpstcohmtp66wt6w', 'httpstcohnsuosekx3', 'httpstcoho0yhh1i4b', 'httpstcohocwlvumq1', 'httpstcohou5tl7roj', 'httpstcohoypozoy93', 'httpstcohpfqgy1yuf', 'httpstcohpzanzzkzi', 'httpstcohqep6odmnw', 'httpstcohrow4kecko', 'httpstcohrx0n07gtj', 'httpstcohtaq0sxygw', 'httpstcohtryoqhyq7', 'httpstcohttpdhck9w', 'httpstcohvhfodh1ai', 'httpstcohwhjoi3lw5', 'httpstcohwhyyevln4', 'httpstcohwpuuidyd5', 'httpstcohxsovlrngb', 'httpstcohyakwdur3o', 'httpstcoi5lwefylxm', 'httpstcoi7gsr6qw1m', 'httpstcoiawwhc0abh', 'httpstcoibllxngn6r', 'httpstcoicgwb6puwo', 'httpstcoicjzbgikkg', 'httpstcoidxc7gqulf', 'httpstcoiewa0fhu09', 'httpstcoigesfw6leg', 'httpstcoigikg8yrxi', 'httpstcoihd8nqh1u9', 'httpstcoihihujkfek', 'httpstcoihyjn6az2i', 'httpstcoiiqto9dkut', 'httpstcoijwbaebocj', 'httpstcoiklrksjqn5', 'httpstcoilctlfatmt', 'httpstcoiluaoazwju', 'httpstcoimkcke7z3n', 'httpstcoinstarq4w', 'httpstcoipc3bfdrsl', 'httpstcoipwddkwnuf', 'httpstcoirx8jrn9uk', 'httpstcoit0sbqlkqc', 'httpstcoitndng8wsf', 'httpstcoitu0ssebug', 'httpstcoiv291y1aiu', 'httpstcoivlpjaimhi', 'httpstcoivvkwm8ymi', 'httpstcoiwchoikwr3', 'httpstcoiwtbu2mfyr', 'httpstcoixgzzoaatx', 'httpstcoixikyo5e4z', 'httpstcoixjnhrirwi', 'httpstcoixkk2ofku', 'httpstcoiyxfpxdcbq', 'httpstcoj25lllqmto', 'httpstcoj2equhxb66', 'httpstcoj2zolk2fma', 'httpstcoj3gzqu9pqa', 'httpstcoj8pzbx8p6v', 'httpstcoj8tp5su3ht', 'httpstcojaqq6zqkdc', 'httpstcojb7mkkvqdd', 'httpstcojc6dcitrx2', 'httpstcojcpt6xyjzm', 'httpstcojdnhozn0oa', 'httpstcojdqwlwpbq5', 'httpstcojdre4qvhvj', 'httpstcojdtxrcqg2v', 'httpstcojgdy8z8gmh', 'httpstcojgfkumdvyi', 'httpstcojgq7umgzgi', 'httpstcojh2nndxm00', 'httpstcojjpc1puyum', 'httpstcojkeufaeydp', 'httpstcojkukx2ke3r', 'httpstcojlgbaxvtkj', 'httpstcojlnocxclmg', 'httpstcojnmlxmguo', 'httpstcojogvkdfeln', 'httpstcojokzxoverh', 'httpstcojosupjdg7k', 'httpstcojovwcjqzeh', 'httpstcojoyiuoroh', 'httpstcojpwhjdpxsu', 'httpstcojqle5pexa4', 'httpstcojqydabxwf7', 'httpstcojr2dh5kofq', 'httpstcojrph4afcin', 'httpstcojrwbq3pngc', 'httpstcojrxsp95w4q', 'httpstcojs4tewsguh', 'httpstcojt7hmcgny', 'httpstcojtheq7sb9d', 'httpstcojtnnxayhrl', 'httpstcoju8ess8cuj', 'httpstcojvzrofbrvb', 'httpstcojw8swvtltq', 'httpstcojyucag59jq', 'httpstcojz7tpghojn', 'httpstcok2zkx0kie3', 'httpstcok34o7qqbnp', 'httpstcok6brnizpdi', 'httpstcok6xzd2bs7m', 'httpstcok7ndmjyqbi', 'httpstcok7yxc6cht5', 'httpstcok8npxuuki8', 'httpstcokabz74dxon', 'httpstcokbirk356nn', 'httpstcokbmt3ojtnm', 'httpstcokcwnh9i9sf', 'httpstcokdk3qkppmc', 'httpstcokf6e0am2kb', 'httpstcokffqrjrqvb', 'httpstcokft1w7g4lu', 'httpstcokggcynsmwa', 'httpstcokjfcbbihjp', 'httpstcokjpogu24it', 'httpstcokjzgnss9y0', 'httpstcokkhkdgvbb1', 'httpstcoklx7tdi88x', 'httpstcokm1p7dnpr4', 'httpstcokmp1urxpuo', 'httpstcokmuznuomey', 'httpstcoknbo1qjpfq', 'httpstcoknqnghd6ma', 'httpstcoknvilhwpgb', 'httpstcokpg9gtylsq', 'httpstcokrppxbgqqk', 'httpstcoks6eqjapqi', 'httpstcoksychtfodv', 'httpstcoktstr2m5yi', 'httpstcokwdnn0uxmn', 'httpstcokxjjlgwmy5', 'httpstcokxtlvcsnst', 'httpstcokzbzzlzn5c', 'httpstcol3uzhzaidt', 'httpstcol4gcxplvsi', 'httpstcol4mhqa7upb', 'httpstcol86yujnipi', 'httpstcol977bmopel', 'httpstcol9zkm8twqz', 'httpstcolakv7l5brm', 'httpstcolb223yt804', 'httpstcolbd4stauna', 'httpstcolbew6a8gsu', 'httpstcolcs564yavr', 'httpstcold04jbxpsw', 'httpstcolfirt3mqxv', 'httpstcolgylhxfmc0', 'httpstcoli5nturtjh', 'httpstcolijub1fwym', 'httpstcoll4zbfj6vc', 'httpstcolliavntc9r', 'httpstcolmaahz5ybr', 'httpstcolmdqyovvl9', 'httpstcolmivlno9zr', 'httpstcolmp8ss9czw', 'httpstcolnjbg0cmn', 'httpstcolqtqqyt5mx', 'httpstcolrvirfnywc', 'httpstcoluq7bwf0mh', 'httpstcoluraa7vj2c', 'httpstcoluzvtvhqzm', 'httpstcolwpdzh4kyi', 'httpstcolxigtfhnyz', 'httpstcoly2nor8i6m', 'httpstcolyf2gfihav', 'httpstcolypd9fhvlx', 'httpstcolyyuk5w3yp', 'httpstcolznfvtycr7', 'httpstcolzv1sgvsvl', 'httpstcom2mwuq78mg', 'httpstcom3h6iyav3k', 'httpstcom4tvqnlcnm', 'httpstcom5ytgxf7ym', 'httpstcom688oiseqd', 'httpstcom80vlqskfq', 'httpstcomamryi4lj1', 'httpstcomass98crri', 'httpstcomboskllti5', 'httpstcomc2d0l1xrw', 'httpstcomdanih1v5h', 'httpstcome5kez2lh2', 'httpstcomfrjlnuopt', 'httpstcomftlolyolu', 'httpstcomgstnsl32x', 'httpstcomgxbfxvk1j', 'httpstcomhp3nbjn9', 'httpstcomjlq4d3rwm', 'httpstcomjqcrfiqkb', 'httpstcomkagtigntv', 'httpstcomkmcvi1dkl', 'httpstcomll94mdiwz', 'httpstcommrkgwkdhp', 'httpstcommru9q2jbi', 'httpstcomowbfucy7i', 'httpstcomp0zk3boqr', 'httpstcompplaahj3x', 'httpstcompy2qdid9o', 'httpstcomrcygxna6g', 'httpstcomrdf4m2rgm', 'httpstcomrtgu1nzsl', 'httpstcomsdk9vygcj', 'httpstcomsnlgmpaol', 'httpstcomtl9l8rnev', 'httpstcomvsvcwdtxb', 'httpstcomwb4zuqjjo', 'httpstcomxk2y5brhf', 'httpstcomy5jlwsxud', 'httpstcomynhu4trvi', 'httpstcomyvdqpm7r4', 'httpstcomyyi0qn04g', 'httpstcomzlm3v0ki', 'httpstcon28ufhjpaq', 'httpstcon2d0xw6krz', 'httpstcon2e6p5luuw', 'httpstcon2fe3bxfzh', 'httpstcon4yqbge3m', 'httpstcon6d0dgje0v', 'httpstcon6ljsys9t2', 'httpstcon8diph71tu', 'httpstconavczrnhl3', 'httpstconb3amxxo6z', 'httpstconctmpw0ba3', 'httpstconf1gerzfun', 'httpstconfcteddnmh', 'httpstcong5qq85s3m', 'httpstconhax6irai5', 'httpstconhpahrisgp', 'httpstconhsvjdpa0w', 'httpstconiyyitetug', 'httpstconjovod2dsn', 'httpstconkalr6x1z0', 'httpstconkidutk1ag', 'httpstconkj1g5q9ri', 'httpstconok4aklk3a', 'httpstconpcumuigef', 'httpstconpfe5lge1a', 'httpstconpgbukjhbl', 'httpstconqjs18mgzl', 'httpstconr3dbkmysp', 'httpstconr5ni3chy4', 'httpstconr6udhtjm', 'httpstcons9d2v1vba', 'httpstconskyrpea6b', 'httpstconsylbiszna', 'httpstcont7v9hkz3o', 'httpstcontjzmgmydp', 'httpstcontplsnrafn', 'httpstconum7njo85j', 'httpstconw0imihxpb', 'httpstconxduwheyyj', 'httpstconxvfsjer13', 'httpstconyebnjz9iq', 'httpstconyvohe5tsi', 'httpstconz9kigfbn2', 'httpstconzhkfztpx', 'httpstcoo22esavphf', 'httpstcoo5ido16day', 'httpstcoo5tsdoy6zj', 'httpstcoo84k23wblm', 'httpstcooamiwkxmgm', 'httpstcoob8ruct0pk', 'httpstcoobfpzv9c27', 'httpstcoockxeddtcn', 'httpstcoocqae5drec', 'httpstcooe6jhuulm9', 'httpstcooeey3veeb4', 'httpstcoofhq1oxs4n', 'httpstcoofmfg5uwf', 'httpstcoofxsjpxz6p', 'httpstcooheor1ejhp', 'httpstcoohzdqrzejj', 'httpstcooik46bq0li', 'httpstcoojfrwo2glw', 'httpstcookq8sxesiv', 'httpstcoomasebul3l', 'httpstcoomq1u70jz4', 'httpstcoopwuhvzs5d', 'httpstcooqc4s2tv3z', 'httpstcoorud3ekbut', 'httpstcoorznq4ra90', 'httpstcoos7mfkm1eh', 'httpstcooswxdojogr', 'httpstcoot4yk1wuoo', 'httpstcootfyqinqgv', 'httpstcootrxa96zfu', 'httpstcoou16d36it9', 'httpstcooueqdvczdd', 'httpstcoovcxbizfdj', 'httpstcoovrho1wvs6', 'httpstcooxyrjroudp', 'httpstcooyguvk0le4', 'httpstcooyjavnzdna', 'httpstcooziku5a3j3', 'httpstcop0ir0pift3', 'httpstcop0nrthhzqz', 'httpstcop2al8fboay', 'httpstcop2yco15lgo', 'httpstcop6oxc1fnh6', 'httpstcop7t3kzdyer', 'httpstcop8px0sqn4q', 'httpstcop91qrjk7zg', 'httpstcop96wkiy9zc', 'httpstcopaynbue7t3', 'httpstcopb8uasa3sa', 'httpstcopbmkt2wxcg', 'httpstcopc8hbowbwn', 'httpstcopdildcmmdc', 'httpstcopdoheao9w6', 'httpstcopeme43mdfn', 'httpstcopfocmykcvb', 'httpstcophsuxdc7hp', 'httpstcophz8wpvtn0', 'httpstcopiufk3cdna', 'httpstcopiz1hi72jt', 'httpstcopkikecf1ux', 'httpstcopnam80x8tn', 'httpstcopntoznv3jk', 'httpstcopo2quiakbh', 'httpstcopoi6gl8iyv', 'httpstcoponztf3vft', 'httpstcoppddpyyiri', 'httpstcopqipgcl9wc', 'httpstcopqqkry5ny9', 'httpstcopqslfajac', 'httpstcopr7gbu3f04', 'httpstcoptjukxxkk4', 'httpstcoptubxymebp', 'httpstcoptv8wrfg9u', 'httpstcopuml0rsj8d', 'httpstcopxrazr8xo1', 'httpstcopybcdhk9rp', 'httpstcopz1j7srhmm', 'httpstcopzhx72iq33', 'httpstcopzu3ng1vmp', 'httpstcoq0iipbcctw', 'httpstcoq0oikdrfgg', 'httpstcoq3zob59dwu', 'httpstcoq7lhmg9bmb', 'httpstcoq9rmigv11r', 'httpstcoqaggznh4uk', 'httpstcoqb0t28tdtq', 'httpstcoqb95jqtuvd', 'httpstcoqczodmndjj', 'httpstcoqdhjd4aoy', 'httpstcoqdj5vmkuwu', 'httpstcoqdjxfnh9ji', 'httpstcoqdt2txjrgl', 'httpstcoqdxcmza3bv', 'httpstcoqeimkjiqyy', 'httpstcoqein9qwqol', 'httpstcoqfnrpqe4t2', 'httpstcoqfzdfohgpp', 'httpstcoqgkbwg220b', 'httpstcoqgwo4mcpjt', 'httpstcoqgyot0yvzn', 'httpstcoqid3m3t4fq', 'httpstcoqj7zbiiia6', 'httpstcoqjrbjbdrv0', 'httpstcoqjzmsogwyo', 'httpstcoqklwlqjifd', 'httpstcoqkysnjcskw', 'httpstcoqlhytdtuy3', 'httpstcoqm2ctalgea', 'httpstcoqnijn705t9', 'httpstcoqnooqf1xmm', 'httpstcoqnsa7r8don', 'httpstcoqogirkkqs', 'httpstcoqot0l2xucd', 'httpstcoqqh8dbzpub', 'httpstcoqr4rblxwnf', 'httpstcoqr5bho3ejh', 'httpstcoqtvitueusn', 'httpstcoquwkbsmdmf', 'httpstcoqvsxcayny7', 'httpstcoqygdqtlvgt', 'httpstcoqziorlabwr', 'httpstcoqzv4saerzq', 'httpstcor14llnhb2w', 'httpstcor3t1sszogo', 'httpstcor3zicsbwcc', 'httpstcor5vbp61wqi', 'httpstcor5vo6fuylg', 'httpstcor7ml9nj9lo', 'httpstcor7o2hxomyv', 'httpstcor9bsbxelcb', 'httpstcorag69bzvk', 'httpstcorbhltiqx8a', 'httpstcorbmmn3po5v', 'httpstcorcxh00hmqi', 'httpstcore0xb2vbz0', 'httpstcorf4pslggab', 'httpstcorfp5dcojw4', 'httpstcorgsyaedoci', 'httpstcorhuhh0jm97', 'httpstcoriozv4axxn', 'httpstcorkcrhmvit4', 'httpstcorkcvwo6k2p', 'httpstcorlzk8c5ata', 'httpstcorm46e0v8gi', 'httpstcormj8q7zfkl', 'httpstcormxjlczif6', 'httpstcornarscdjil', 'httpstcorolwlcnfew', 'httpstcorpg0ytemsu', 'httpstcorqftymktm9', 'httpstcorsfg9abopb', 'httpstcorssxorvwmg', 'httpstcortnrjp6oqn', 'httpstcortxwav5pan', 'httpstcoru1ilm02cg', 'httpstcoruvegs5egz', 'httpstcoruxbhhsidi', 'httpstcorvquoky5tq', 'httpstcoryqo5z3jhk', 'httpstcorzz6b6brrw', 'httpstcos0zduif3k2', 'httpstcos1t6jccyoj', 'httpstcos3gmguc9sf', 'httpstcos3j7vxdgy9', 'httpstcos48gvdstqa', 'httpstcos5lrpfeaiz', 'httpstcos6uszeucpm', 'httpstcos6vtp56sbr', 'httpstcos8gt62d2um', 'httpstcos8zkriahbq', 'httpstcosca1n4ayuq', 'httpstcoscmuhk60vn', 'httpstcoscnzxhptgu', 'httpstcose4qjvm6z2', 'httpstcosi9sz9cxpv', 'httpstcosiaunzx3f8', 'httpstcosikakpfu0o', 'httpstcosj0n2cdqw4', 'httpstcosj1zr4xd52', 'httpstcosjk5exqq1t', 'httpstcosjyt8nxfat', 'httpstcosktacgrukw', 'httpstcoskukeuexpm', 'httpstcoslv8b53ggj', 'httpstcoslz0pbxvi', 'httpstcosmknizeyip', 'httpstcosmokpqawtf', 'httpstcosn49k4qc8o', 'httpstcosnelwpuby7', 'httpstcosnrtupk8po', 'httpstcosnvhxo1qgg', 'httpstcosnvl20jkaf', 'httpstcosoiiictqnr', 'httpstcosopg4xegjf', 'httpstcosp5h61ese', 'httpstcosqkc7wsbio', 'httpstcosraxlq5vc', 'httpstcosrdnowtcyu', 'httpstcosrfcmyssvn', 'httpstcosrldb2o7pm', 'httpstcoss6ygoof2f', 'httpstcossx0gcjaki', 'httpstcostnysj1cx', 'httpstcostzxyjgymr', 'httpstcosw5acho2rh', 'httpstcosx2wyozlpj', 'httpstcosxe1fctdy4', 'httpstcosyqnwjmzzx', 'httpstcoszexxfm9bt', 'httpstcoszzjjmc71', 'httpstcot1g10gvbt', 'httpstcot2okbgyqsz', 'httpstcot31ekfpq93', 'httpstcot3lufzpnhx', 'httpstcot3v91hjq8m', 'httpstcot4benvtkul', 'httpstcot4tf9ynf4c', 'httpstcot528zfgtmn', 'httpstcot606fvecbz', 'httpstcot6fblcy27j', 'httpstcot7ui6snzek', 'httpstcot84i2mbiun', 'httpstcot9bil1adqz', 'httpstcot9imltiuel', 'httpstcot9oxzgtx4h', 'httpstcot9zid3kv0c', 'httpstcotakzfgo7zx', 'httpstcotaqf8volq', 'httpstcotaqkhp22jf', 'httpstcotavirrwpkc', 'httpstcotbclt4f9zn', 'httpstcotcovytrn9i', 'httpstcotdwglg6tpw', 'httpstcote2xm3np15', 'httpstcotfckevyktq', 'httpstcothqx1u2vrx', 'httpstcothtcylrmtn', 'httpstcotism9yrbeb', 'httpstcotjqhmyuz6i', 'httpstcotku6hpx2', 'httpstcotl9v2shaai', 'httpstcotlieahzlsd', 'httpstcotmtdstsjzh', 'httpstcotodcuwv0e7', 'httpstcotqb5u4g3ru', 'httpstcotqwfwbeq8c', 'httpstcotu6j8j44kl', 'httpstcotw2m5h2tnt', 'httpstcotw6q3kan5q', 'httpstcotwfjucykc1', 'httpstcotxqbyqdzsl', 'httpstcoty35u7vfah', 'httpstcotyjw6gyijd', 'httpstcotzfefrum9', 'httpstcou09m0mpdu', 'httpstcou19ugciklw', 'httpstcou1ottqcvlu', 'httpstcou3unicyadi', 'httpstcou4fnmegdup', 'httpstcou6ve2en6q8', 'httpstcou8sf3qyyqc', 'httpstcouauwsml5or', 'httpstcoubvaih1mjp', 'httpstcoubw87pouan', 'httpstcoubyqk3xyk7', 'httpstcoubz0qtqpqz', 'httpstcouczjzmnfyf', 'httpstcoud2auxd5', 'httpstcoudqn1rpspf', 'httpstcoudxvqdi2no', 'httpstcoufbrxo4nqf', 'httpstcouglltz05xk', 'httpstcouhcezifc7t', 'httpstcouk0qph305h', 'httpstcoulkq53tiv5', 'httpstcoulurhrsqwi', 'httpstcoulutsyz4lk', 'httpstcoum0imlludj', 'httpstcoumgkc3ot0d', 'httpstcoumkzw0yvo0', 'httpstcoun7wlrhkna', 'httpstcouocn4jhqwb', 'httpstcoupvwgqkpez', 'httpstcouriy2wnepi', 'httpstcourxfsarxc4', 'httpstcousyuegvzb9', 'httpstcouui9tmgnxt', 'httpstcouwftrbqvyh', 'httpstcouwfykmcz5p', 'httpstcouwvuz7i9v9', 'httpstcouy5r7w0a9r', 'httpstcouyp6thrhbm', 'httpstcouyqqympqbh', 'httpstcov2cxkrcpvi', 'httpstcov3tojtyjqd', 'httpstcov534v2bsnc', 'httpstcov76kmjplkx', 'httpstcov8xuiirj87', 'httpstcov9rrdrv5jz', 'httpstcovbgwifasea', 'httpstcovbov65a1jz', 'httpstcovbynlzmuqo', 'httpstcovcdtpo4nb7', 'httpstcovcqxjwcrfr', 'httpstcovdczjrh87j', 'httpstcoveig9f8bpl', 'httpstcovekuwvpahh', 'httpstcovfadk3gb6i', 'httpstcovgetzu1k9z', 'httpstcovgzrkc1wwc', 'httpstcovh8rzk17p4', 'httpstcovh9qgloqrr', 'httpstcovhb2r8q5am', 'httpstcovhf2qdgetx', 'httpstcovhhnid4xqm', 'httpstcovhv9ame2i2', 'httpstcovkmbzf7wc0', 'httpstcovktvhlb0el', 'httpstcovl5ysahkxa', 'httpstcovlxoltnhwo', 'httpstcovmkww0q2gq', 'httpstcovnm71za5m0', 'httpstcovnv2ldposj', 'httpstcovnvszikvoc', 'httpstcovnynwsdb9f', 'httpstcovp03plbbr7', 'httpstcovppidzey2b', 'httpstcovpqbi71cn5', 'httpstcovpzbekanay', 'httpstcovs90o0nbto', 'httpstcovsh31g6vpl', 'httpstcovtqzs8r1rl', 'httpstcovtwpvixgkz', 'httpstcovtwtstrorc', 'httpstcovu27gw28in', 'httpstcovublq6wawm', 'httpstcovui3aaz3z6', 'httpstcovuof6zibbm', 'httpstcovve1osjejv', 'httpstcovvpdx19fim', 'httpstcovzvmpcj3hv', 'httpstcow1djd9yzkm', 'httpstcow4ax9gcawo', 'httpstcow5bxpzmtuo', 'httpstcow7pgvntvw', 'httpstcowabhnsmdd6', 'httpstcowb1xbztqqn', 'httpstcowcmsrzdv51', 'httpstcowdnmbshqfr', 'httpstcowejk5iwilc', 'httpstcowfi6bx6p79', 'httpstcowflk2bilxi', 'httpstcowirwfhou4i', 'httpstcowj0glsts7w', 'httpstcowjzxyjg5iq', 'httpstcowlhy8wmfhl', 'httpstcowmrbimab2g', 'httpstcown528crdwt', 'httpstcowo4wo77xm2', 'httpstcowpkspxtdc9', 'httpstcowpllsit0kd', 'httpstcowqjw1nfwcb', 'httpstcowsnmjekhmo', 'httpstcowsosmmrtbl', 'httpstcowt09cxhcaa', 'httpstcowuuplby1uj', 'httpstcowvjrzxajgi', 'httpstcowwgzvnrpjq', 'httpstcowwogoegeac', 'httpstcowy69jze1zc', 'httpstcowyhpdhbcq1', 'httpstcowzdrbf6q3m', 'httpstcowzvufmyxid', 'httpstcox2y212dkup', 'httpstcox3emciegkd', 'httpstcox4bebdkova', 'httpstcox4p8uwpivg', 'httpstcox56decpc0n', 'httpstcox62xhksp5f', 'httpstcox7ibz3xuhm', 'httpstcox7zx3pfsfv', 'httpstcox8aoof81ho', 'httpstcox8uurri5oy', 'httpstcoxaapgicva3', 'httpstcoxaxuscw6kp', 'httpstcoxbqfoebs2r', 'httpstcoxcrufbsg5a', 'httpstcoxdbiszjw1u', 'httpstcoxddm5pf3d', 'httpstcoxe33rnf9oo', 'httpstcoxeefqwvkbf', 'httpstcoxesvznpwj2', 'httpstcoxfn5abbrit', 'httpstcoxfrvqn5ceu', 'httpstcoxfryo6yqth', 'httpstcoxg2cmw3szm', 'httpstcoxgb8ynuklt', 'httpstcoxgw221z7zq', 'httpstcoxiizqtsr9z', 'httpstcoxivngafghi', 'httpstcoxjkykw636q', 'httpstcoxlbsoh30io', 'httpstcoxlnmwh85oj', 'httpstcoxnciwuqcxw', 'httpstcoxng9dhji4', 'httpstcoxnufe4mmwc', 'httpstcoxnxlvbbkyr', 'httpstcoxorkl6jcgv', 'httpstcoxrd9acgjgj', 'httpstcoxrkh9oamyb', 'httpstcoxthmthjpto', 'httpstcoxtxseusdj9', 'httpstcoxunovzzdtm', 'httpstcoxuzpa1rzzt', 'httpstcoxv6bg2vfq4', 'httpstcoxvevamgjgi', 'httpstcoxvxpmrm3no', 'httpstcoxwnsg7vcei', 'httpstcoxwoypkslri', 'httpstcoxwvnxyfunq', 'httpstcoxxmuldcqlg', 'httpstcoxxtf4agbqb', 'httpstcoxxxszgejwt', 'httpstcoxyrzbcfwoq', 'httpstcoxzogadbp4d', 'httpstcoxzqq8zekqj', 'httpstcoxzwezxleja', 'httpstcoy1omm2ztlf', 'httpstcoy2s3hz1817', 'httpstcoy3ixctmmey', 'httpstcoy7gteavf58', 'httpstcoy8lnj3lgov', 'httpstcoyafnd9cior', 'httpstcoyaklj6rwyz', 'httpstcoybkxlwpuow', 'httpstcoybrips5tw8', 'httpstcoycddh7u8pu', 'httpstcoycdl2qklni', 'httpstcoydprlkg4hw', 'httpstcoydtazxvv5g', 'httpstcoyeqyacal3c', 'httpstcoyfjvxrlf9n', 'httpstcoyi5rzo6rwz', 'httpstcoyifg5issu', 'httpstcoyjguw9c133', 'httpstcoyjkjnlqnyw', 'httpstcoykiuxexnrt', 'httpstcoym6u32ngfp', 'httpstcoynay98tg4b', 'httpstcoynvyv7enuk', 'httpstcoynzefgafiy', 'httpstcoyq7umjzvin', 'httpstcoyqvbpliwdv', 'httpstcoyqz0yffegc', 'httpstcoyrkoycbsl', 'httpstcoyrndlr6zh0', 'httpstcoyrv8tyelk7', 'httpstcoysim9d7hdi', 'httpstcoytpwpwdbg', 'httpstcoyu4r1mhcjo', 'httpstcoywky7cxgbd', 'httpstcoyx312g9r4i', 'httpstcoyyfhsr2qsb', 'httpstcoyyoucaecgq', 'httpstcoyz9pvhlfdq', 'httpstcoz2jnfclvgk', 'httpstcoz3obr6rrya', 'httpstcoz5czqofiyv', 'httpstcoz932f40vxn', 'httpstcoz9451amjmw', 'httpstcoz9l9tvcek', 'httpstcoz9peeqtzc', 'httpstcozalf1rkfgt', 'httpstcozbdz8vnt71', 'httpstcozdnwhb0ezl', 'httpstcozdvowdckrx', 'httpstcozeu9qttta7', 'httpstcozfksmvxap5', 'httpstcozfq3kf9r6r', 'httpstcozg9e18bg21', 'httpstcozhywt7pg5v', 'httpstcozi0urmutl5', 'httpstcozie2dckwsg', 'httpstcozj5yvdq6w8', 'httpstcozjy1detl', 'httpstcozk7xmtj9xc', 'httpstcozkvrbayrqw', 'httpstcozl8ig3vbau', 'httpstcozmvfhhyhli', 'httpstcoznjk3bz6mo', 'httpstcoznphy0ralc', 'httpstcozosnzc4rnc', 'httpstcozpubapi464', 'httpstcozsy1cshedk', 'httpstcoztbmsxxp3x', 'httpstcoztotop5a2o', 'httpstcoztwr6xeqot', 'httpstcozwtkplh6ht', 'httpstcozwtxnyi6r1', 'httpstcozx134tvlaf', 'httpstcozxoxqotnii', 'httpstcozyenraseir', 'httpstcozyhob4ukc', 'httpstcozzxzhasdjn', 'httpstcozzywdw6xbn', 'hu', 'huang', 'hubaux', 'hubbl', 'hubert', 'humain', 'human', 'humanbrainproj', 'humanitarian', 'humanité', 'humanum', 'humbl', 'hundr', 'hunt', 'hwurcc', 'hybrid', 'hybridesdenken', 'hydro', 'hydrogener', 'hydropow', 'hypocr', 'häuschen', 'hélico', 'i2cat', 'ia', 'ibm', 'ibmresearch', 'ic', 'ich', 'iciq', 'icrc', 'ict4dev', 'ict4develop', 'ictjournalch', 'ictpnew', 'ictproposereu', 'icymi', 'id', 'idea', 'ideal', 'ident', 'identifi', 'idiap', 'idiapch', 'idrrim', 'idsia', 'idtechexshow', 'idé', 'ieee', 'ieeeasm', 'ieeeorg', 'ignobel', 'igs100', 'iheid', 'ihr', 'iitalk', 'iitdelhi', 'iitmadra', 'ijspeert', 'il', 'ill', 'illustr', 'illustré', 'im', 'imag', 'imagejop', 'iman', 'imboden', 'imd', 'imdbschool', 'imdeanano', 'imdepfl', 'imecint', 'imit', 'immers', 'immersiatvpart', 'immun', 'immunitair', 'immunotherapi', 'immunotherapyawar', 'impact', 'impair', 'impati', 'imperi', 'imperialcolleg', 'implement', 'import', 'impost', 'impress', 'impression3d', 'impressionnant', 'improbresearch', 'improv', 'imversech', 'inactiv', 'inappropri', 'inaugur', 'includ', 'incontro', 'incorpor', 'increas', 'incred', 'incubateur', 'inde', 'independ', 'independant', 'indian', 'individu', 'indoor', 'induc', 'industri', 'industrietag', 'inequ', 'inertialbas', 'infect', 'infiltr', 'infini', 'infirmi', 'inflight', 'influenc', 'info', 'inform', 'informat', 'informatik', 'informatiqu', 'infosci', 'infra', 'infrastructur', 'ingénieur', 'inherit', 'initi', 'initié', 'inject', 'innat', 'innoc', 'innose', 'innosuiss', 'innov', 'innovant', 'innovaud', 'innova…', 'input', 'inriabordeaux', 'ins2017', 'inscript', 'inscrir', 'inscrit', 'inscrivezv', 'inscrut', 'insect', 'insectmicrob', 'insid', 'insight', 'insiscnr', 'inspect', 'inspector', 'inspir', 'insta', 'instagram', 'instal', 'institut', 'int', 'integr', 'intel', 'intellectuel', 'intellig', 'intelligenceartificiel', 'intelligenz', 'intens', 'intent', 'intentionné', 'interact', 'intercité', 'interconnect', 'interdisciplinair', 'interessant', 'interest', 'interiordesign', 'interministériel', 'intern', 'internet', 'internship', 'interpret', 'interview', 'intestin', 'intracrani', 'introduc', 'introduct', 'introductori', 'intéress', 'intéressé', 'inv', 'invas', 'inventé', 'invest', 'investglass', 'investig', 'investor', 'invit', 'involv', 'io', 'ion', 'iot', 'iplf', 'irak', 'iranian', 'irem', 'irem\\u200b', 'iro', 'irrat', 'irrespect', 'isabel', 'isadilenardo', 'isbsib', 'iso', 'isrec', 'issu', 'ist', 'it4lif', 'itapechino', 'itenova', 'iterlik', 'itfa', 'itfaconfer', 'itw', 'iucn', 'ive', 'j', 'j2blather', 'j2bryson', 'jacqu', 'jai', 'jamai', 'jamesgleick', 'jameslaru', 'jami', 'jan', 'janetgh', 'januari', 'janv', 'janvier', 'japan', 'japanimpact', 'jaqu', 'jattali', 'jazz', 'jcangelini', 'jchenal', 'jdmrt', 'je', 'jeanclaudebadoux', 'jeandaniel', 'jeanphilipp', 'jeanpierr', 'jede', 'jeffrey', 'jenmccutcheon', 'jesusmessiah7', 'jet', 'jetzt', 'jeu', 'jeudi', 'jeuness', 'jeux', 'jfellay', 'jiep', 'jilasci', 'jimharri', 'jimstolz', 'jmlatt', 'jo', 'job', 'jobinfoforum', 'joe', 'joetheshark', 'johan', 'johann', 'johnantonaki', 'johndeer', 'johnni', 'join', 'joint', 'jonathansobel1', 'jonathonkeat', 'joost', 'jordi', 'jordimontserrat', 'jorgensundberg', 'jose', 'joshconstin', 'jouer', 'jour', 'journal', 'journalism', 'journey', 'journé', 'jovanov', 'joystick', 'joël', 'jp', 'jqinew', 'jr', 'juin', 'juli', 'julien', 'julienguex', 'julio', 'julnicola', 'jure', 'juridiqu', 'jurist', 'jusqu', 'jusquau', 'jusquà', 'justinegdc', 'jvican', 'kakkoii', 'kamiahok', 'karbasi', 'karen', 'karni', 'kathyriklin', 'katsyuba', 'kaufmann', 'kaust', 'kawaii', 'keep', 'kellyannepol', 'kevinschawinski', 'key', 'keynot', 'kick', 'kickoff', 'kickstartacceler', 'kikoh', 'kim', 'kind', 'kinemat', 'kinet', 'king', 'kingconrad', 'kippenberg', 'kiss', 'kit', 'klein', 'klok', 'knecht', 'knight', 'know', 'knowledg', 'knowledgecomscor', 'known', 'koebenhavnsuni', 'konrad', 'kornatowski', 'korrelieren', 'krankheitszuständen', 'ksacceler', 'ktsakmakidi', 'kudo', 'kuka', 'kukaroboticsd', 'kur', 'kurs', 'körper', 'künstlicher', 'l', 'la', 'la2024', 'lab', 'labdigitalhum', 'label', 'labiotecheu', 'labor', 'laboratoir', 'laboratori', 'lac', 'lacadémi', 'lacustr', 'ladhul', 'ladysmith', 'lag', 'lagepoli', 'lahauteecolearc', 'lai', 'lair', 'laisser', 'lake', 'lallianc', 'lancement', 'lancé', 'land', 'landesmuseum', 'landscap', 'landwirtschaft', 'languag', 'lap', 'laperrouza', 'lapp', 'lappel', 'laptop', 'larchitectur', 'larchiv', 'larg', 'largescal', 'largest', 'larsson', 'lart', 'laser', 'laserbas', 'laserplasma', 'lassoci', 'last', 'late', 'latest', 'latsi', 'lattendez', 'launch', 'laupm', 'laureat', 'lauréat', 'lausann', 'lausannemorg', 'lausannoi', 'lavieparisienn', 'lavoir', 'law', 'lc3technolog', 'lcc2018', 'lch', 'le', 'lead', 'leader', 'leaf', 'learn', 'leben', 'lebenswissenschaftenundtechnologi', 'lecercleduth', 'lecorbusi', 'lectur', 'led', 'left', 'leg', 'legal', 'legales', 'legend', 'lehner', 'leila', 'lemaitr', 'leman', 'lemantourism', 'lematinch', 'lematindimanch', 'lemondefr', 'lemoptix', 'length', 'lenssib', 'lentré', 'lenvironn', 'lepfl', 'lepfllesp', 'leprosi', 'lereseau', 'lesoepfl', 'lesopb', 'lespac', 'less', 'let', 'letemp', 'letslivetogetherepfl', 'letter', 'lettresunil', 'leuga', 'leukemia', 'leur', 'level', 'lexosquelett', 'lexpertis', 'lexposit', 'lextensoetudian', 'leçon', 'lharmonis', 'lhistoir', 'lhiver', 'lhonneur', 'lhorizon', 'lhumanité', 'lhwstratocor', 'liaison', 'librari', 'librarian', 'libreinscript', 'licht', 'lie', 'lieu', 'lieux', 'life', 'lifeinnyon', 'lifesci', 'lifespan', 'light', 'lightmatter2017', 'lign', 'like', 'liker', 'lili', 'limb', 'limit', 'limité', 'limplant', 'limport', 'limpress', 'linda', 'line', 'link', 'linnov', 'lintellig', 'linéair', 'lipid', 'lire', 'list', 'listen', 'lithographi', 'live', 'liver', 'livetweet', 'livr', 'lié', 'lmzurich', 'lnco', 'lo', 'loan', 'local', 'locat', 'loccas', 'loch', 'lockedin', 'logiciel', 'logitech', 'logo', 'lombr', 'long', 'longer', 'longsought', 'look', 'lor', 'lordsofmap', 'lore25n', 'lornecanc', 'lorsqu', 'lose', 'lot', 'loutil', 'louvrir', 'love', 'lovedata18', 'lowcost', 'lsm', 'lts5', 'lu', 'luca', 'lucan', 'luciano', 'luck', 'luckili', 'lucmeier', 'lumièr', 'lunil', 'lutolf', 'lyesselaloui', 'lymph', 'lymphoma', 'là', 'lâge', 'léducat', 'lélectrochimi', 'léprouvett', 'létudi', 'lîle', 'lîlot', 'lütolf', 'lʹesprit', 'm2c', 'machen', 'machin', 'machinelearn', 'machinglearn', 'mactar', 'mad', 'maddoxpr', 'made', 'madonna', 'madrid', 'magistral', 'magistrale2017', 'magistretti', 'magnet', 'magnifiqu', 'mahamad', 'mahgenev', 'mai', 'mail', 'main', 'mainten', 'mair', 'maiti', 'maje', 'major', 'make', 'mal', 'maladi', 'maltraité', 'man', 'manag', 'manchu', 'mang', 'mani', 'manif', 'manifest', 'manifesté', 'manoeuvr', 'manquer', 'manquez', 'manu', 'manufactur', 'manyfac', 'map', 'mapkit', 'mar', 'marathon', 'marc', 'marcabraham', 'marcelsalath', 'march', 'marchand', 'marché', 'marco', 'mardi', 'mariag', 'marino', 'marion', 'markboulo', 'market', 'markram', 'martelinnov', 'martialart', 'martian', 'martin', 'martindahinden', 'martinvetterli', 'marzari', 'maschinen', 'maschinenbau', 'mass', 'masschallengech', 'massif', 'massiv', 'master', 'materi', 'materialwissenschaft', 'math', 'mathemat', 'matin', 'matièr', 'matrixbind', 'matter', 'matthia', 'mattia', 'mauric', 'mauricelibrarysecur', 'maxconf2018', 'maxplanckpress', 'maxpriz', 'may', 'mayb', 'mblokesch', 'mbryzek', 'mdeff', 'mean', 'meant', 'measur', 'measurecomput', 'mechan', 'mechanicclock', 'mechatron', 'mechatronik', 'mechdev', 'med', 'medal', 'media', 'mediaroad', 'medic', 'medicin', 'medit', 'medtech', 'meer', 'meet', 'meetlausann', 'meetup', 'mehr', 'meilleurduwebch', 'meinen', 'melenchon', 'melodi', 'member', 'membr', 'memotv', 'mend', 'mendeleïev', 'mensch', 'mental', 'mention', 'mentor', 'menu', 'mer', 'merci', 'merit', 'merri', 'mesnier', 'mesot', 'mess', 'messag', 'messestand', 'mesur', 'met', 'meta', 'metabol', 'metabolis', 'metabolismcontext', 'metal', 'metastasi', 'metastast', 'meteolak', 'meteorit', 'method', 'methyl', 'metoo', 'mettr', 'mettrait', 'mfe', 'mi', 'michael', 'michaelgonin', 'michaeljfoxorg', 'michan', 'michel', 'michielrauws2', 'michigan', 'micro', 'microbi', 'microbiolog', 'microbiologist', 'microbiota', 'microchip', 'microcityn', 'microenvironment', 'micronarc', 'microprojector', 'microscal', 'microscopi', 'microsoft', 'microstructur', 'mieux', 'might', 'migrat', 'mikrotechnik', 'millan', 'million', 'millisecond', 'min', 'mind', 'mindblow', 'mindfram', 'mindfulvr', 'mindmaz', 'mindmazesa', 'mine', 'minh', 'mini3d', 'miniatur', 'miniprojektor', 'minuten', 'mirkobischberg', 'mise', 'miss', 'mission', 'mister', 'misus', 'mit', 'mitochondri', 'mitochondria', 'mix', 'mjf', 'ml', 'mlaniepron1', 'mobil', 'mobilepay', 'mobilis', 'mobilit', 'mobilitätswend', 'mobilité', 'model', 'modernité', 'modestinogroup', 'modul', 'modular', 'modèl', 'modélis', 'moham', 'moi', 'moin', 'moindr', 'molecul', 'molecularscal', 'molsystbiol', 'moment', 'mond', 'monday', 'mondial', 'moniqu', 'monitor', 'montagn', 'month', 'montr', 'montreux', 'montreuxjazz', 'montserrat', 'mooc', 'morn', 'moschaer', 'mossoul', 'mot', 'motam', 'motif', 'motivé', 'mounet', 'mountain', 'mouvement', 'move', 'movement', 'moya', 'moyen', 'moyenag', 'mozz', 'moëll', 'mpagran', 'mpicbg', 'mrd', 'mrhiura', 'msc', 'mscaction', 'mscrobot', 'mubizfr', 'much', 'multi', 'multidimension', 'multijunct', 'multimedia', 'multipl', 'murderparti', 'muscl', 'museebolo', 'museomix', 'museomixch', 'museum', 'musi', 'music', 'musician', 'musictech', 'musiqu', 'muslimban', 'must', 'mustread', 'musé', 'muséecest', 'mutat', 'mwayonlin', 'mxartlab', 'mylausann', 'mynyonregion', 'mystèr', 'myswitzerland', 'myswitzerlandf', 'mytechni', 'mécaniqu', 'médecin', 'mélodi', 'ménage', 'métal', 'métier', 'métro', 'même', 'möglich', 'n', 'na', 'nachhaltig', 'nachweisbar', 'nad', 'nafld', 'nahrungssicherheit', 'naiv', 'namibian', 'nano', 'nanocrystallit', 'nanofabr', 'nanoliveltd', 'nanonmatériaux', 'nanoobjetsnanoparticul', 'nanoparticl', 'nanoparticul', 'nanopattern', 'nanostructur', 'nanotechnolog', 'nanotub', 'napoleon', 'naropen', 'narrow', 'nathanquint', 'nation', 'nationaltrust', 'nationsleagu', 'natur', 'naturecomm', 'natureconf', 'natureenergyjnl', 'natureinspir', 'naturel', 'naturenpj', 'nature…', 'natxopago', 'navig', 'nazi', 'nberpub', 'nccrmarvel', 'nccrrobot', 'ne', 'near', 'need', 'neg', 'neig', 'neighbor', 'neighborhood', 'neighborhub', 'neinzunobillag', 'nemat', 'nemin', 'nespresso', 'nest', 'nestl', 'nestor', 'nettoy', 'nettra', 'network', 'neu', 'neuchatel', 'neue', 'neuen', 'neulich', 'neural', 'neuroconcept', 'neuromodul', 'neuron', 'neuroprothès', 'neurosci', 'never', 'nevertheless', 'nevian', 'new', 'newdawn', 'newest', 'newlycr', 'news', 'newscientist', 'newslett', 'newyear', 'newyearresolut', 'next', 'nextgen', 'nextleap2020', 'nexu', 'nfaivr', 'ng', 'ngi4eu', 'ngiexp', 'nice', 'nicerbettermor', 'nichoir', 'nichola', 'nicholasdemil', 'nicola', 'nicolli', 'night', 'nikola', 'nips2016', 'nissan', 'njit', 'nm2', 'nm2conf', 'no1', 'no8', 'nobannowal', 'nobel', 'nobelpr', 'nobillag', 'noch', 'node', 'noemiematthey', 'noir', 'nois', 'nombreus', 'nombreux', 'nomin', 'nonalcohol', 'noninvas', 'norm', 'normal', 'norman', 'northwesterneng', 'note', 'noth', 'notr', 'notredamesci', 'nottheashleydunnor', 'nou', 'nouveau', 'nouveauné', 'nouveaux', 'nouvel', 'nov', 'novel', 'novemb', 'nrel', 'nsf', 'ntusg', 'nucleosom', 'number', 'numeriqu', 'numériqu', 'nun', 'nutc', 'nutrit', 'nviso', 'nvmt', 'nwo', 'nyon', 'nyutandon', 'nzz', 'nächste', 'nécessit', 'nétiez', 'obes', 'objectif', 'objetsconnecté', 'obligatoir', 'observ', 'observé', 'obvious', 'occup', 'occur', 'ocean', 'ocsdnet', 'ofandebiomim', 'offenheit', 'offer', 'offgrid', 'offic', 'offici', 'often', 'oh', 'ohn', 'old', 'olivi', 'olymp', 'onboard', 'onc', 'oncl', 'ond', 'one', 'oneher', 'oneshot', 'onli', 'onlin', 'onlineschul', 'onlythegood', 'ont', 'on🇪🇺eufund', 'oobliviousrid', 'open', 'openaccess', 'opencon', 'opendata', 'opendatach', 'openfood', 'opensci', 'opensourc', 'oper', 'ophthalmolog', 'opportun', 'opportunité', 'optic', 'opticalfib', 'opticalsocieti', 'opticsorg', 'optimis', 'order', 'ordinateur', 'organ', 'organis', 'organisateur', 'organisé', 'organizers👏👏👏', 'organoid', 'origami', 'origamiinspir', 'origin', 'orovil', 'osaekomi', 'osaopex', 'oscienc', 'oset2017', 'oskarfreysing', 'osspari', 'ou', 'oui', 'outrenoir', 'outsid', 'ouvert', 'ouvertur', 'ouvrag', 'ouvron', 'ovat', 'oveisi', 'overdu', 'overhead', 'overlayjourn', 'overview', 'ownership', 'oxid', 'ozon', 'où', 'p', 'pa', 'packag', 'pagani', 'page', 'paik', 'pain', 'palantir', 'pan', 'panel', 'panneaux', 'paper', 'par', 'paradox', 'paragraph', 'paralysi', 'paralyz', 'parametr', 'parapleg', 'parcour', 'parcouru', 'parent', 'pari', 'pariet', 'paris2024', 'park', 'parl', 'parmelin', 'parrain', 'parrot', 'part', 'partagé', 'partecipa', 'parti', 'particip', 'participatif', 'participez', 'participé', 'particl', 'particular', 'particularli', 'particuli', 'partir', 'partner', 'pasc17', 'pass', 'passion', 'passionnant', 'passport', 'past', 'pasteur', 'pastoureau', 'patent', 'pathbas', 'pathogen', 'patient', 'patrick', 'patrimoin', 'pattaroni', 'pattern', 'paulg', 'paus', 'pavilion', 'pavillon', 'pay', 'payot', 'pbampb', 'pc', 'pdf', 'peac', 'peak', 'pecub', 'pedagog', 'pendant', 'pensé', 'pentacen', 'peopl', 'pepsico', 'percept', 'perditab', 'perform', 'periperson', 'periscop', 'perl', 'perman', 'permet', 'perovskit', 'perriard', 'perrin', 'persist', 'person', 'personalis', 'personifi', 'personn', 'perspect', 'pervert', 'pest', 'pet', 'peter', 'petewarden', 'petit', 'petra', 'peut', 'peuvent', 'pfeifer', 'pfsc', 'pfurrer', 'phantom', 'phbismuth', 'phd', 'phdlife', 'philbati', 'philipp', 'photo', 'photograph', 'photographi', 'photovolta', 'physastro', 'physic', 'physicaltherapi', 'physicien', 'physilog®', 'physiolog', 'physiqu', 'pic', 'pictur', 'pie', 'pierr', 'pierresern', 'pierresoulag', 'pilot', 'ping', 'pingpong', 'pioneer', 'piss', 'pist', 'pitch', 'pix4d', 'pl', 'place', 'placecosandey', 'plan', 'planar', 'plane', 'planetesant', 'plant', 'planvélo', 'plasma', 'plasmon', 'plate', 'platform', 'plattform', 'play', 'plaît', 'pleas', 'plein', 'plenari', 'plenti', 'pleurobot', 'plongé', 'plrge', 'plu', 'plug', 'pluie', 'pm', 'pmaurericrc', 'poesi', 'point', 'pois', 'poisson', 'polair', 'polarfound', 'polic', 'policevalai', 'polici', 'polimi', 'politician', 'politiqu', 'politlunch', 'politonew', 'pollut', 'polycopié', 'polymtl', 'polytechn', 'polytechniqu', 'polyvalent', 'pont', 'pontifex', 'pool', 'poppyeduc', 'popul', 'populair', 'popular', 'porcelain', 'porn', 'portabl', 'portivechju', 'porto', 'portrait', 'posent', 'poser', 'posit', 'positionné', 'possibl', 'post', 'post2020🇪🇺rampi', 'postcarworld', 'postdoc', 'poster', 'postfin', 'potenti', 'potentiel', 'poulet', 'pour', 'pourrait', 'pourriez', 'poursuit', 'poverti', 'powder', 'power', 'ppurtweet', 'pr', 'practic', 'practition', 'pratiqu', 'pratt', 'praxisorientiert', 'predict', 'predisposit', 'prematur', 'premier', 'premièr', 'prenant', 'prend', 'prendr', 'prendra', 'prendrai', 'prepar', 'preprint', 'presenc', 'present', 'preserv', 'presid', 'presidentielle2017', 'press', 'pretti', 'prevent', 'preventiteu', 'previous', 'pribabl', 'pride', 'primat', 'prime', 'princeton', 'print', 'printedelectron', 'prise', 'prison', 'privaci', 'privat', 'privileg', 'privé', 'prix', 'prixbcninnovation17', 'prize', 'probabl', 'probe', 'problem', 'problèm', 'process', 'processor', 'proch', 'prochain', 'produc', 'product', 'produit', 'produktivität', 'proesbt', 'prof', 'profess', 'professeur', 'profession', 'professionnel', 'professor', 'professorship', 'profil', 'profit', 'profitez', 'progenitor', 'program', 'programm', 'progress', 'prohelvetia', 'project', 'projet', 'proje…', 'promet', 'promis', 'promot', 'properti', 'proport', 'propos', 'proposai', 'proposé', 'propr', 'proprio', 'propriété', 'prosecitor', 'prospérité', 'prosthes', 'protect', 'protein', 'protocol', 'prototyp', 'protéger', 'protéin', 'proud', 'provid', 'prudenc', 'przemek', 'präsident', 'précieux', 'précose', 'précédent', 'prédécesseur', 'prépare', 'présenc', 'présent', 'présentat', 'présentent', 'présentera', 'présenté', 'présidenc', 'président', 'prêt', 'prêter', 'psc', 'psd', 'pse', 'psf', 'psich', 'psichd', 'psichen', 'pslive2016', 'psncnewslightbox', 'psw', 'psychologist', 'public', 'publichealth', 'publicli', 'publish', 'publié', 'pui', 'puissant', 'pulli', 'pump', 'punkt', 'punta', 'puratosgroup', 'purpos', 'puzzl', 'pv', 'pvalu', 'pyeongchang', 'pytorch', 'qgelbio', 'qu', 'qualifi', 'qualiti', 'qualité', 'quand', 'quantitativ', 'quantum', 'quartier', 'que', 'queen', 'queenuk', 'quel', 'quelqu', 'question', 'qui', 'quickli', 'quid', 'quietli', 'quil', 'quitt', 'quon', 'quun', 'québec', 'r0xanaradu', 'r2t2', 'rabelai', 'raccard', 'race', 'racist', 'raclett', 'raconté', 'rade', 'radiotelesuiss', 'rail', 'raini', 'rais', 'rajiv', 'rampd', 'ran', 'rang', 'rank', 'rape', 'rapid', 'rapist', 'rappel', 'rarediseas', 'rate', 'rather', 'ration', 'raulpacheco', 'raven', 'ravindra', 'rayonsx', 'rdv', 'reactor', 'read', 'readership', 'readi', 'readtoreef', 'real', 'realbaphomet', 'realdonaldtrump', 'realen', 'realiti', 'realiz', 'realli', 'reatch', 'receiv', 'recherch', 'recogn', 'recommand', 'recomposé', 'reconcil', 'reconfigur', 'reconnu', 'reconstruct', 'record', 'recour', 'recruit', 'recrut', 'red', 'reduc', 'reef', 'reflex', 'reform', 'refract', 'refus', 'regain', 'regierungbw', 'region', 'regionalspecif', 'regisgodec', 'regist', 'registr', 'regul', 'rehabilit', 'reich', 'reiter', 'reject', 'rejouit', 'relat', 'releas', 'relev', 'relevé', 'reli', 'reliabl', 'remain', 'remark', 'rememb', 'remi', 'remind', 'remnantnew', 'remo', 'rencart', 'rencontr', 'rencontrez', 'rendr', 'renew', 'renewableenergi', 'repair', 'replac', 'repli', 'replica', 'report', 'reportag', 'repositori', 'reprendr', 'représent', 'repubnew', 'repèr', 'requir', 'research', 'researchcheck', 'researchdata', 'reseauxsociaux', 'resid', 'resist', 'resolut', 'resolv', 'resourc', 'respond', 'respons', 'ressourc', 'rest', 'restart', 'restetil', 'restitut', 'result', 'resumé', 'rethink', 'retina', 'retinai', 'retir', 'retour', 'retrouvez', 'return', 'reuter', 'revalorisé', 'reveal', 'review', 'revoir', 'revolut', 'revolution', 'revolutionari', 'rewalkrobot', 'reward', 'rewir', 'reçoit', 'rharrabin', 'riarobot', 'rich', 'richter', 'riff', 'right', 'rina1861', 'riponn', 'rirh', 'ris3', 'risk', 'risqu', 'rive', 'rivoalti', 'rlerigni', 'rnaseq', 'road', 'roberv', 'roboadvisor', 'robohub', 'roboreptil', 'robot', 'robotera', 'roboticist', 'robotiqu', 'robust', 'roch', 'rocha', 'rock', 'roi', 'role', 'rolex', 'rolexlearningcent', 'romand', 'romandi', 'rome', 'rompr', 'room', 'rosicrucioprotest', 'roundtabl', 'rout', 'row', 'royes', 'roysocchem', 'rri', 'rrl', 'rrlepfl', 'rt', 'rtscqfd', 'rtsi', 'rue', 'rueeggthurgau', 'rule', 'run', 'runtim', 'rural', 'russian', 'ruthenium', 'ruzicka', 'rx', 'rzanolli', 'règle', 'réalité', 'réalitéaugmenté', 'réaménag', 'réduir', 'réduisent', 'réell', 'réflexion', 'référenc', 'rémi', 'répétition', 'réseau', 'réservez', 'résistant', 'résistent', 'réussi', 'réussir', 'réussit', 'révision', 'révolut', 'révolutionn', 'rêve', 'rôle', 'rüegg', 's3', 'sa', 'sadapt', 'sadapterontel', 'sadress', 'sae', 'safe', 'said', 'saisir', 'sait', 'salad', 'salgado', 'saliba', 'sall', 'salon', 'salonsuissedelasant', 'samedi', 'samsam86', 'san', 'sandec', 'sanfrancisco', 'sanit', 'santhanam', 'santé', 'saphana', 'sarah', 'satellit', 'satoshi', 'saturday', 'satw', 'sauver', 'savanna', 'save', 'saveourwildcat', 'savmap', 'savoglidi', 'savoi', 'savoirpati', 'savonario', 'say', 'sa\\u200b', 'sbb', 'sbdd2017', 'sbfich', 'sbiaau', 'scaday', 'scala', 'scalacent', 'scalalang', 'scan', 'scare', 'scari', 'scarletyohansson', 'sccerfeebd', 'scellé', 'schiesser', 'schleiss', 'scholar', 'scholarli', 'school', 'schoolchildren', 'schwali', 'schweizer', 'schöbi', 'scicomm', 'scicommfilmhack', 'scienc', 'sciencebiencomm', 'sciencefor2020', 'sciencehasnobord', 'scienceku', 'sciencetm', 'sciencevalai', 'scientif', 'scientificqu', 'scientifiqu', 'scientist', 'scientistswhoselfi', 'scil', 'scireport', 'scirobot', 'scm2018', 'scnatch', 'scolair', 'sconnect', 'scorth', 'screen', 'scriven', 'scrnaseq', 'scrutini', 'sctr', 'scumbag', 'scène', 'sdg', 'sdscdatasci', 'se', 'search', 'seasonaldepress', 'sec', 'secheronsa', 'second', 'secret', 'secrétair', 'secur', 'securityprivaci', 'see', 'seed', 'seednight', 'seedstarssummit', 'seem', 'seen', 'seethrough', 'sefaward', 'seguin', 'seguinb', 'seht', 'sein', 'selfheal', 'selfsuffici', 'semain', 'semiarid', 'seminar', 'sen', 'send', 'sendai', 'senesc', 'senior', 'sens', 'sensat', 'sensefli', 'sensibl', 'sensima', 'sensor', 'seoul', 'sep', 'sept', 'septbern', 'septemb', 'septembr', 'sequenc', 'sequencedirect', 'sera', 'serait', 'serendip', 'seri', 'serious', 'serment', 'seront', 'servic', 'servir', 'serviteur', 'session', 'sest', 'sestrin1', 'set', 'setzt', 'seul', 'seulement', 'sex', 'sexual', 'sexualabus', 'sexualharass', 'sfgeneva', 'sfsch', 'sg', 'shadaislam', 'shameless', 'shametortur', 'shape', 'share', 'shashank', 'shed', 'shevchenko', 'shine', 'shoot', 'short', 'shortli', 'shortliv', 'shouldnt', 'shout', 'show', 'showcas', 'si', 'sich', 'sichert', 'side', 'sieh', 'siemen', 'sierr', 'sigchi', 'siggenev', 'siggraph', 'sign', 'signal', 'signatur', 'significantli', 'signé', 'sil', 'silenc', 'silentdisco', 'silentparti', 'silent➕accur', 'silicon', 'siliconbas', 'silk', 'silkroad', 'silvia', 'simonl', 'simplifi', 'simul', 'simultan', 'sinc', 'sind', 'singapor', 'singl', 'singlemolecul', 'singlephoton', 'sinspir', 'sion', 'siraganyan', 'site', 'six', 'sixleg', 'size', 'siècl', 'sketchnot', 'ski', 'skill', 'slashandburn', 'slasher', 'sleep', 'slf', 'slice', 'slide', 'slim', 'slingshot', 'slow', 'small', 'smart', 'smartbuild', 'smartciti', 'smartgrid', 'smartmobl', 'smartpark', 'smartphon', 'smartspecialis', 'smattheydoret', 'sme', 'smile', 'smileseq', 'smit', 'smlotzd', 'smyle', 'snake', 'sneedit', 'snfch', 'snhtweet', 'snow', 'snowfal', 'snowscienc', 'snsf', 'snsfch', 'soap', 'social', 'socialbusi', 'socialchalleng', 'socialimpact', 'socialmedia', 'socialventur', 'socibiz', 'societi', 'socinn', 'sociologi', 'société', 'socrat', 'sofc', 'soft', 'softrobots………', 'softrobots……………', 'softwar', 'soil', 'soimêm', 'soin', 'soir', 'soiré', 'soiréesbibliothèqu', 'sol', 'solair', 'solar', 'solarcel', 'solardecathlon', 'solarenergi', 'solarimpuls', 'solarpanel', 'solarpow', 'sold', 'soldout', 'solid', 'solidpoweren', 'solliancesolar', 'solut', 'solutionssolar', 'solv', 'solvingproblem', 'somat', 'someon', 'someth', 'son', 'sonor', 'sont', 'sontil', 'soon', 'sorbonneuniv', 'sothebi', 'souhait', 'soulag', 'soumen', 'soumithchintala', 'sound', 'sourc', 'soutenir', 'souterrain', 'south', 'soutien', 'souvent', 'sozial', 'space', 'spaceship', 'spacewatchm', 'spark', 'speak', 'speaker', 'speci', 'special', 'specialist', 'spectacl', 'spectra', 'spectrometri', 'spectroscopi', 'speed', 'sphere', 'spheroid', 'spi', 'spieopticsphoton', 'spinoff', 'spiroplasma', 'split', 'sponsor', 'sport', 'sportif', 'sportscrunchind', 'spot', 'spread', 'spun', 'spécifiqu', 'squar', 'squat', 'squirrel', 'srf', 'srfarena', 'srg', 'srindustryday', 'srivastava', 'srsa', 'ssuinvest', 'st', 'staatfreiburg', 'stabil', 'stabilité', 'stabl', 'stack', 'stage', 'staircas', 'stakehold', 'stammt', 'stand', 'standard', 'stanford', 'stanfordalumni', 'start', 'startinggood', 'startup', 'startupfit', 'startuplif', 'startuptickerch', 'state', 'station', 'stationn', 'statt', 'statut', 'stay', 'ste', 'steer', 'stefan', 'stefanotempesta', 'steffen', 'steigert', 'stellar', 'stem', 'step', 'stepgeneva', 'steven', 'stew', 'stewart', 'stflour', 'sticker', 'stil', 'still', 'stilofficiel', 'stimmungsbild', 'stm', 'stone', 'stop', 'storag', 'store', 'stori', 'stormi', 'strategi', 'stratocor', 'straussgroup', 'stream', 'streamlin', 'stress', 'stroke', 'stromtanken', 'strong', 'strongli', 'structur', 'stuck', 'student', 'studenten', 'students🏅🏆', 'studi', 'studio', 'stupéfiant', 'style', 'stylu', 'ständigen', 'stéphane', 'subject', 'sublim', 'submiss', 'submit', 'subscrib', 'substanc', 'subwavelength', 'success', 'succè', 'suchamp', 'suck', 'suffir', 'suhaibfahmi', 'sui', 'suincol', 'suiss', 'suitabl', 'suivi', 'suivr', 'summer', 'summerschool', 'sundanc', 'sundance2018', 'sundancefest', 'sunris', 'sunrised', 'super', 'superb', 'superconduct', 'supercrit', 'superglaz', 'superpouvoir', 'superpow', 'support', 'supsi', 'supsich', 'sur', 'sure', 'surfac', 'surgeri', 'surollon', 'surprisingli', 'surround', 'surtout', 'sustain', 'sustainabilityweek', 'sv', 'sweat', 'swim', 'swiss', 'swissborg', 'swisscognit', 'swisscom', 'swisscomb2ben', 'swisscomm', 'swisscor', 'swisscytometri', 'swissdecod', 'swisseconom', 'swissedtech', 'swissedtechcollid', 'swissembassyusa', 'swisseuresearch', 'swissfel', 'swissfilm', 'swissgam', 'swissinfofr', 'swisslitho', 'swissliv', 'swissmadehardwar', 'swissmedday2016', 'swissmem', 'swissmissioneu', 'swissnex', 'swissnexboston', 'swissnexindia', 'swissnexsf', 'swissquotefr', 'swissquotenew', 'swissrobot', 'swissskil', 'swisssporttv', 'swissstartup', 'swisstech', 'swisstechconventioncent', 'swisstechepfl', 'swissunivers', 'switzerland', 'switzerlandglobalenterpris', 'switzerlandhastal', 'swsx', 'sxsw', 'sxswiss', 'syder', 'symbionthost', 'symboliqu', 'symposium', 'synapt', 'syndic', 'synechronit', 'synthesi', 'system', 'systemat', 'systèm', 'sécurité', 'séduisent', 'sélectionné', 'séminair', 'séoul', 'sérieux', 't6ss', 'ta', 'tableau', 'tablet', 'tackl', 'tail', 'takahama', 'take', 'talent', 'talk', 'tank', 'tant', 'tara', 'target', 'taught', 'tax', 'taxonomi', 'tbh', 'tdgch', 'tdiethinktank', 'teach', 'teacher', 'team', 'teamwork', 'teashop', 'tech', 'tech4dev', 'tech4dev2018', 'techcrunch', 'techeu', 'techforgood', 'technew', 'techni', 'technic', 'technionl', 'techniqu', 'technolog', 'technologi', 'technologien', 'technologist', 'technologisteu', 'techsmithd', 'tedbyrn', 'teilen', 'tej', 'tejtadi', 'tel', 'tell', 'temp', 'temperatur', 'tempor', 'températur', 'tempêt', 'ten', 'tensorflow', 'term', 'territoirela', 'territori', 'terrywinn', 'tesar', 'tesla', 'tessin', 'test', 'testament', 'testé', 'tetranucleosom', 'tetsurokitahara', 'texa', 'text', 'tf1', 'tf1lejt', 'thafid64', 'thalmann', 'thank', 'thanksforthefollow', 'thankyou', 'thearkvalai', 'theatredevidi', 'thebaltimoretim', 'thehiphopswami', 'theme', 'theoret', 'theori', 'therapeut', 'therapi', 'therapist', 'therebi', 'thereof', 'thermal', 'thermiqu', 'thesi', 'theworldin', 'theyll', 'thi', 'thibgsana', 'thiel', 'thierri', 'thing', 'thingofbeauti', 'think', 'thinkservic', 'thinksportsuccessstori', 'thinkswiss', 'thoma', 'thomasoppermann', 'though', 'thought', 'threat', 'three', 'threw', 'thrive', 'throw', 'thuner', 'thursday', 'thx', 'thymio', 'thymioii', 'théoriqu', 'tidi', 'tile', 'time', 'timeseri', 'timeshigh', 'timko', 'tini', 'tip', 'tisseo', 'tissu', 'titanium', 'titl', 'titlelength', 'tlemberg', 'tmech', 'tobia', 'tocar', 'today', 'togeth', 'toholdaquil', 'tokyotechjp', 'tom', 'tomberont', 'tomograph', 'tomographi', 'tomorrow', 'tonight', 'took', 'tool', 'top', 'top10', 'topic', 'tort', 'tortur', 'toss2017', 'tou', 'touch', 'touchabl', 'touchscreen', 'touché', 'tough', 'tour', 'tournament', 'tournent', 'tout', 'toward', 'town', 'toxic', 'trace', 'traceepfl', 'traditionalcathol', 'traffic', 'train', 'traine', 'traintest', 'traitant', 'transact', 'transbord', 'transcript', 'transform', 'transformtech', 'transformé', 'transgend', 'transient', 'transit', 'translat', 'transport', 'travail', 'travaux', 'travel', 'traveltuesday', 'traver', 'traversé', 'treatment', 'tree', 'trekkinglemon', 'trevano', 'trevp', 'tri', 'triaud', 'triest', 'trip', 'troi', 'trop', 'trouverez', 'truenorthia', 'truli', 'trump', 'trumpinaugur', 'trunk', 'trust', 'trè', 'tsinghuauni', 'tucci', 'tue', 'tueindhoven', 'tuesday', 'tum', 'tumor', 'tumuenchen', 'tune', 'turd', 'ture', 'turn', 'tutori', 'tweet', 'twiiceoffici', 'twitter', 'two', 'twodimension', 'type', 'témoignag', 'uber', 'ubiquitair', 'ubisim', 'ucadseneg', 'uchicago', 'ucl', 'ucsdnew', 'uefa', 'uefaeuro', 'ufcuniv', 'ug', 'ugli', 'uighur', 'ujinoticia', 'ukni', 'ulb', 'ultrafast', 'ultrasound', 'ultratom', 'umformungsprozessen', 'umrcarrtel', 'un', 'unbeliev', 'uncertainti', 'und', 'undergrad', 'understand', 'understood', 'une', 'unesco', 'unescochair', 'uneth', 'unforgett', 'unfortun', 'uni', 'uniarct', 'unibasel', 'unibern', 'unicef', 'unicopenhagen', 'unicorn', 'unifr', 'unigeen', 'unigenew', 'unigenova', 'unil', 'unildur', 'unineuchatel', 'uniofoxford', 'uniofread', 'union', 'uniqu', 'unisdr', 'unistra', 'unit', 'univantil', 'univbfc', 'univers', 'universel', 'universitelav', 'université', 'unlik', 'unosat', 'unplug', 'unread', 'unser', 'unsupervis', 'unternehmertum', 'unterworfen', 'unveil', 'uomchemistri', 'uommib', 'upcom', 'upmc', 'upon', 'upscal', 'ur', 'uraniumnuclear', 'urbain', 'urban', 'urbanism', 'urswyd', 'us', 'usa', 'usbeketrica', 'usbion', 'usd', 'use', 'user', 'usiunivers', 'util', 'utilisez', 'uw', 'uzh', 'uzhnew', 'uzhnewsen', 'uzhscienc', 'v', 'vacanc', 'vach', 'vacuumpow', 'valai', 'valaisann', 'valaisw', 'valentina', 'valeur', 'vallebenasqu', 'valley', 'valoris', 'valu', 'varient', 'variou', 'vasilgelev', 'vaud', 'vd', 'vdtech', 'vegan', 'veganfood', 'vehicl', 'velux', 'venez', 'venir', 'ventur', 'venture2017', 'venture2018', 'venturekick', 'venturelabch', 'ventureoffic', 'venu', 'ver', 'verantwortung', 'verbeek', 'verfolgen', 'verg', 'veri', 'verifi', 'versascan', 'versatil', 'version', 'versuch', 'vert', 'vertic', 'vertical', 'vertrauen', 'vet', 'vetterli', 'veuillez', 'veulent', 'via', 'vibrio', 'vice', 'vicerector', 'vidalfrederiqu', 'video', 'videogam', 'videostitch', 'vidéo', 'vie', 'view', 'vill', 'villar', 'vincent', 'violainese', 'virtual', 'virtualis', 'virtualr', 'virtualswiss', 'virtuel', 'virus', 'visibl', 'vision', 'visit', 'visitor', 'visual', 'visuallyimpair', 'vitamin', 'vite', 'vitess', 'vitrag', 'vitro', 'vivent', 'viventi', 'vleader', 'vleadersfintech', 'vleaderslifesci', 'vleaderstech', 'vlemondefr', 'vmwaremitgründ', 'vo', 'voic', 'voici', 'void', 'voir', 'voitur', 'vol', 'volera', 'volontair', 'vom', 'von', 'vont', 'vote', 'votr', 'vou', 'voyag', 'voyagebachelor', 'vp', 'vr', 'vrai', 'vraiment', 'vrtmedialab', 'vsco', 'vscocam', 'vtol', 'vu', 'vue', 'vuill', 'vulnérabilité', 'vusurlecampu', 'vélo', 'vélostat', 'w', 'wa', 'wagon', 'wait', 'wakesleep', 'walk', 'wall', 'walli', 'waltz', 'want', 'war', 'warm', 'warn', 'wasser', 'wasserstein', 'wasserverschmutzung', 'wast', 'watch', 'water', 'waterborn', 'wave', 'way', 'wcsj2017', 'wcsj2019', 'weaafm', 'wearabl', 'weather', 'webot', 'websit', 'wed', 'wednesday', 'weed', 'week', 'weekend', 'weevilsodali', 'wef', 'wef17', 'wef18', 'weiterbildung', 'welcom', 'well', 'welldevelop', 'wellunderstood', 'wemakeit', 'went', 'werra', 'wheelchair', 'whi', 'whipton', 'whole', 'whose', 'wieder', 'wife', 'wikipedia', 'wild', 'win', 'wind', 'window', 'winner', 'winstonmeiii', 'winter', 'winterwonderland', 'wir', 'wirklich', 'wirkung', 'wisest', 'wish', 'wissen', 'wissenschaft', 'wissenschaftw', 'wit', 'within', 'without', 'wo', 'wolhoff', 'wollen', 'woman', 'women', 'womenentrepreneur', 'womensmarch', 'wonder', 'wonderqueen', 'woopwoopsup', 'work', 'worker', 'workshop', 'world', 'worldbank', 'worldbrailleday', 'worldclass', 'worldlead', 'worldli', 'worldvrforum', 'worldwid', 'worm', 'worri', 'worth', 'would', 'wpcapit', 'wpdl', 'wrapup', 'write', 'wsl', 'wslresearch', 'wto', 'wurd', 'wwim15', 'wwim15igerslausann', 'wyplosz', 'wysssupport', 'würde', 'x2ai', 'xaviercoad', 'xile', 'xma', 'xray', 'xxe', 'yale', 'yardenkatz', 'yay', 'ye', 'year', 'yesterday', 'yet', 'yeux', 'yoga', 'york', 'yosef', 'young', 'youtub', 'youtubechanel', 'ypsome', 'yqi', 'yunchul', 'yunu', 'yunuscentr', 'yve', 'zahlt', 'zebrafish', 'zero', 'zerocarbon', 'zettabyt', 'zhaw', 'zhdk', 'zhu', 'zia', 'zizi', 'zotero', 'zu', 'zuerich', 'zum', 'zurich', 'zusammen', 'zusammenarbeit', 'zürich', '«', '»', 'à', 'ça', 'éblouit', 'école', 'écomorphologiqu', 'écrivezn', 'édition', 'éducat', 'également', 'électroniqu', 'élément', 'émission', 'énergi', 'énergétiqu', 'épars', 'épinièr', 'éternel', 'étoil', 'étude', 'étudiant', 'étudiant·e·', 'étudier', 'été', 'étéindien', 'évalu', 'évaluat', 'ête', 'être', 'über', 'überführen', 'übernommen', 'übrigen', 'œuvr', '–', '—', '‘', '’', '“', '”', '•', '…', '€8m', '▶️want', '►', '☔', '♻🔆', '⚠️', '⚠️caution⚠️', '⚽️🔵', '✊📰', '✌🏽🌱', '✨', '❤️epflcultur', '➡', '➡️', '➡️httpstcofek8vok2dn', '⭐', '🇨🇭', '🇨🇭innov', '🇨🇭merci', '🌱', '🎉', '🎥', '🎧', '🏆🙃😜👾🚀🎉', '🐦', '👇', '👉', '👉httpstco0vhv4zhq4u', '👉httpstcoplgg4cfe4t', '👉httpstcowgalji7h0g', '👌cc', '👌elektromobilitaet', '👌☀️', '👌🏻', '👹', '💉', '💡👉httpstcogz0y5vtrij', '💡👉httpstcoobwvlkso6f', '📆', '📍hannov', '📚📝', '📧', '📸\\U0001f988💦', '📽️', '🔧', '🔪', '😀👍👏', '😁', '😂', '😂🧀', '😃', '😃🍾', '😆', '😇', '😉', '😊', '😊💪', '😍', '😎', '😏😊', '😷😝', '🙌', '🙏🏻', '🚄', '🚆ferroviair', '🤗', '\\U0001f988💦', '\\U0001f988💦📸', '\\U0001f9d0']\n"
     ]
    }
   ],
   "source": [
    "# TF/IDF code\n",
    "\n",
    "# create the vocabulary\n",
    "vocabulary = set([item for sublist in documents for item in sublist])\n",
    "vocabulary = [word for word in vocabulary if word not in stopwords.words('english')]\n",
    "vocabulary.sort()\n",
    "\n",
    "print(vocabulary)"
   ]
  },
  {
   "cell_type": "code",
   "execution_count": 18,
   "metadata": {},
   "outputs": [],
   "source": [
    "# compute term occurence in documents\n",
    "def term_occurence(term, documents):\n",
    "    occ = 0\n",
    "    for doc in documents:\n",
    "        if term in doc:\n",
    "            occ = occ + 1\n",
    "    return occ\n",
    "\n",
    "# compute IDF, storing idf values in a dictionary\n",
    "def idf_values(vocabulary, documents):\n",
    "    idf = {}\n",
    "    num_documents = len(documents)\n",
    "    for i, term in enumerate(vocabulary):\n",
    "        # nb documents having the term\n",
    "#         ni = term_occurence(term, documents)\n",
    "        ni = sum(term in document for document in documents)\n",
    "        if ni != 0:\n",
    "            idf[term] = max(0, math.log(num_documents/ni, math.e))\n",
    "        else:\n",
    "            idf[term] = 0\n",
    "\n",
    "    return idf\n",
    "\n",
    "# Function to generate the vector for a document (with normalisation)\n",
    "def vectorize(document, vocabulary, idf):\n",
    "    vector = [0]*len(vocabulary)\n",
    "    # term-frequency in document\n",
    "    counts = Counter(document)\n",
    "    # most common elements for a list\n",
    "    max_count = counts.most_common(1)[0][1]\n",
    "    for i,term in enumerate(vocabulary):\n",
    "        # tf = freq / max-freq\n",
    "        tf = counts[term] / max_count\n",
    "        # = tf * idf\n",
    "        vector[i] = tf * idf[term]\n",
    "    return vector\n",
    "\n",
    "# Compute IDF values and vectors\n",
    "idf = idf_values(vocabulary, documents)\n",
    "# print(\"IDFs are: \\n\",  idf)\n",
    "# print(\"Document vectors are:\")\n",
    "document_vectors = [vectorize(s, vocabulary, idf) for s in documents]\n",
    "# print(document_vectors)\n",
    "\n",
    "# Function to compute cosine similarity\n",
    "def cosine_similarity(v1,v2):\n",
    "    sumxx, sumxy, sumyy = 0, 0, 0\n",
    "    for i in range(len(v1)):\n",
    "        x = v1[i]; y = v2[i]\n",
    "        sumxx += x*x\n",
    "        sumyy += y*y\n",
    "        sumxy += x*y\n",
    "    if sumxy == 0:\n",
    "        result = 0\n",
    "    elif sumxx == 0 or sumyy == 0:\n",
    "        result = 0\n",
    "    else:\n",
    "            result = sumxy / math.sqrt(sumxx*sumyy)\n",
    "    return result\n",
    "\n",
    "import numpy as np\n",
    "\n",
    "def cosine_sim(v1, v2):\n",
    "    dot = np.dot(v1, v2)\n",
    "    norm_v1 = np.linalg.norm(v1)\n",
    "    norm_v2 = np.linalg.norm(v2)\n",
    "    return dot/(norm_v1 * norm_v2)\n",
    "    \n",
    "\n",
    "# computing the search result (get the topk documents)\n",
    "def search_vec(query, topk=10):\n",
    "    q = query.split()\n",
    "    q = [stemmer.stem(w) for w in q]\n",
    "    query_vector = vectorize(q, vocabulary, idf)\n",
    "    scores = [[cosine_similarity(query_vector, document_vectors[d]), d] for d in range(len(documents))]\n",
    "    scores.sort(key=lambda x: -x[0])\n",
    "    doc_ids = []\n",
    "    for i in range(topk):\n",
    "#         print(original_documents[scores[i][1]])\n",
    "        doc_ids.append(scores[i][1]) \n",
    "    return doc_ids\n",
    "# HINTS\n",
    "# natural logarithm function\n",
    "#     math.log(n,math.e)\n",
    "# Function to count term frequencies in a document\n",
    "#     Counter(document)\n",
    "# most common elements for a list\n",
    "#     counts.most_common(1)"
   ]
  },
  {
   "cell_type": "code",
   "execution_count": 19,
   "metadata": {},
   "outputs": [
    {
     "data": {
      "text/plain": [
       "[4, 838, 795, 30, 89]"
      ]
     },
     "execution_count": 19,
     "metadata": {},
     "output_type": "execute_result"
    }
   ],
   "source": [
    "search_vec('computer science', 5)"
   ]
  },
  {
   "cell_type": "code",
   "execution_count": 106,
   "metadata": {},
   "outputs": [
    {
     "name": "stdout",
     "output_type": "stream",
     "text": [
      "4\n",
      "Exciting News: \"World University Rankings 2016-2017 by subject: computer science\" No1 @ETH &amp; @EPFL on No8. Congrats https://t.co/ARSlXZoShQ\n",
      "838\n",
      "New computer model shows how proteins are controlled \"at a distance\" https://t.co/zNjK3bZ6mO  via @EPFL_en #VDtech https://t.co/b9TglXO4KD\n",
      "795\n",
      "An interview with Patrick Barth, a new @EPFL professor who combines protein #biophysics with computer modeling https://t.co/iJwBaEbocj\n",
      "420\n",
      "Exposure Science Film Hackathon 2017 applications open! Come join our Scicomm-film-hacking event! #Science #scicomm https://t.co/zwtKPlh6HT\n",
      "300\n",
      "Le mystère Soulages éblouit la science @EPFL  https://t.co/u3uNICyAdi\n"
     ]
    }
   ],
   "source": [
    "# Reference code using scikit-learn\n",
    "tf = TfidfVectorizer(analyzer='word', ngram_range=(1,1), min_df = 1, stop_words = 'english')\n",
    "features = tf.fit_transform(original_documents)\n",
    "npm_tfidf = features.todense()\n",
    "new_features = tf.transform(['computer science'])\n",
    "\n",
    "cosine_similarities = linear_kernel(new_features, features).flatten()\n",
    "related_docs_indices = cosine_similarities.argsort()[::-1]\n",
    "topk = 5\n",
    "for i in range(topk):\n",
    "    print(related_docs_indices[i])\n",
    "    print(original_documents[related_docs_indices[i]])"
   ]
  },
  {
   "cell_type": "markdown",
   "metadata": {},
   "source": [
    "\n",
    "## Exercise 2: Evaluate retrieval results\n",
    "\n",
    "In this exercise, we consider the scikit reference code as an “oracle” that supposedly gives the correct result. Your exercise is to compare the above tf-idf retrieval model with this oracle for the following queries \"computer science\", \"IC school\", \"information systems\".\n",
    "\n"
   ]
  },
  {
   "cell_type": "code",
   "execution_count": 21,
   "metadata": {},
   "outputs": [],
   "source": [
    "from operator import itemgetter\n",
    "\n",
    "# Retrieval oracle \n",
    "tf = TfidfVectorizer(analyzer='word', ngram_range=(1,1), min_df = 1, stop_words = 'english')\n",
    "features = tf.fit_transform(original_documents)\n",
    "npm_tfidf = features.todense()\n",
    "\n",
    "# Return all document ids that that have cosine similarity with the query larger than a threshold\n",
    "def search_vec_sklearn(query, features, threshold=0.1):\n",
    "    new_features = tf.transform([query])\n",
    "    cosine_similarities = linear_kernel(new_features, features).flatten()\n",
    "    related_docs_indices, cos_sim_sorted = zip(*sorted(enumerate(cosine_similarities), key=itemgetter(1), \n",
    "                                                       reverse=True))\n",
    "    doc_ids = []\n",
    "    for i, cos_sim in enumerate(cos_sim_sorted):\n",
    "#         print(cos_sim_sorted)\n",
    "        if cos_sim < threshold:\n",
    "            break\n",
    "        doc_ids.append(related_docs_indices[i])\n",
    "    return doc_ids"
   ]
  },
  {
   "cell_type": "code",
   "execution_count": 85,
   "metadata": {},
   "outputs": [
    {
     "name": "stdout",
     "output_type": "stream",
     "text": [
      "[4, 838, 795, 420, 300, 810, 713, 426, 730, 778, 131, 904, 616, 201, 1056, 600, 764, 358, 837, 524, 250, 443, 969, 49, 210, 1054]\n"
     ]
    }
   ],
   "source": [
    "ret_ids = search_vec_sklearn('computer science', features)\n",
    "print(ret_ids)\n",
    "# for i, v in enumerate(ret_ids):\n",
    "#     print(original_documents[v])"
   ]
  },
  {
   "cell_type": "code",
   "execution_count": 14,
   "metadata": {},
   "outputs": [],
   "source": [
    "queries = [\"computer science\", \"IC school\", \"information systems\"]"
   ]
  },
  {
   "cell_type": "markdown",
   "metadata": {},
   "source": [
    "## Exercise 2.1: Compute the precision and recall at k"
   ]
  },
  {
   "cell_type": "code",
   "execution_count": 106,
   "metadata": {},
   "outputs": [],
   "source": [
    "def compute_recall_at_k(predict, gt, k):\n",
    "    # predict: documents of my own funcs\n",
    "    # k: int. top k docs recall\n",
    "    # gt: ground truth\n",
    "#     tp = float(np.sum(predict[:k] == gt[:k])) FALSE!!\n",
    "    # We need to use a set cuz there might be recall with slight differences =>\n",
    "    # we don't care about order of retrieval\n",
    "    tp = len(set(predict[:k]).intersection(set(gt[:k])))\n",
    "    fn = len(gt) - tp\n",
    "    recall_k = float(tp) / float(tp + fn)\n",
    "    if recall_k == 0 :\n",
    "        print(\"tp: {}, fn: {}\".format(tp, fn))\n",
    "    return recall_k"
   ]
  },
  {
   "cell_type": "code",
   "execution_count": 107,
   "metadata": {},
   "outputs": [],
   "source": [
    "def compute_precision_at_k(predict, gt, k):\n",
    "    # predict: documents of my own funcs\n",
    "    # k: int. top k docs precision\n",
    "    # gt: ground truth\n",
    "#     tp = float(np.sum(predict[:k] == gt[:k]))\n",
    "# !!!!!!!!!!!!!!!!!!!!!!!!!!!!!!!!!!!\n",
    "    tp = len(set(predict[:k]).intersection(set(gt[:k])))\n",
    "    fp = k - tp\n",
    "    precision_k = tp / float(tp + fp)\n",
    "    if precision_k == 0 :\n",
    "        print(\"tp: {}, fn: {}\".format(tp, fp))\n",
    "    return precision_k\n",
    "    "
   ]
  },
  {
   "cell_type": "markdown",
   "metadata": {},
   "source": [
    "## Exercise 2.2: Compute the MAP score"
   ]
  },
  {
   "cell_type": "code",
   "execution_count": 111,
   "metadata": {},
   "outputs": [],
   "source": [
    "# MISSING!\n",
    "def compute_interpolated_precisions(prec_rec):\n",
    "    max_prec = []\n",
    "    current_rec = prec_rec[-1][1] # last (precision, recall)\n",
    "    for k, (prec, rec) in enumerate(prec_rec):\n",
    "        max_precision = prec\n",
    "        for j, (prec_, rec_) in enumerate(prec_rec[k+1:]): # K+1!!!\n",
    "#             if prec_ > max_precision:\n",
    "            if prec_ > max_precision and rec_ >= rec:\n",
    "                max_precision = prec_\n",
    "        max_prec.append(max_precision)\n",
    "    return max_prec"
   ]
  },
  {
   "cell_type": "code",
   "execution_count": 117,
   "metadata": {},
   "outputs": [],
   "source": [
    "def compute_map(queries):\n",
    "    map_score = 0\n",
    "    prec_rec_dict = []\n",
    "    for i, query in enumerate(queries):\n",
    "#         precision_for_query = 0\n",
    "        predict = search_vec(query, 10) # my own func\n",
    "        gt = search_vec_sklearn(query, features) # relevant doc ids\n",
    "        # to compute interpolated precision\n",
    "        prec_rec = []\n",
    "#         for k in range(1, len(gt)):\n",
    "        for k in range(1, len(gt) + 1):\n",
    "            precision_k = compute_precision_at_k(predict, gt, k)\n",
    "            recall_k = compute_recall_at_k(predict, gt, k)\n",
    "            print('k, precision: {}, recall: {}'.format(k, precision_k, recall_k))\n",
    "\n",
    "#  FALSE!!           precision_for_query = precision_for_query + precision_k\n",
    "            prec_rec.append((precision_k, recall_k))\n",
    "    \n",
    "    # Need to compute the interpolated precision!!\n",
    "        precs_int = compute_interpolated_precisions(prec_rec)\n",
    "        # Sum up the interpolated precision\n",
    "#         map_score += sum(precs_int) / len(original_documents) #\n",
    "        map_score += sum(precs_int)/len(gt) # ONLY RELEVANT DOCS!\n",
    "        prec_rec_dict.append(prec_rec)\n",
    "    map_score = map_score / len(queries)\n",
    "    return map_score, prec_rec_dict"
   ]
  },
  {
   "cell_type": "code",
   "execution_count": 118,
   "metadata": {},
   "outputs": [
    {
     "name": "stdout",
     "output_type": "stream",
     "text": [
      "k, precision: 1, recall: 1.0\n",
      "k, precision: 2, recall: 1.0\n",
      "k, precision: 3, recall: 1.0\n",
      "k, precision: 4, recall: 0.75\n",
      "k, precision: 5, recall: 0.6\n",
      "k, precision: 6, recall: 0.6666666666666666\n",
      "k, precision: 7, recall: 0.5714285714285714\n",
      "k, precision: 8, recall: 0.625\n",
      "k, precision: 9, recall: 0.6666666666666666\n",
      "k, precision: 10, recall: 0.7\n",
      "k, precision: 11, recall: 0.6363636363636364\n",
      "k, precision: 12, recall: 0.5833333333333334\n",
      "k, precision: 13, recall: 0.5384615384615384\n",
      "k, precision: 14, recall: 0.5\n",
      "k, precision: 15, recall: 0.4666666666666667\n",
      "k, precision: 16, recall: 0.4375\n",
      "k, precision: 17, recall: 0.4117647058823529\n",
      "k, precision: 18, recall: 0.3888888888888889\n",
      "k, precision: 19, recall: 0.3684210526315789\n",
      "k, precision: 20, recall: 0.35\n",
      "k, precision: 21, recall: 0.3333333333333333\n",
      "k, precision: 22, recall: 0.3181818181818182\n",
      "k, precision: 23, recall: 0.30434782608695654\n",
      "k, precision: 24, recall: 0.2916666666666667\n",
      "k, precision: 25, recall: 0.28\n",
      "k, precision: 26, recall: 0.2692307692307692\n",
      "tp: 0, fn: 1\n",
      "k, precision: 1, recall: 0.0\n",
      "tp: 0, fn: 2\n",
      "k, precision: 2, recall: 0.0\n",
      "tp: 0, fn: 3\n",
      "k, precision: 3, recall: 0.0\n",
      "k, precision: 4, recall: 0.25\n",
      "k, precision: 5, recall: 0.4\n",
      "k, precision: 6, recall: 0.5\n",
      "k, precision: 7, recall: 0.5714285714285714\n",
      "k, precision: 8, recall: 0.625\n",
      "k, precision: 9, recall: 0.6666666666666666\n",
      "k, precision: 10, recall: 0.7\n",
      "k, precision: 11, recall: 0.7272727272727273\n",
      "k, precision: 12, recall: 0.75\n",
      "k, precision: 13, recall: 0.6923076923076923\n",
      "k, precision: 14, recall: 0.6428571428571429\n",
      "k, precision: 15, recall: 0.6\n",
      "k, precision: 16, recall: 0.5625\n",
      "k, precision: 17, recall: 0.5294117647058824\n",
      "tp: 0, fn: 1\n",
      "k, precision: 1, recall: 0.0\n",
      "tp: 0, fn: 2\n",
      "k, precision: 2, recall: 0.0\n",
      "tp: 0, fn: 3\n",
      "k, precision: 3, recall: 0.0\n",
      "k, precision: 4, recall: 0.25\n",
      "k, precision: 5, recall: 0.4\n",
      "k, precision: 6, recall: 0.3333333333333333\n",
      "k, precision: 7, recall: 0.2857142857142857\n",
      "k, precision: 8, recall: 0.375\n",
      "k, precision: 9, recall: 0.4444444444444444\n",
      "k, precision: 10, recall: 0.5\n"
     ]
    }
   ],
   "source": [
    "map_score, prec_rec_dict = compute_map(queries)"
   ]
  },
  {
   "cell_type": "code",
   "execution_count": 119,
   "metadata": {},
   "outputs": [
    {
     "data": {
      "text/plain": [
       "0.5874681113152389"
      ]
     },
     "execution_count": 119,
     "metadata": {},
     "output_type": "execute_result"
    }
   ],
   "source": [
    "map_score"
   ]
  },
  {
   "cell_type": "code",
   "execution_count": null,
   "metadata": {},
   "outputs": [],
   "source": []
  }
 ],
 "metadata": {
  "kernelspec": {
   "display_name": "Python 3",
   "language": "python",
   "name": "python3"
  },
  "language_info": {
   "codemirror_mode": {
    "name": "ipython",
    "version": 3
   },
   "file_extension": ".py",
   "mimetype": "text/x-python",
   "name": "python",
   "nbconvert_exporter": "python",
   "pygments_lexer": "ipython3",
   "version": "3.5.6"
  }
 },
 "nbformat": 4,
 "nbformat_minor": 2
}

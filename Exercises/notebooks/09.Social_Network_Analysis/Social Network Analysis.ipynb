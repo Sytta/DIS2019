{
 "cells": [
  {
   "cell_type": "markdown",
   "metadata": {},
   "source": [
    "# Exercise 6\n",
    "\n",
    "## Question 1\n",
    "\n",
    "Complete the following method to compute the modularity measure of a graph."
   ]
  },
  {
   "cell_type": "code",
   "execution_count": 1,
   "metadata": {},
   "outputs": [],
   "source": [
    "## If you haven't installed networkx package, you can run the following command (note the exclamation mark)\n",
    "## !conda install networkx --yes "
   ]
  },
  {
   "cell_type": "code",
   "execution_count": 2,
   "metadata": {},
   "outputs": [
    {
     "name": "stderr",
     "output_type": "stream",
     "text": [
      "/anaconda3/envs/dis2019/lib/python3.5/site-packages/networkx/drawing/nx_pylab.py:611: MatplotlibDeprecationWarning: isinstance(..., numbers.Number)\n",
      "  if cb.is_numlike(alpha):\n"
     ]
    },
    {
     "data": {
      "image/png": "[encoded data removed]",
      "text/plain": [
       "<Figure size 432x288 with 1 Axes>"
      ]
     },
     "metadata": {
      "needs_background": "light"
     },
     "output_type": "display_data"
    }
   ],
   "source": [
    "import networkx as nx\n",
    "import numpy as np\n",
    "%matplotlib inline\n",
    "\n",
    "M = [\"0,1,2\",\n",
    "\"1,0,2\",\n",
    "\"2,0,1,3\",\n",
    "\"3,2,4,5\",\n",
    "\"4,3,5\",\n",
    "\"5,3,4\"\n",
    "    ]\n",
    "G=nx.parse_adjlist(M, nodetype=int, delimiter=\",\")\n",
    "nx.draw_networkx(G)\n",
    "\n",
    "#G = nx.karate_club_graph()\n",
    "#nx.draw_networkx(G)"
   ]
  },
  {
   "cell_type": "code",
   "execution_count": 3,
   "metadata": {},
   "outputs": [],
   "source": [
    "for node in [0,1,2]:\n",
    "    G.nodes[node]['community'] = 0\n",
    "for node in [3,4,5]:\n",
    "    G.nodes[node]['community'] = 1"
   ]
  },
  {
   "cell_type": "code",
   "execution_count": 24,
   "metadata": {},
   "outputs": [],
   "source": [
    "# The community label of a node can be accessed by G[node_id]['community']\n",
    "# The degree of a node: G.degree[node_id]\n",
    "# The neighbors of a node: G.neighbors(node_id)\n",
    "# Number of edges between 2 nodes: G.number_of_edges(node_1, node_2)\n",
    "def compute_modularity(G):\n",
    "    m = len(G.edges)\n",
    "    Q = 0\n",
    "    \n",
    "    for node_i in range(len(G.nodes)):\n",
    "        for node_j in range(len(G.nodes)):\n",
    "            if G.nodes[node_i]['community'] == G.nodes[node_j]['community']:\n",
    "                # Effective link\n",
    "                Aij = G.number_of_edges(node_i, node_j)\n",
    "                # Outdegrees\n",
    "                ki = G.degree[node_i] \n",
    "                kj = G.degree[node_j]\n",
    "\n",
    "                Q += Aij - ki*kj / (2*m)\n",
    "    \n",
    "    return Q/(2*m)"
   ]
  },
  {
   "cell_type": "code",
   "execution_count": 25,
   "metadata": {},
   "outputs": [
    {
     "data": {
      "text/plain": [
       "0.3571428571428571"
      ]
     },
     "execution_count": 25,
     "metadata": {},
     "output_type": "execute_result"
    }
   ],
   "source": [
    "compute_modularity(G)"
   ]
  },
  {
   "cell_type": "code",
   "execution_count": 27,
   "metadata": {},
   "outputs": [
    {
     "data": {
      "text/plain": [
       "{0: 0.0, 1: 0.0, 2: 6.0, 3: 6.0, 4: 0.0, 5: 0.0}"
      ]
     },
     "execution_count": 27,
     "metadata": {},
     "output_type": "execute_result"
    }
   ],
   "source": [
    "from networkx import betweenness_centrality\n",
    "betweenness_centrality(G,  normalized=False)"
   ]
  },
  {
   "cell_type": "code",
   "execution_count": 30,
   "metadata": {},
   "outputs": [
    {
     "data": {
      "text/plain": [
       "{0: 0.0, 1: 0.0, 2: 6.0, 3: 6.0, 4: 0.0, 5: 0.0}"
      ]
     },
     "execution_count": 30,
     "metadata": {},
     "output_type": "execute_result"
    }
   ],
   "source": [
    "result"
   ]
  },
  {
   "cell_type": "code",
   "execution_count": 33,
   "metadata": {},
   "outputs": [],
   "source": [
    "characters = list(G.nodes())\n",
    "result   = {}\n",
    "\n",
    "# compute a score fo every character\n",
    "for n in characters:\n",
    "\n",
    "    # accumulator for the score of the current character\n",
    "    accum = 0\n",
    "\n",
    "    # shortest path FROM every character...\n",
    "    for i,s in enumerate(characters):\n",
    "        \n",
    "        # ..TO every character\n",
    "        for j,t in enumerate(characters):\n",
    "            # we do not consider the same path twice\n",
    "            if j > i:\n",
    "                continue\n",
    "            \n",
    "            try:  \n",
    "                all_short = nx.all_shortest_paths(G,s,t)\n",
    "                \n",
    "                \n",
    "                ### YOUR CODE HERE ################### \n",
    "                shortest_path_through_n = 0\n",
    "                all_shortest_path = 0\n",
    "                \n",
    "                for path in all_short:\n",
    "                    all_shortest_path += 1\n",
    "                    if n in path:\n",
    "                        shortest_path_through_n += 1\n",
    "                \n",
    "                if s == t:\n",
    "                    all_shortest_path = 1\n",
    "                    \n",
    "                if n == t or n == s:\n",
    "                    shortest_path_through_n = 0\n",
    "                \n",
    "                accum += shortest_path_through_n / all_shortest_path\n",
    "                \n",
    "                \n",
    "            except nx.NetworkXNoPath:\n",
    "                continue\n",
    "                \n",
    "    result[n] = accum"
   ]
  },
  {
   "cell_type": "code",
   "execution_count": 40,
   "metadata": {},
   "outputs": [
    {
     "name": "stdout",
     "output_type": "stream",
     "text": [
      "[1, 2, 3, 5]\n"
     ]
    }
   ],
   "source": [
    "for i in nx.all_shortest_paths(G,1,5):\n",
    "    print(i)"
   ]
  },
  {
   "cell_type": "code",
   "execution_count": 64,
   "metadata": {},
   "outputs": [],
   "source": [
    "def edge_betweenness_centrality(G):\n",
    "    edges = list(G.edges())\n",
    "    nodes = list(G.nodes())\n",
    "    result   = {}\n",
    "\n",
    "    # compute a score fo every edge\n",
    "    for e in edges:\n",
    "\n",
    "        # accumulator for the score of the current edge\n",
    "        accum = 0\n",
    "\n",
    "        # shortest path FROM every character...\n",
    "        for i,s in enumerate(nodes):\n",
    "\n",
    "            # ..TO every character\n",
    "            for j,t in enumerate(nodes):\n",
    "                # we do not consider the same path twice\n",
    "                if j > i:\n",
    "                    continue\n",
    "\n",
    "                try:  \n",
    "                    all_short = nx.all_shortest_paths(G,s,t)\n",
    "\n",
    "                    shortest_path_through_e = 0\n",
    "                    all_shortest_path = 0\n",
    "\n",
    "                    for path in all_short:\n",
    "                        all_shortest_path += 1\n",
    "                        if (e[0] in path) and (e[1] in path):\n",
    "                            shortest_path_through_e += 1\n",
    "                    \n",
    "                    accum += float(shortest_path_through_e) / float(all_shortest_path)\n",
    "\n",
    "\n",
    "                except nx.NetworkXNoPath:\n",
    "                    continue\n",
    "\n",
    "        result[e] = accum\n",
    "    return result"
   ]
  },
  {
   "cell_type": "code",
   "execution_count": 65,
   "metadata": {},
   "outputs": [
    {
     "data": {
      "text/plain": [
       "{(0, 1): 1.0,\n",
       " (0, 2): 4.0,\n",
       " (1, 2): 4.0,\n",
       " (2, 3): 9.0,\n",
       " (3, 4): 4.0,\n",
       " (3, 5): 4.0,\n",
       " (4, 5): 1.0}"
      ]
     },
     "execution_count": 65,
     "metadata": {},
     "output_type": "execute_result"
    }
   ],
   "source": [
    "edge_betweenness_centrality(G)"
   ]
  },
  {
   "cell_type": "code",
   "execution_count": 62,
   "metadata": {},
   "outputs": [
    {
     "data": {
      "text/plain": [
       "{(0, 1): 1.0,\n",
       " (0, 2): 4.0,\n",
       " (1, 2): 4.0,\n",
       " (2, 3): 9.0,\n",
       " (3, 4): 4.0,\n",
       " (3, 5): 4.0,\n",
       " (4, 5): 1.0}"
      ]
     },
     "execution_count": 62,
     "metadata": {},
     "output_type": "execute_result"
    }
   ],
   "source": [
    "nx.edge_betweenness_centrality(G, normalized=False)"
   ]
  },
  {
   "cell_type": "code",
   "execution_count": 70,
   "metadata": {},
   "outputs": [],
   "source": [
    "def _without_most_central_edges(G, most_valuable_edge):\n",
    "    \"\"\"Returns the connected components of the graph that results from\n",
    "    repeatedly removing the most \"valuable\" edge in the graph.\n",
    "\n",
    "    `G` must be a non-empty graph. This function modifies the graph `G`\n",
    "    in-place; that is, it removes edges on the graph `G`.\n",
    "\n",
    "    `most_valuable_edge` is a function that takes the graph `G` as input\n",
    "    (or a subgraph with one or more edges of `G` removed) and returns an\n",
    "    edge. That edge will be removed and this process will be repeated\n",
    "    until the number of connected components in the graph increases.\n",
    "\n",
    "    \"\"\"\n",
    "    original_num_components = nx.number_connected_components(G)\n",
    "    num_new_components = original_num_components\n",
    "    \n",
    "    while num_new_components <= original_num_components:\n",
    "        edge = most_valuable_edge(G)\n",
    "        G.remove_edge(*edge)\n",
    "        new_components = tuple(nx.connected_components(G))\n",
    "        num_new_components = len(new_components)\n",
    "    return new_components\n",
    "\n",
    "def girvan_newman(G):\n",
    "# If the graph is already empty, simply return its connected\n",
    "    # components.\n",
    "    if G.number_of_edges() == 0:\n",
    "        yield tuple(nx.connected_components(G))\n",
    "        return\n",
    "    # If no function is provided for computing the most valuable edge,\n",
    "    # use the edge betweenness centrality.\n",
    "    if most_valuable_edge is None:\n",
    "        def most_valuable_edge(G):\n",
    "            \"\"\"Returns the edge with the highest betweenness centrality\n",
    "            in the graph `G`.\n",
    "\n",
    "            \"\"\"\n",
    "            # We have guaranteed that the graph is non-empty, so this\n",
    "            # dictionary will never be empty.\n",
    "            betweenness = nx.edge_betweenness_centrality(G)\n",
    "            return max(betweenness, key=betweenness.get)\n",
    "        \n",
    "    # The copy of G here must include the edge weight data.\n",
    "    g = G.copy().to_undirected()\n",
    "    # Self-loops must be removed because their removal has no effect on\n",
    "    # the connected components of the graph.\n",
    "    g.remove_edges_from(nx.selfloop_edges(g))\n",
    "    while g.number_of_edges() > 0:\n",
    "        yield _without_most_central_edges(g, most_valuable_edge)\n",
    "        \n"
   ]
  },
  {
   "cell_type": "code",
   "execution_count": 72,
   "metadata": {},
   "outputs": [
    {
     "data": {
      "text/plain": [
       "<generator object girvan_newman at 0xa1d182db0>"
      ]
     },
     "execution_count": 72,
     "metadata": {},
     "output_type": "execute_result"
    }
   ],
   "source": [
    "girvan_newman(G)"
   ]
  },
  {
   "cell_type": "code",
   "execution_count": 76,
   "metadata": {},
   "outputs": [],
   "source": [
    "from networkx.algorithms.community.centrality import girvan_newman\n",
    "\n",
    "aa = girvan_newman(G)"
   ]
  },
  {
   "cell_type": "code",
   "execution_count": 78,
   "metadata": {},
   "outputs": [
    {
     "ename": "StopIteration",
     "evalue": "",
     "output_type": "error",
     "traceback": [
      "\u001b[0;31m---------------------------------------------------------------------------\u001b[0m",
      "\u001b[0;31mStopIteration\u001b[0m                             Traceback (most recent call last)",
      "\u001b[0;32m<ipython-input-78-4e14a8ea1ec1>\u001b[0m in \u001b[0;36m<module>\u001b[0;34m()\u001b[0m\n\u001b[0;32m----> 1\u001b[0;31m \u001b[0mnext\u001b[0m\u001b[0;34m(\u001b[0m\u001b[0maa\u001b[0m\u001b[0;34m)\u001b[0m\u001b[0;34m\u001b[0m\u001b[0m\n\u001b[0m",
      "\u001b[0;31mStopIteration\u001b[0m: "
     ]
    }
   ],
   "source": [
    "next(aa)"
   ]
  },
  {
   "cell_type": "markdown",
   "metadata": {
    "collapsed": true
   },
   "source": [
    "## Question 2"
   ]
  },
  {
   "cell_type": "markdown",
   "metadata": {},
   "source": [
    "Suppose that you have an undirected social graph G = (U, V), where U - set of nodes, V - set of edges.\n",
    "\n",
    "<img src=\"graph.png\" width=\"400\">"
   ]
  },
  {
   "cell_type": "markdown",
   "metadata": {},
   "source": [
    "#### Question\n",
    "\n",
    "Compute betweenness for the graph G and output the communities for the following betweenness threshold : 4, 6."
   ]
  },
  {
   "cell_type": "markdown",
   "metadata": {},
   "source": []
  }
 ],
 "metadata": {
  "kernelspec": {
   "display_name": "Python 3",
   "language": "python",
   "name": "python3"
  },
  "language_info": {
   "codemirror_mode": {
    "name": "ipython",
    "version": 3
   },
   "file_extension": ".py",
   "mimetype": "text/x-python",
   "name": "python",
   "nbconvert_exporter": "python",
   "pygments_lexer": "ipython3",
   "version": "3.5.6"
  }
 },
 "nbformat": 4,
 "nbformat_minor": 2
}

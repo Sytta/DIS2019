{
 "cells": [
  {
   "cell_type": "markdown",
   "metadata": {},
   "source": [
    "# Exercise 10: Semantic Web"
   ]
  },
  {
   "cell_type": "markdown",
   "metadata": {},
   "source": [
    "## Task 1: Create a Knowledge Base\n",
    "\n",
    "Consider the following sentences:\n",
    "\n",
    "```Aphrodite and Eros are Gods.```\n",
    "\n",
    "```Aphrodite is a parent of Eros.```\n",
    "\n",
    "```Aphrodite is beautiful.```\n",
    "\n",
    "```Aphrodite is happy.```"
   ]
  },
  {
   "cell_type": "markdown",
   "metadata": {},
   "source": [
    "#### 1) Formalize these sentences as RDF statements. Use a python dictionary to indicate the *subject*, *predicate* and *object* of a statement."
   ]
  },
  {
   "cell_type": "code",
   "execution_count": 2,
   "metadata": {},
   "outputs": [],
   "source": [
    "statements = []\n",
    "#statement template: {'s':'', 'p':'', 'o':''}\n",
    "statements.append({'s':'Aphrodite', 'p':'isa', 'o':'God'})\n",
    "statements.append({'s':'Eros', 'p':'isa', 'o':'God'})\n",
    "# statements.append({'s':'Aphrodite', 'p':'isa', 'o':'parent of Eros'})\n",
    "statements.append({'s':'Aphrodite', 'p':'isParentOf', 'o':'Eros'})\n",
    "statements.append({'s':'Aphrodite', 'p':'isa', 'o':'beautiful'})\n",
    "statements.append({'s':'Aphrodite', 'p':'isa', 'o':'happy'})"
   ]
  },
  {
   "cell_type": "markdown",
   "metadata": {},
   "source": [
    "#### 2) Specify which are the *classes*, the *instances* and the *properties* in the above statements.\n"
   ]
  },
  {
   "cell_type": "markdown",
   "metadata": {},
   "source": [
    "- Classes: (Object) = God, beautiful, happy\n",
    "- Instances: (Subject) = Aphrodite, Eros\n",
    "- Properties: (relationships) = isa, isParentOf"
   ]
  },
  {
   "cell_type": "markdown",
   "metadata": {},
   "source": [
    "#### 3) Pose the following query to your Knowledge Base and show the results.\n",
    "    Who is happy?"
   ]
  },
  {
   "cell_type": "code",
   "execution_count": 11,
   "metadata": {},
   "outputs": [
    {
     "name": "stdout",
     "output_type": "stream",
     "text": [
      "['Aphrodite', 'Eros']\n"
     ]
    }
   ],
   "source": [
    "def query():\n",
    "    results = []\n",
    "    for statement in statements:\n",
    "        if statement['p'] == 'isa' and statement['o'] == 'happy':\n",
    "            results.append(statement['s'])\n",
    "    print(results)\n",
    "\n",
    "query()"
   ]
  },
  {
   "cell_type": "code",
   "execution_count": 12,
   "metadata": {},
   "outputs": [],
   "source": [
    "\"\"\"\n",
    "Return statement of corresponding value to the predicate/subject/object\n",
    "type_: p(redicate) / s(ubject) / o(bject)\n",
    "\"\"\"\n",
    "def query1(type_, value):\n",
    "    results = []\n",
    "    for statement in statements:\n",
    "        # type_: s, p, o\n",
    "        if statement[type_] == value:\n",
    "            results.append(statement)\n",
    "            \n",
    "    return results\n",
    "\n",
    "def query2(type1, value1, type2, value2):\n",
    "    results = []\n",
    "    for statement in statements:\n",
    "        # type_: s, p, o\n",
    "        if statement[type1] == value1 and statement[type2] == value2:\n",
    "            results.append(statement)\n",
    "            \n",
    "    return results"
   ]
  },
  {
   "cell_type": "markdown",
   "metadata": {},
   "source": [
    "## Task 2: Derive new Knowledge\n",
    "\n",
    "Now consider the following inference rules:\n",
    "\n",
    "``` Every person is happy if one of his/her parents is successful. ```\n",
    "\n",
    "``` All happy persons are successful. ```"
   ]
  },
  {
   "cell_type": "markdown",
   "metadata": {},
   "source": [
    "#### 1) Transform and apply them to your Knowledge Base. Include the new statements that will be derived in the Knowledge Base."
   ]
  },
  {
   "cell_type": "code",
   "execution_count": 13,
   "metadata": {},
   "outputs": [],
   "source": [
    "def inference():\n",
    "    \n",
    "    new_statements = True\n",
    "\n",
    "    while (new_statements):\n",
    "        new_statements = False\n",
    "        \n",
    "        # if this person is successful\n",
    "        for s1 in statements:\n",
    "            if s1['p'] == 'isa' and s1['o'] == 'successful':\n",
    "                for s2 in statements:\n",
    "                    # ... and this person is a parent \n",
    "                    if s1['s'] == s2['s'] and s2['p'] == 'isParentOf':\n",
    "                        # his children are happy too\n",
    "                        statement = {'s':s2['o'], 'p':'isa', 'o':'happy'}\n",
    "                        # generate new statement to search\n",
    "                        if statement not in statements:\n",
    "                            statements.append(statement)\n",
    "                            new_statements = True\n",
    "        for s in statements:\n",
    "            if s['p'] == 'isa' and s['o'] == 'happy':\n",
    "                    statement = {'s':s['s'], 'p':'isa', 'o':'successful'}\n",
    "                    if statement not in statements:\n",
    "                        statements.append(statement)\n",
    "                        new_statements = True"
   ]
  },
  {
   "cell_type": "markdown",
   "metadata": {},
   "source": [
    "#### 2) Give an example of a rule that would bring incosistency in the Knowledge Base. "
   ]
  },
  {
   "cell_type": "markdown",
   "metadata": {},
   "source": [
    "A person is not successful if one of his/her parents is successful."
   ]
  },
  {
   "cell_type": "markdown",
   "metadata": {},
   "source": [
    "#### 3) Pose again the query from Question 3 of Task 1. Are you getting the same results?"
   ]
  },
  {
   "cell_type": "code",
   "execution_count": 14,
   "metadata": {},
   "outputs": [
    {
     "name": "stdout",
     "output_type": "stream",
     "text": [
      "['Aphrodite', 'Eros']\n"
     ]
    }
   ],
   "source": [
    "inference()\n",
    "query()"
   ]
  },
  {
   "cell_type": "markdown",
   "metadata": {},
   "source": [
    "Credits @ [Knowledge Technologies (PMS509)](http://cgi.di.uoa.gr/~pms509)"
   ]
  }
 ],
 "metadata": {
  "kernelspec": {
   "display_name": "Python 3",
   "language": "python",
   "name": "python3"
  },
  "language_info": {
   "codemirror_mode": {
    "name": "ipython",
    "version": 3
   },
   "file_extension": ".py",
   "mimetype": "text/x-python",
   "name": "python",
   "nbconvert_exporter": "python",
   "pygments_lexer": "ipython3",
   "version": "3.5.6"
  },
  "toc": {
   "colors": {
    "hover_highlight": "#DAA520",
    "navigate_num": "#000000",
    "navigate_text": "#333333",
    "running_highlight": "#FF0000",
    "selected_highlight": "#FFD700",
    "sidebar_border": "#EEEEEE",
    "wrapper_background": "#FFFFFF"
   },
   "moveMenuLeft": true,
   "nav_menu": {
    "height": "228px",
    "width": "252px"
   },
   "navigate_menu": true,
   "number_sections": true,
   "sideBar": true,
   "threshold": 4,
   "toc_cell": false,
   "toc_section_display": "block",
   "toc_window_display": false,
   "widenNotebook": false
  }
 },
 "nbformat": 4,
 "nbformat_minor": 1
}

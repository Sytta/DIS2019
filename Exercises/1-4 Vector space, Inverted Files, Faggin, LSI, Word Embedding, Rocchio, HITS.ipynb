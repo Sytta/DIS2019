{
 "cells": [
  {
   "cell_type": "markdown",
   "metadata": {},
   "source": [
    "# 1. Vector space retrieval"
   ]
  },
  {
   "cell_type": "code",
   "execution_count": 1,
   "metadata": {},
   "outputs": [
    {
     "name": "stdout",
     "output_type": "stream",
     "text": [
      "[nltk_data] Downloading package stopwords to /Users/yawen/nltk_data...\n",
      "[nltk_data]   Package stopwords is already up-to-date!\n",
      "[nltk_data] Downloading package punkt to /Users/yawen/nltk_data...\n",
      "[nltk_data]   Package punkt is already up-to-date!\n"
     ]
    },
    {
     "data": {
      "text/plain": [
       "True"
      ]
     },
     "execution_count": 1,
     "metadata": {},
     "output_type": "execute_result"
    }
   ],
   "source": [
    "from nltk.stem import PorterStemmer, WordNetLemmatizer\n",
    "import nltk\n",
    "from sklearn.feature_extraction.text import CountVectorizer, TfidfVectorizer\n",
    "from sklearn.metrics.pairwise import linear_kernel\n",
    "import string\n",
    "from nltk.corpus import stopwords\n",
    "import math\n",
    "import numpy as np\n",
    "from operator import itemgetter\n",
    "from collections import Counter\n",
    "nltk.download('stopwords')\n",
    "nltk.download('punkt')"
   ]
  },
  {
   "cell_type": "code",
   "execution_count": 2,
   "metadata": {},
   "outputs": [],
   "source": [
    "def cosine_similarity(a,b):\n",
    "    '''Computes the cosine similarity of $a$ and $b$.'''\n",
    "    dot_product = np.dot(a, b)\n",
    "    norm_a = np.linalg.norm(a)\n",
    "    norm_b = np.linalg.norm(b)\n",
    "    return dot_product / (norm_a * norm_b)\n",
    "\n",
    "# # Function to compute cosine similarity\n",
    "# def cosine_similarity(v1,v2):\n",
    "#     sumxx, sumxy, sumyy = 0, 0, 0\n",
    "#     for i in range(len(v1)):\n",
    "#         x = v1[i]; y = v2[i]\n",
    "#         sumxx += x*x\n",
    "#         sumyy += y*y\n",
    "#         sumxy += x*y\n",
    "#     if sumxy == 0:\n",
    "#             result = 0\n",
    "#     else:\n",
    "#             result = sumxy/math.sqrt(sumxx*sumyy)\n",
    "#     return result"
   ]
  },
  {
   "cell_type": "markdown",
   "metadata": {},
   "source": [
    "### Tokenize + Vocabularize \n",
    "\n",
    "- Remove punctuation, stopwords"
   ]
  },
  {
   "cell_type": "code",
   "execution_count": 3,
   "metadata": {},
   "outputs": [],
   "source": [
    "def tokenize(text):\n",
    "    stemmer = PorterStemmer()\n",
    "    text = \"\".join([ch for ch in text if ch not in string.punctuation])\n",
    "    tokens = nltk.word_tokenize(text)\n",
    "    return \" \".join([stemmer.stem(word.lower()) for word in tokens])"
   ]
  },
  {
   "cell_type": "code",
   "execution_count": 4,
   "metadata": {},
   "outputs": [],
   "source": [
    "def get_original_documents(doc):\n",
    "    with open(doc + \".txt\") as f:\n",
    "        content = f.readlines()\n",
    "    original_documents = [x.strip() for x in content]\n",
    "    return original_documents\n",
    "\n",
    "def get_documents(doc):\n",
    "    original_documents = get_original_documents(doc)\n",
    "    documents = [tokenize(d).split() for d in original_documents]\n",
    "    return documents\n",
    "\n",
    "def get_vocabulary(documents):\n",
    "    # Create vocabulary\n",
    "    voc = set([item for sublist in documents for item in sublist])\n",
    "    vocabulary = [word for word in voc if word not in stopwords.words('english')]\n",
    "    \n",
    "    return sorted(vocabulary)"
   ]
  },
  {
   "cell_type": "markdown",
   "metadata": {},
   "source": [
    "### TF-IDF"
   ]
  },
  {
   "cell_type": "code",
   "execution_count": 308,
   "metadata": {},
   "outputs": [],
   "source": [
    "# tf for 1 document\n",
    "def get_tf(vocabulary, document):\n",
    "    tf_dict = dict.fromkeys(vocabulary)\n",
    "    counts = Counter(document)\n",
    "    # most common elements for a list\n",
    "    max_count = counts.most_common(1)[0][1]\n",
    "    for i,term in enumerate(vocabulary):\n",
    "        # tf = freq / max-freq\n",
    "        tf = counts[term] / max_count\n",
    "        tf_dict[term] = tf\n",
    "    return tf_dict"
   ]
  },
  {
   "cell_type": "code",
   "execution_count": 309,
   "metadata": {},
   "outputs": [],
   "source": [
    "# compute IDF, storing idf values in a dictionary\n",
    "def get_idf(vocabulary, documents):\n",
    "    idf_dict = {}\n",
    "    num_documents = len(documents)\n",
    "    for i, term in enumerate(vocabulary):\n",
    "        idf_dict[term] = math.log(num_documents/sum(term in document for document in documents), math.e)\n",
    "    return idf_dict\n"
   ]
  },
  {
   "cell_type": "code",
   "execution_count": 310,
   "metadata": {},
   "outputs": [],
   "source": [
    "# Function to generate the vector for a document (with normalisation)\n",
    "def vectorize(documents, vocabulary):\n",
    "    document_vectors = []\n",
    "    idf_dict = get_idf(vocabulary, documents)\n",
    "    \n",
    "    for document in documents:\n",
    "        # vector dimension = len of vocabulary\n",
    "        vector = [0]*len(vocabulary)\n",
    "        tf_dict = get_tf(vocabulary, document)\n",
    "        for i, term in enumerate(vocabulary):\n",
    "            vector[i] = idf_dict[term] * tf_dict[term]\n",
    "        document_vectors.append(vector)\n",
    "    return document_vectors"
   ]
  },
  {
   "cell_type": "code",
   "execution_count": 311,
   "metadata": {},
   "outputs": [],
   "source": [
    "def vectorize_query(query, documents, vocabulary):\n",
    "    idf_dict = get_idf(vocabulary, documents)\n",
    "    \n",
    "    vector = [0]*len(vocabulary)\n",
    "    counts = Counter(query)\n",
    "    max_count = counts.most_common(1)[0][1]\n",
    "    for i,term in enumerate(vocabulary):\n",
    "        vector[i] = idf_dict[term] * counts[term]/max_count\n",
    "    return vector"
   ]
  },
  {
   "cell_type": "markdown",
   "metadata": {},
   "source": [
    "### Top-k relevant documents query"
   ]
  },
  {
   "cell_type": "code",
   "execution_count": 312,
   "metadata": {},
   "outputs": [],
   "source": [
    "# Reference code using scikit-learn\n",
    "# doc: path to doc.txt\n",
    "# query: ['computer science'] (in list)\n",
    "def search_vec_sklearn(doc, query, threshold=0.1):\n",
    "    original_documents = get_original_documents(doc)\n",
    "\n",
    "    # min_df = When building the vocabulary ignore terms that have a document frequency strictly lower than the given threshold. \n",
    "    tf = TfidfVectorizer(analyzer='word', ngram_range=(1,1), min_df = 1, stop_words = 'english')\n",
    "    # fit_transform: Learn vocabulary and idf, return term-document matrix.\n",
    "    features = tf.fit_transform(original_documents)\n",
    "    # npm_tfidf = features.todense()\n",
    "    # transform: Transform documents to document-term matrix.\n",
    "    new_features = tf.transform(query) # ['computer science']\n",
    "\n",
    "    cosine_similarities = linear_kernel(new_features, features).flatten()\n",
    "    related_docs_indices, cos_sim_sorted = zip(*sorted(enumerate(cosine_similarities), key=itemgetter(1), \n",
    "                                                       reverse=True))    \n",
    "    doc_ids = []\n",
    "    for i, cos_sim in enumerate(cos_sim_sorted):\n",
    "        if cos_sim < threshold:\n",
    "            break\n",
    "        doc_ids.append(related_docs_indices[i])\n",
    "    return doc_ids\n"
   ]
  },
  {
   "cell_type": "code",
   "execution_count": 313,
   "metadata": {},
   "outputs": [],
   "source": [
    "def search_vec(query, documents, document_vectors, vocabulary, topk=5):\n",
    "    stemmer = PorterStemmer()\n",
    "    # transform query into document vector\n",
    "    q = query.split()\n",
    "    q = [stemmer.stem(w) for w in q] \n",
    "    query_vector = vectorize_query(q, documents, vocabulary)\n",
    "    # Computer similarity\n",
    "    scores = [[cosine_similarity(query_vector, document_vectors[d]), d] for d in range(len(documents))]\n",
    "    scores.sort(key=lambda x: -x[0])\n",
    "    doc_ids = []\n",
    "    for i in range(topk):\n",
    "        doc_ids.append(scores[i][1]) \n",
    "    return doc_ids"
   ]
  },
  {
   "cell_type": "code",
   "execution_count": 316,
   "metadata": {},
   "outputs": [
    {
     "data": {
      "text/plain": [
       "[4, 838, 795, 30, 89]"
      ]
     },
     "execution_count": 316,
     "metadata": {},
     "output_type": "execute_result"
    }
   ],
   "source": [
    "documents = get_documents('notebooks/01.Vector_Space_Retrieval/epfldocs')\n",
    "vocabulary = get_vocabulary(documents) \n",
    "document_vectors = vectorize(documents, vocabulary)\n",
    "search_vec('computer science', documents, document_vectors, vocabulary)"
   ]
  },
  {
   "cell_type": "code",
   "execution_count": 318,
   "metadata": {},
   "outputs": [],
   "source": [
    "relevant_ids = search_vec_sklearn('notebooks/01.Vector_Space_Retrieval/epfldocs', ['computer science'])"
   ]
  },
  {
   "cell_type": "markdown",
   "metadata": {},
   "source": [
    "### Recall, Accuracy, F1, Interpolated precision, MAP\n",
    "\n",
    "* MAP(queries = Q) = Mean over all the queries ( mean over all the interpolated precision over 1 query for all k level of recall)"
   ]
  },
  {
   "cell_type": "code",
   "execution_count": 319,
   "metadata": {},
   "outputs": [],
   "source": [
    "def compute_recall_at_k(predict, gt, k):\n",
    "    # predict: documents of my own funcs\n",
    "    # k: int. top k docs recall\n",
    "    # gt: ground truth\n",
    "    # We need to use a set cuz there might be recall with slight differences =>\n",
    "    # we don't care about order of retrieval\n",
    "    correct_recall = set(predict[:k]).intersection(set(gt))\n",
    "    return len(correct_recall)/len(gt)"
   ]
  },
  {
   "cell_type": "code",
   "execution_count": 320,
   "metadata": {},
   "outputs": [],
   "source": [
    "def compute_precision_at_k(predict, gt, k):\n",
    "    # predict: documents of my own funcs\n",
    "    # k: int. top k docs precision\n",
    "    # gt: ground truth\n",
    "    correct_predict = set(predict[:k]).intersection(set(gt))\n",
    "    return len(correct_predict)/k"
   ]
  },
  {
   "cell_type": "code",
   "execution_count": 321,
   "metadata": {},
   "outputs": [],
   "source": [
    "def f1score(predict, gt, k):\n",
    "    prec = compute_precision_at_k(predict, gt, k)\n",
    "    rec = compute_recall_at_k(predict, gt, k)\n",
    "    print(prec, rec)\n",
    "    return 2*prec*rec/(prec+rec)\n",
    "\n",
    "# f1score(retrieved_ids_freq, gt_ids, 10)"
   ]
  },
  {
   "cell_type": "code",
   "execution_count": 322,
   "metadata": {},
   "outputs": [],
   "source": [
    "def compute_interpolated_precisions(prec_rec):\n",
    "    max_prec = []\n",
    "    current_rec = prec_rec[-1][1]  # lastest (precision, recall)\n",
    "    for k, (prec, rec) in enumerate(prec_rec):\n",
    "        max_precision = prec\n",
    "        # get max precision from position k & on => precision can only\n",
    "        # decrease monotonically\n",
    "        for j, (precision, recall) in enumerate(prec_rec[k+1:]):\n",
    "            if precision > max_precision and recall >= rec:\n",
    "                max_precision = precision\n",
    "        max_prec.append(max_precision)\n",
    "    return max_prec"
   ]
  },
  {
   "cell_type": "code",
   "execution_count": 323,
   "metadata": {},
   "outputs": [],
   "source": [
    "def compute_map(queries):\n",
    "    documents = get_documents('notebooks/01.Vector_Space_Retrieval/epfldocs')\n",
    "    vocabulary = get_vocabulary(documents) \n",
    "    document_vectors = vectorize(documents, vocabulary)\n",
    "\n",
    "    map_score = 0\n",
    "    prec_rec_dict = []\n",
    "    for i, query in enumerate(queries):\n",
    "        predict = search_vec(query, documents, document_vectors, vocabulary, 10)\n",
    "        gt = search_vec_sklearn('notebooks/01.Vector_Space_Retrieval/epfldocs', [query]) # relevant doc ids\n",
    "        prec_rec = []\n",
    "        \n",
    "        for k in range(1, len(gt)+1):\n",
    "            precision_at_k = compute_precision_at_k(predict, gt, k)\n",
    "            recall_at_k = compute_recall_at_k(predict, gt, k)\n",
    "            prec_rec.append((precision_at_k, recall_at_k))\n",
    "        \n",
    "        # get a list of monotonically decreasing precisions\n",
    "        precs_int = compute_interpolated_precisions(prec_rec) \n",
    "        map_score += sum(precs_int)/len(gt)\n",
    "        prec_rec_dict.append(prec_rec)\n",
    "    # mean average precision over all the queries for all level of \n",
    "    # recall\n",
    "    map_score = map_score/len(queries)\n",
    "    return map_score, prec_rec_dict"
   ]
  },
  {
   "cell_type": "code",
   "execution_count": 324,
   "metadata": {},
   "outputs": [],
   "source": [
    "queries = [\"computer science\", \"IC school\", \"information systems\"]\n",
    "map_score, prec_rec_dict = compute_map(queries) # MAP over 3 queries"
   ]
  },
  {
   "cell_type": "markdown",
   "metadata": {},
   "source": [
    "# 2. Probabilisitic Retrieval and Inverted Files"
   ]
  },
  {
   "cell_type": "markdown",
   "metadata": {},
   "source": [
    "### Construct inverted files with MapReduce"
   ]
  },
  {
   "cell_type": "code",
   "execution_count": 325,
   "metadata": {},
   "outputs": [],
   "source": [
    "# Take a pair (doc_id, content). Example: (0, ['how', 'to', 'bake', 'bread', 'without', 'bake', 'recip'])\n",
    "# Return: list of (word, doc_id). Example: ('bake', 0)\n",
    "# For simplicity, we assume each mapper handles a document\n",
    "def map_function(doc_id, content):\n",
    "    keyvals = []\n",
    "    for word in content:\n",
    "        keyvals.append((word, doc_id))\n",
    "    return keyvals"
   ]
  },
  {
   "cell_type": "code",
   "execution_count": 326,
   "metadata": {},
   "outputs": [],
   "source": [
    "# Take a list of pairs (word, doc_id). Example:  [('bake', 0), ('bake', 0), ('bake', 3)]\n",
    "# Return: (word, frequency, list of document ids). Example ('bake', 3, [0, 0, 3])\n",
    "# For simplicity, we assume each reducer handles a word\n",
    "def reduce_function(lst):\n",
    "    total = 0\n",
    "    # [(**'food'**, 158), ('food', 323), ...]\n",
    "    word = lst[0][0] # the word this reducer handles\n",
    "    doc_ids = []\n",
    "    for w, doc_id in lst:\n",
    "        assert(word==w) # Assume each reducer handles 1 word\n",
    "        total = total + 1 \n",
    "        doc_ids.append(doc_id)\n",
    "    return (word, total, doc_ids)"
   ]
  },
  {
   "cell_type": "code",
   "execution_count": 327,
   "metadata": {},
   "outputs": [],
   "source": [
    "# We simulate the mapreduce framework by this function\n",
    "def run_mapreduce(docs_n_doc_ids):\n",
    "    # Map phase\n",
    "    key_values = [] # (word, docid)\n",
    "    for doc_id, doc_content in docs_n_doc_ids:\n",
    "        key_values.extend(map_function(doc_id, doc_content))\n",
    "    # Shuffle phase\n",
    "    values = set(map(lambda x:x[0], key_values)) # list of words\n",
    "    # ordered list of [('thesi', 401), ('thesi', 469), ('thesi', 502), ...]\n",
    "    grouped_key_values = [[y for y in key_values if y[0]==x] for x in values] \n",
    "    # Reduce phase\n",
    "    inverted_files = []\n",
    "    for grouped_key_value in grouped_key_values:\n",
    "        word, total, doc_ids = reduce_function(grouped_key_value)\n",
    "        inverted_files.append((word, total, doc_ids)) # wordkey, #docs, docids (postings)\n",
    "    return inverted_files"
   ]
  },
  {
   "cell_type": "code",
   "execution_count": 328,
   "metadata": {},
   "outputs": [
    {
     "data": {
      "text/plain": [
       "('know', 4, [102, 215, 353, 778])"
      ]
     },
     "execution_count": 328,
     "metadata": {},
     "output_type": "execute_result"
    }
   ],
   "source": [
    "documents = get_documents('notebooks/01.Vector_Space_Retrieval/epfldocs')\n",
    "# zip('ABCD', 'xy') --> Ax By. Zip 1st must be iteration\n",
    "docs_n_doc_ids = list(zip(range(len(documents)), documents))\n",
    "inverted_files = run_mapreduce(docs_n_doc_ids)\n",
    "inverted_files[0]"
   ]
  },
  {
   "cell_type": "markdown",
   "metadata": {},
   "source": [
    "### Distributed Info Retrieval - Fagin's Algorithm for topk docs"
   ]
  },
  {
   "cell_type": "code",
   "execution_count": 330,
   "metadata": {},
   "outputs": [],
   "source": [
    "path = \"notebooks/01.Vector_Space_Retrieval/bread\"\n",
    "original_documents = get_original_documents(path)\n",
    "documents = get_documents(path)\n",
    "\n",
    "vocabulary = get_vocabulary(documents) \n",
    "document_vectors = vectorize(documents, vocabulary)\n",
    "doc_vecs = np.transpose(np.array(document_vectors))\n",
    "\n",
    "# Construct posting lists\n",
    "h = {} # decreasing sorted tf-idf per term for all documents\n",
    "# {'art': [(2, 1.6094379124341003), (0, 0.0), (1, 0.0), (3, 0.0), (4, 0.0)],\n",
    "for i, term in enumerate(vocabulary):\n",
    "    ha = {}\n",
    "    for docj in range(len(original_documents)):\n",
    "        tfidf = doc_vecs[i][docj]\n",
    "        ha[docj] = tfidf\n",
    "    # tf-idf for 1 term for every documents\n",
    "    sorted_ha = sorted(ha.items(), key=itemgetter(1), reverse=True) \n",
    "    h[term] = sorted_ha\n",
    "    \n",
    "    "
   ]
  },
  {
   "cell_type": "code",
   "execution_count": 331,
   "metadata": {},
   "outputs": [
    {
     "name": "stdout",
     "output_type": "stream",
     "text": [
      "documents_occurrences:  {0: 2, 1: 1, 2: 1, 3: 2}\n",
      "[(3, 1.1394342831883648), (0, 0.5697171415941824)]\n",
      "Breads, Pastries, Pies, and Cakes: Quantity Baking Recipes\n",
      "How to Bake Breads Without Baking Recipes\n"
     ]
    }
   ],
   "source": [
    "def fagin_algorithm(query, h, k, vocabulary):\n",
    "    \n",
    "    # Split and stem the query\n",
    "    q = query.split()\n",
    "    q = set([stemmer.stem(w) for w in q])\n",
    "    query_term_cnt = len(q)\n",
    "#     print(q)\n",
    "    \n",
    "    # select the posting lists for the query terms\n",
    "    posting_lists = {}\n",
    "    for term in q:\n",
    "        if term in h:\n",
    "            posting_lists[term] = h[term] # h['bread'] + h['recip']\n",
    "\n",
    "    max_len = len(documents)\n",
    "    \n",
    "    # Traverse the selected posting lists until we found k documents that appear in ALL posting lists\n",
    "    # This corresponds to phase 1 of Fagin's algorithm.\n",
    "    # As a result you produce a dictionary documents_occurrences, with the document identifiers as keys, \n",
    "    # and the number of documents found as value.\n",
    "    # We stop traversing the posting lists until we have found k documents that appear in ALL posting lists \n",
    "    # of the query terms\n",
    "\n",
    "    documents_occurrences = {}\n",
    "    l = 0\n",
    "    found_documents = 0\n",
    "    while l < max_len:\n",
    "        for term in q:\n",
    "            d  = posting_lists[term][l][0] # document id: (**2**, 1.6094379124341003)\n",
    "            if d in documents_occurrences.keys():\n",
    "                documents_occurrences[d] = documents_occurrences[d]+1\n",
    "            else:\n",
    "                documents_occurrences[d] = 1\n",
    "                \n",
    "            if documents_occurrences[d] == query_term_cnt:\n",
    "                found_documents = found_documents + 1\n",
    "        if found_documents == k:\n",
    "            l = max_len + 1 # get out of the loop\n",
    "            break\n",
    "        else:\n",
    "            l = l+1\n",
    "                \n",
    "    print(\"documents_occurrences: \", documents_occurrences)\n",
    "        \n",
    "    # Retrieve for the found documents the tfidf values and add them up.\n",
    "    # For simplicity, we do not distinguish the cases whether the values have already been retrieved in the \n",
    "    # previous phase, or whether we use random access to obtain those values\n",
    "    \n",
    "    tfidf = {}\n",
    "    for d in documents_occurrences.keys():\n",
    "        t = 0\n",
    "        for term in q:\n",
    "            t = t + dict(posting_lists[term])[d]\n",
    "        tfidf[d] = t\n",
    "        \n",
    "    # Finally we compute the top-k documents and return the answer\n",
    "    \n",
    "    ans = sorted(tfidf.items(), key=lambda x:x[1], reverse = True)[:k]\n",
    "    return ans\n",
    "\n",
    "# h = dictionary of decreasing sorted tf-idf per term for all documents\n",
    "# {'art': [(2, 1.6094379124341003), (0, 0.0), (1, 0.0), (3, 0.0), (4, 0.0)],\n",
    "ans = fagin_algorithm(\"bread recipe\", h, 2, vocabulary)\n",
    "print(ans)\n",
    "for document_id in ans:\n",
    "    print(original_documents[document_id[0]])"
   ]
  },
  {
   "cell_type": "markdown",
   "metadata": {},
   "source": [
    "# 3. Latent Semantic Indexing & Word Embedding"
   ]
  },
  {
   "cell_type": "markdown",
   "metadata": {},
   "source": [
    "### 3.1 Latent Semantic Indexing\n",
    "\n",
    "#### M_s = K_s * S_s * D_s.T\n",
    "\n",
    "- M = m terms x n documents - term-doc matrix\n",
    "- M_s: only the S largest singular values \n",
    "- K_s: m terms x s importances\n",
    "- S_s = s * s sorted singular values\n",
    "- D_s.T = s * n documents\n",
    "\n",
    "#### How to answer queries:\n",
    "\n",
    "* Use cosine similarity to compaire documents: (Ds.T)i (ith column), (Ds.T)j (jth column)\n",
    "* Query = additional document\n",
    "* Mapping M ==> D:  D = M.T * K * S^-1\n",
    "* **Mapping query** : q* = q.T * K.s * S.s^-1\n",
    "* **Comparing similarities**: sim(q*, d_i) = (q* dot (Ds.T)i) / (norm(q*) * norm(Ds.T_i))\n",
    "\n",
    "#### Dropping a document d3 in document space...\n",
    "The document ordering does not change even if d3 is dropped. Recall that all the documents in the term-document matrix can be considered as vectors in a  Rm dimensional vector space. Thus, since d3 has a similar magnitude and direction as d4 and d2, dropping d3 does not alter substantially the term space ( K ) and the document space ( D ) of the SVD.\n",
    "\n",
    "To modify the term and document space we should change d3 such that it in a different direction as compared to the other vectors. For example, d3 = (0, 0, 1, 1, 2, 1, 0, 0, 2, 0, 2) changes the document ordering to d2 > d4 > d1 > d3.\n"
   ]
  },
  {
   "cell_type": "code",
   "execution_count": 211,
   "metadata": {},
   "outputs": [],
   "source": [
    "from nltk.tokenize import word_tokenize, TweetTokenizer\n",
    "from nltk.corpus import stopwords"
   ]
  },
  {
   "cell_type": "code",
   "execution_count": 222,
   "metadata": {},
   "outputs": [],
   "source": [
    "def SVD(M):\n",
    "    # compute SVD\n",
    "    K, S, Dt = np.linalg.svd(M, full_matrices=False) # K = min(M, N) if full_matrices = False\n",
    "    return K, S, Dt\n",
    "\n",
    "K, S, Dt =  SVD(M)\n",
    "\n",
    "def SVD_k(M, k):\n",
    "    K, S, Dt = SVD(M)\n",
    "    # LSI select dimensions\n",
    "    K_sel = K[:,0:k]\n",
    "    S_sel = np.diag(S)[0:k,0:k]\n",
    "    Dt_sel = Dt[0:k,:]\n",
    "    return K_sel, S_sel, Dt_sel"
   ]
  },
  {
   "cell_type": "code",
   "execution_count": 246,
   "metadata": {},
   "outputs": [],
   "source": [
    "# q = quest; M = Term-doc matrix; k = top k documents;\n",
    "def q_star(q, M, k):\n",
    "    K, S, Dt = SVD(M)\n",
    "    \n",
    "    K_sel = K_sel = K[:,0:k]\n",
    "    S_sel = np.diag(S)[0:k,0:k]\n",
    "    #Map the query q onto the document space D as q* = qT · (K_sel · S_sel−1)\n",
    "    mapper = np.dot(K_sel, np.linalg.inv(S_sel))\n",
    "    q_trans =  np.dot( q, mapper)\n",
    "    return q_trans\n",
    "\n",
    "def rank_documents(q_star, Dt, k):\n",
    "    # dict of (doc_id, cos_sim)\n",
    "    document_ranking = dict()\n",
    "    # Shrink the documents according to highest k singular values\n",
    "    Dt_sel = Dt[0:k,:]\n",
    "\n",
    "    for i in range(0, Dt_sel.shape[1]):\n",
    "        d = Dt_sel[:, i]\n",
    "        cos_sim = cosine_similarity(q_star, d)\n",
    "        document_ranking[i] = cos_sim\n",
    "    \n",
    "    # Sort according to values\n",
    "    document_ranking_sorted = sorted(document_ranking.items(), key=itemgetter(1), reverse = True)\n",
    "    return document_ranking_sorted\n"
   ]
  },
  {
   "cell_type": "code",
   "execution_count": 237,
   "metadata": {},
   "outputs": [
    {
     "data": {
      "text/plain": [
       "[(0, 0.9980518678772611),\n",
       " (3, 0.7231078789682566),\n",
       " (2, -0.002328875052966951),\n",
       " (4, -0.6551062911362043),\n",
       " (1, -0.6577609566355738)]"
      ]
     },
     "execution_count": 237,
     "metadata": {},
     "output_type": "execute_result"
    }
   ],
   "source": [
    "#### Find top documents for quest 'baking', with k = 3 ####\n",
    "documents = get_documents('notebooks/01.Vector_Space_Retrieval/bread')\n",
    "vocabulary = get_vocabulary(documents) \n",
    "document_vectors = vectorize(documents, vocabulary)\n",
    "\n",
    "## take transpose of document vectors to convert to term document matrix.\n",
    "M = np.matrix.transpose(np.array(document_vectors))\n",
    "\n",
    "## Run LSI.\n",
    "K, S, Dt = SVD(M)\n",
    "K_sel, S_sel, Dt_sel = SVD_k(M, 3)\n",
    "\n",
    "## Prepare query\n",
    "# transform query and documents\n",
    "q = np.array([0]*len(vocabulary))\n",
    "#Set the term corresponding to baking = 1 (see vocabulary)\n",
    "q[1] = 1\n",
    "q__ = q_star(q, M, 3) # query in concept space\n",
    "\n",
    "# Compute similarities\n",
    "rank_documents(q__, Dt, 3)"
   ]
  },
  {
   "cell_type": "markdown",
   "metadata": {},
   "source": [
    "#### 3.1.2 Midterm"
   ]
  },
  {
   "cell_type": "code",
   "execution_count": 247,
   "metadata": {},
   "outputs": [],
   "source": [
    "def read_corpus():\n",
    "    '''Reads corpus from files.'''\n",
    "    stop_words = set(stopwords.words('english')).union(set(stopwords.words('french')))\n",
    "    documents = []\n",
    "    orig_docs = []\n",
    "    DIR = './'\n",
    "    tknzr = TweetTokenizer()\n",
    "    with open(\"notebooks/01.Vector_Space_Retrieval/epfldocs.txt\", encoding = \"utf-8\") as f:\n",
    "        content = f.readlines()\n",
    "    for text in content:\n",
    "        orig_docs.append(text)\n",
    "        # split into words\n",
    "        tokens = tknzr.tokenize(text)\n",
    "        # convert to lower case\n",
    "        tokens = [w.lower() for w in tokens]\n",
    "        # remove punctuation from each word\n",
    "        table = str.maketrans('', '', string.punctuation)\n",
    "        stripped = [w.translate(table) for w in tokens]\n",
    "        # remove remaining tokens that are not alphabetic\n",
    "        words = [word for word in stripped if word.isalpha()]\n",
    "        # filter out stop words\n",
    "        words = [w for w in words if not w in stop_words]\n",
    "\n",
    "        documents.append(' '.join(words))\n",
    "    return documents, orig_docs\n",
    "\n",
    "def construct_term_document_matrix(vocabulary, documents):\n",
    "    # Construct term-doc matrix\n",
    "    matrix = np.zeros((len(vocabulary), len(documents)))\n",
    "    for j, document in enumerate(documents):\n",
    "        counter = Counter(document.split())\n",
    "        for i, word in enumerate(vocabulary):\n",
    "            if word in counter:\n",
    "                # i'th word, j'th doc => # occurence\n",
    "                matrix[i,j] = counter[word] \n",
    "    return matrix\n",
    "\n",
    "# same as SVD_k\n",
    "def truncated_svd(term_doc_matrix, num_val):\n",
    "    K, S, Dt = np.linalg.svd(term_doc_matrix, full_matrices=False)\n",
    "    K_sel = K[:,0:num_val]\n",
    "    S_sel = np.diag(S)[0:num_val,0:num_val]\n",
    "    Dt_sel = Dt[0:num_val,:]\n",
    "    return K_sel, S_sel, Dt_sel\n"
   ]
  },
  {
   "cell_type": "code",
   "execution_count": 251,
   "metadata": {},
   "outputs": [],
   "source": [
    "# Construct query vector => treat as a new document vector\n",
    "def query_to_document_vector(query, vocabulary):\n",
    "    vector = np.zeros(len(vocabulary))\n",
    "    for word in query:\n",
    "        try:\n",
    "            vector[vocabulary.index(word)] += 1\n",
    "        except: # if query word is not in vocabulary\n",
    "            # ignore it => cuz initial vector = 0 vector\n",
    "            pass\n",
    "    return vector\n",
    "\n",
    "# q_star = q.T * K_k * S_k^-1\n",
    "def construct_query_vector(query, vocabulary, K_sel, S_sel):\n",
    "    q = query_to_document_vector(query, vocabulary)\n",
    "    mapper = np.dot(K_sel, np.linalg.inv(S_sel))\n",
    "    q_trans =  np.dot( q, mapper)\n",
    "    return q_trans\n",
    "\n",
    "def retrieve_documents(query_vector, top_k, Dt_sel):\n",
    "    # Compute similarity of q_star with all docs in concept space\n",
    "    # Take top k\n",
    "    scores = [[cosine_similarity(query_vector, Dt_sel[:,d]), d] for d in range(len(documents))]\n",
    "    scores.sort(key=lambda x: -x[0])\n",
    "    doc_ids = []\n",
    "    retrieved = []\n",
    "    for i in range(top_k):\n",
    "        doc_ids.append(scores[i][1])\n",
    "        retrieved.append(orig_docs[scores[i][1]])\n",
    "    return doc_ids, retrieved"
   ]
  },
  {
   "cell_type": "code",
   "execution_count": 242,
   "metadata": {},
   "outputs": [
    {
     "name": "stderr",
     "output_type": "stream",
     "text": [
      "/anaconda3/envs/dis2019/lib/python3.5/site-packages/ipykernel_launcher.py:6: RuntimeWarning: invalid value encountered in double_scalars\n",
      "  \n"
     ]
    }
   ],
   "source": [
    "documents, orig_docs = read_corpus()\n",
    "vocab_freq = create_vocabulary_frequency(documents, 1000)\n",
    "term_doc_matrix_freq = construct_term_document_matrix(vocab_freq, documents)\n",
    "K_freq, S_freq, Dt_freq = truncated_svd(term_doc_matrix_freq,100)\n",
    "\n",
    "query = ['epfl']\n",
    "query_vector_freq = construct_query_vector(query, vocab_freq, K_freq, S_freq)\n",
    "retrieved_ids_freq, retrieved_docs_freq = retrieve_documents(query_vector_freq, 10, Dt_freq)\n"
   ]
  },
  {
   "cell_type": "markdown",
   "metadata": {},
   "source": [
    "### 3.2 Word Embeddings\n",
    "- Local proximity: S words before & after the word"
   ]
  },
  {
   "cell_type": "code",
   "execution_count": 341,
   "metadata": {},
   "outputs": [],
   "source": [
    "import sys\n",
    "import codecs\n",
    "import numpy as np\n",
    "\n",
    "# Edit this, or just move model_epfldocs.vec to the directory where this notebook is situated\n",
    "directory_path = 'notebooks/03.Advanced_Information_Retrieval/'\n",
    "original_documents = get_original_documents(directory_path + 'epfldocs')\n",
    "\n",
    "def load_embeddings(file_name):\n",
    "    with codecs.open(file_name, 'r', 'utf-8') as f_in:\n",
    "        lines = f_in.readlines()\n",
    "        lines = lines[1:]\n",
    "        vocabulary, wv = zip(*[line.strip().split(' ', 1) for line in lines])\n",
    "    wv = np.loadtxt(wv)\n",
    "    return wv, vocabulary\n",
    "\n",
    "# Replace the path based on your own machine.\n",
    "word_embeddings, vocabulary = load_embeddings(directory_path + 'model_epfldocs.vec')\n"
   ]
  },
  {
   "cell_type": "markdown",
   "metadata": {},
   "source": [
    "* Find the most similar term to a query term in the vocabulary using word embeddings."
   ]
  },
  {
   "cell_type": "code",
   "execution_count": 340,
   "metadata": {},
   "outputs": [
    {
     "data": {
      "text/plain": [
       "[('EPFL', 1.0),\n",
       " ('@EPFL', 0.9998978811406759),\n",
       " ('#EPFL', 0.9998585853994781),\n",
       " ('l’#EPFL', 0.9997859775153901),\n",
       " ('@EPFLevents', 0.9997827153523552)]"
      ]
     },
     "execution_count": 340,
     "metadata": {},
     "output_type": "execute_result"
    }
   ],
   "source": [
    "# Find the most similar term to a query term in the vocabulary using word embeddings.\n",
    "def find_most_similar(input_term, word_embeddings, vocabulary, num_terms=3):\n",
    "    # For later easier computation.\n",
    "    term_embedding_dict = {}\n",
    "    for i, term in enumerate(vocabulary):\n",
    "        term_embedding_dict[term] = word_embeddings[i]\n",
    "    \n",
    "    if input_term not in term_embedding_dict:\n",
    "        return \"Not in embedding\"\n",
    "    \n",
    "    input_term_embedding = term_embedding_dict[input_term]\n",
    "    \n",
    "    # Compute cosine similarity of each term in voc with the search term\n",
    "    term_similarities = {}\n",
    "    for term, word_embedding in term_embedding_dict.items():\n",
    "        term_similarities[term] = cosine_similarity(input_term_embedding, word_embedding)\n",
    "    \n",
    "    # Sort similarity of the terms in reverse order according to similarities\n",
    "    sorted_similarities = sorted(term_similarities.items(), key=itemgetter(1), reverse=True)\n",
    "    \n",
    "    return sorted_similarities[0: num_terms]\n",
    "\n",
    "find_most_similar('EPFL', word_embeddings, vocabulary, num_terms=5)\n"
   ]
  },
  {
   "cell_type": "markdown",
   "metadata": {},
   "source": [
    "#### Querying using Word Embedding\n",
    "Find the n most similar documents to a multiple-word query using word-embedding.\n",
    "1. Aggregate all the word embedding vectors in each document using max/min/mean all word vectors in 1 document.\n",
    "2. Put the query vector to word embedding vector in the same way\n",
    "3. Using sklearn cosine_similarity, calculate the cosine_sim in one shot of all documents vs query vector, then take the top n similar."
   ]
  },
  {
   "cell_type": "code",
   "execution_count": 334,
   "metadata": {},
   "outputs": [],
   "source": [
    "# Since both document & query is variable size\n",
    "# Aggregate the vectors of the words in the query by taking\n",
    "# min vector / max vector / mean\n",
    "def aggregate_vector_list(vlist, aggfunc):\n",
    "    if aggfunc == 'max':\n",
    "        return np.array(vlist).max(axis=0)\n",
    "    elif aggfunc == 'min':\n",
    "        return np.array(vlist).min(axis=0)\n",
    "    elif aggfunc == 'mean':\n",
    "        return np.array(vlist).mean(axis=0)\n",
    "    else:\n",
    "        return np.zeros(np.array(vlist).shape[1])\n",
    "\n",
    "possible_aggfuncs = [\"max\", \"min\", \"mean\"]"
   ]
  },
  {
   "cell_type": "code",
   "execution_count": 336,
   "metadata": {},
   "outputs": [],
   "source": [
    "# Create a dictionary of vectors for easier search\n",
    "vocabulary_embedding_dict = dict(zip(vocabulary, word_embeddings))\n",
    "\n",
    "# Aggregate vectors of documents beforehand => each document has multiple words\n",
    "# Need an aggregated representation to represent all the word embeddings vectors for 1 documents\n",
    "# Thus we can take the mean/max/min of all the word embeddings vectors\n",
    "# Be sure to tokenize the document with nltk.word_tokenize!\n",
    "aggregated_doc_vectors = {}\n",
    "# For max, min, mean\n",
    "for aggfunc in possible_aggfuncs:\n",
    "    # Initialize with zero vector\n",
    "    aggregated_doc_vectors[aggfunc] = np.zeros((len(original_documents), word_embeddings.shape[1]))\n",
    "    \n",
    "    # For each document\n",
    "    for index, doc in enumerate(original_documents):\n",
    "       # Vlist represent all the word embedding vectors for each word in a document \n",
    "        vlist = []\n",
    "        for token in nltk.word_tokenize(doc):\n",
    "            if token in vector_dict:\n",
    "                vlist.append(vector_dict[token])\n",
    "                \n",
    "        if(len(vlist) < 1): # if the document has no word recognized in the vocabulary\n",
    "            print(index)\n",
    "            continue\n",
    "        else:\n",
    "            aggregated_doc_vectors[aggfunc][index] = aggregate_vector_list(vlist, aggfunc) \n",
    "            \n",
    "        # aggregated_doc_vectors['max'] has 1 vector of dimension 100 per document!\n",
    "        "
   ]
  },
  {
   "cell_type": "code",
   "execution_count": 353,
   "metadata": {},
   "outputs": [
    {
     "name": "stdout",
     "output_type": "stream",
     "text": [
      "[ 981   90  674  207   94  584  706   47 1051  325]\n",
      "@EPFL go to https://t.co/go0ZwhqT8d … … … … … … … … and read my campaign for the 2020 election\n",
      "After jet lag, before forgetting: HK–CHIC, episode 6 @chic_community #epfl #voyage #hongkong https://t.co/3LNG5suuw8 …\n",
      "\"1946: No longer scared of the dark\" His #CV is a gem https://t.co/H1TCmSsNJB … @unil @epfl @UNIGEnews @embl #Nobel https://t.co/YaFnD9cIOr\n",
      "Pause déjeuner , moment de convivialité en plein coeur de #Portivechju avant de reprendre les travaux de l'AG de #Association des #EPFL https://t.co/NZhkFZTpxe\n",
      "Et des super-pouvoirs des bibliothécaires de la BCU alors ? https://t.co/jOYiUOrOHe\n",
      "Bras de fer autour de la taxe d’études de l'#EPFL https://t.co/pr7GBU3f04\n",
      "Deux mois à Pyeongchang pour étudier la neige coréenne https://t.co/UWFtrbqvyH #epfl\n",
      "L'EPFL sera la capitale des drones début septembre https://t.co/QdxCmZa3bV #epfl\n",
      "Des ordinateurs prêts à faire de l'ombre à #Bach ou #Beethoven #EPFL https://t.co/udQn1RpSpf\n",
      "Il ne vous reste plus qu'une semaine pour participer au #concours Insta #EPFLMaurice dont voici quelques clichés 📸🦈💦 Pour photographier #MauriceLibrarySecurity, RDV à l'entrée de la #bibliotheque #epfl ! Be original, des bons d'achats d'une valeur de CHF 100.- sont à gagner 😉 https://t.co/W5BXPZMtUO\n"
     ]
    }
   ],
   "source": [
    "query = \"EPFL\"\n",
    "\n",
    "def aggregate_query(query, aggfunc):\n",
    "    # Raise an error message for the case when there is no words in the query that is included in the vocabulary\n",
    "    # This should return a vector of shape (1, word_embeddings.shape[1])\n",
    "    vlist = []\n",
    "    words = nltk.word_tokenize(query)\n",
    "    query_word_not_in  = 0\n",
    "    for word in words:\n",
    "        if word not in vector_dict:\n",
    "            query_word_not_in += 1\n",
    "        else:\n",
    "            vlist.append(vector_dict[word])\n",
    "    \n",
    "    if query_word_not_in == len(words):\n",
    "        raise(\"No word in query is in dictionary\")\n",
    "    \n",
    "    return vlist\n",
    "            \n",
    "from sklearn.metrics.pairwise import cosine_similarity\n",
    "\n",
    "def get_most_similar_documents(query_vector, aggfunc, k = 5):\n",
    "    # Calculate the similarity with each document vector. \n",
    "    # Hint: Cosine similarity function takes a matrix as input so you do not need to loop through each document vector.\n",
    "    sim = cosine_similarity(query_vector, aggregated_doc_vectors[aggfunc])\n",
    "    \n",
    "    # Rank the document vectors according to their cosine similarity with \n",
    "    indexes = np.argsort(sim, axis=-1, kind='quicksort', order=None)\n",
    "    indexes = indexes[0] # because it's a [[array]]\n",
    "    return indexes\n",
    "\n",
    "\n",
    "def search_vec_embeddings(query, topk = 10, aggfunc = 'mean'):\n",
    "    query_vector = aggregate_query(query, aggfunc)\n",
    "    indexes = get_most_similar_documents(query_vector, aggfunc)\n",
    "    # Print the top k documents\n",
    "    indexes = indexes[0:topk]\n",
    "    print(indexes)\n",
    "    for index in indexes:\n",
    "        print(original_documents[index])\n",
    "        \n",
    "search_vec_embeddings('EPFL', aggfunc = 'mean')\n"
   ]
  },
  {
   "cell_type": "markdown",
   "metadata": {},
   "source": [
    "# 4. Relevance Feedback"
   ]
  },
  {
   "cell_type": "markdown",
   "metadata": {},
   "source": [
    "### 4.1 Rocchio: Query modification to retrieve more relevant documents\n",
    "\n",
    "Rocchio's method for user relevance feedback - Try to modify the query vector so that it falls more in the relevant documents section.\n",
    "\n",
    "Belong s SMART Rocchio with alpha + beta + gamma for tuning.\n",
    "\n",
    "In the Rocchio algorithm negative term weights are ignored. This means, for the negative term weights in $\\vec{q_m}$, we set them to be 0.\n",
    "\n",
    "$D_r $ : Set of relevant documents\n",
    "\n",
    "$D_{nr}$: Set of unrelevant documents\n",
    "\n",
    "$\\vec{q_m}$ : Modified query\n",
    "\n",
    "\\begin{equation}\n",
    "\\vec{q_m} = \\alpha \\vec{q_0} + \\frac{\\beta}{|D_r|} \\sum_{\\vec{d_j} \\in D_r} \\vec{d_j} - \\frac{\\gamma}{|D_{nr}|} \\sum_{\\vec{d_j} \\in D_{nr}} \\vec{d_j}\n",
    "\\end{equation}\n",
    "\n",
    "* Query expansion also possible with Thesaurus + User Query Logs "
   ]
  },
  {
   "cell_type": "code",
   "execution_count": 5,
   "metadata": {},
   "outputs": [],
   "source": [
    "def expand_query(relevant_doc_vecs, non_relevant_doc_vecs, query_vector, alpha, beta, gamma):\n",
    "    \n",
    "    num_rel = len(relevant_doc_vecs)\n",
    "    num_non_rel = len(non_relevant_doc_vecs)\n",
    "    \n",
    "    # Compute the first term in the Rocchio equation\n",
    "    norm_query_vector = alpha * query_vector\n",
    "    \n",
    "    # Compute the second term in the Rocchio equation\n",
    "    norm_sum_relevant = (beta / num_rel) * np.sum(relevant_doc_vecs, axis=0) \n",
    "    \n",
    "    # Compute the last term in the Rocchio equation\n",
    "    norm_sum_non_relevant = (gamma / num_non_rel) * np.sum(non_relevant_doc_vecs, axis=0)\n",
    "    \n",
    "    # Sum all the terms\n",
    "    modified_query_vector = norm_query_vector + norm_sum_relevant - norm_sum_non_relevant\n",
    "    \n",
    "    # Ignore negative elements (so that it doesn't)\n",
    "    modified_query_vector = [x if x > 0 else 0 for x in modified_query_vector]\n",
    "    return modified_query_vector"
   ]
  },
  {
   "cell_type": "markdown",
   "metadata": {},
   "source": [
    "### 4.2 Page Rank: Link based ranking\n",
    "\n",
    "#### 4.2.1 Page Rank EigenVector method\n",
    "\n",
    "1. Link Matrix L : (i, j) no links from i to j\n",
    "2. R Matrix: Normlized L\n",
    "3. p = page ranks vectors => Eigenvector of the largest eigenvalue of R"
   ]
  },
  {
   "cell_type": "code",
   "execution_count": 6,
   "metadata": {},
   "outputs": [],
   "source": [
    "# L = link matrix, np.matrix\n",
    "def pagerank_eigen(L):\n",
    "#   Construct transition probability matrix from L\n",
    "    # R is the normalised matrix of L\n",
    "    col_sums = L.sum(axis=0)\n",
    "    # To avoid division by 0\n",
    "    col_sums[col_sums == 0] = 1\n",
    "    R = L / col_sums\n",
    "#     R = np.multiply(L, 1 / np.sum(L,axis=0))\n",
    "    \n",
    "#     Compute eigen-vectors and eigen-values of R\n",
    "    eigenvalues, eigenvectors = np.linalg.eig(R)\n",
    "#     Take the eigen-vector with maximum eigven-value\n",
    "    p = eigenvectors[:,np.argmax(np.absolute(eigenvalues))]\n",
    "    return (R,p)"
   ]
  },
  {
   "cell_type": "code",
   "execution_count": 7,
   "metadata": {},
   "outputs": [
    {
     "name": "stdout",
     "output_type": "stream",
     "text": [
      "L=[[0 1 1]\n",
      " [1 0 1]\n",
      " [1 0 0]]\n",
      "R=[[0.  1.  0.5]\n",
      " [0.5 0.  0.5]\n",
      " [0.5 0.  0. ]]\n",
      "p=[[-0.74278135+0.j]\n",
      " [-0.55708601+0.j]\n",
      " [-0.37139068+0.j]]\n"
     ]
    }
   ],
   "source": [
    "L = np.matrix([\n",
    "    [0,1,1], # row1: links pointing to p1\n",
    "    [1,0,1], \n",
    "    [1,0,0]\n",
    "])  # col1 : links p1 points to (different than HITS!!)\n",
    "\n",
    "R,p = pagerank_eigen(L)\n",
    "print(\"L={0}\\nR={1}\\np={2}\".format(L,R,p))"
   ]
  },
  {
   "attachments": {
    "Screenshot%202019-06-25%20at%2019.28.59.png": {
     "image/png": "[encoded data removed]"
    }
   },
   "cell_type": "markdown",
   "metadata": {},
   "source": [
    "#### 4.2.2 Page Rank Iterative method\n",
    "\n",
    "The eigen-vector method has some numerical issues (when computing eigen-vector) and not scalable with large datasets.\n",
    "\n",
    "\n",
    "![Screenshot%202019-06-25%20at%2019.28.59.png](attachment:Screenshot%202019-06-25%20at%2019.28.59.png)"
   ]
  },
  {
   "cell_type": "code",
   "execution_count": 400,
   "metadata": {},
   "outputs": [],
   "source": [
    "# L = Link matrix. np.matrix\n",
    "def pagerank_iterative(L):\n",
    "    R = np.multiply(L, 1 / np.sum(L,axis=0))\n",
    "    N = L.shape[0]\n",
    "    e = np.ones(shape=(N,1))\n",
    "    q = 0.9\n",
    "\n",
    "    p = e\n",
    "    delta = 1\n",
    "    epsilon = 0.001\n",
    "    i = 0\n",
    "    while delta > epsilon:\n",
    "        p_prev = p\n",
    "        p = np.matmul(q * R, p_prev)\n",
    "        p = p + ((1-q)/N) * e\n",
    "        delta = np.linalg.norm(p - p_prev, 1)\n",
    "        i += 1\n",
    "\n",
    "    print(\"Converged after {0} iterations. Ranking vector: p={1}\".format(i, p[:,0]))\n",
    "    return R,p"
   ]
  },
  {
   "cell_type": "code",
   "execution_count": 408,
   "metadata": {},
   "outputs": [
    {
     "name": "stdout",
     "output_type": "stream",
     "text": [
      "Converged after 52 iterations. Ranking vector: p=[[0.44049233]\n",
      " [0.33611637]\n",
      " [0.23174042]]\n"
     ]
    }
   ],
   "source": [
    "R, p = pagerank_iterative(L)"
   ]
  },
  {
   "attachments": {
    "Screenshot%202019-06-25%20at%2020.01.43.png": {
     "image/png": "[encoded data removed]"
    }
   },
   "cell_type": "markdown",
   "metadata": {},
   "source": [
    "### 4.3 HITS - Hubs & Authorities : Link based ranking\n",
    "\n",
    "Hyperlink-induced topic search\n",
    "\n",
    "**Authority pages**: Pages the hubs pages point to. Ex. EPFL - **a** = authority vector\n",
    "\n",
    "**Hub pages**: Pages that points to authority pages Ex. QSRanking - **h** = hub vector\n",
    "\n",
    "![Screenshot%202019-06-25%20at%2020.01.43.png](attachment:Screenshot%202019-06-25%20at%2020.01.43.png)"
   ]
  },
  {
   "cell_type": "code",
   "execution_count": 8,
   "metadata": {},
   "outputs": [
    {
     "name": "stdout",
     "output_type": "stream",
     "text": [
      "Ran a total of 4 iterations with the convergence rate delta1, delta2=0.0006129616443491803,0.0016852780559584724\n",
      "Result using iterative method:\n",
      " Authoriy vector x=[0.16854345 0.27253834 0.49794598 0.80583234]\n",
      " Hub vector y=[0.65541849 0.54207544 0.40532459 0.33510118]\n"
     ]
    }
   ],
   "source": [
    "# A = adjacency matrix => need to be an np.array, not matrix!!\n",
    "def hits_iterative(A, k = 10):\n",
    "    N = A.shape[0]\n",
    "    a0, h0 = 1 / (N*N) * np.ones(N), 1 / (N*N) * np.ones(N) \n",
    "    aprev, hprev = a0, h0\n",
    "    delta1 = delta2 = 1\n",
    "    epsilon = 0.001 # We can strictly check for convergence rate of HITS algorithm\n",
    "    l = 0\n",
    "    while l < k and delta1 > epsilon and delta2 > epsilon:\n",
    "        h = np.matmul(A, aprev) # hub: how many authority i point to?\n",
    "        a = np.matmul(np.transpose(A), h) # authority: how many hubs points to me?\n",
    "        \n",
    "        a = a / np.linalg.norm(a,2)\n",
    "        h = h / np.linalg.norm(h,2)\n",
    "        \n",
    "        delta1 = np.linalg.norm(a-aprev,1)\n",
    "        delta2 = np.linalg.norm(h-hprev,1)\n",
    "        aprev = a\n",
    "        hprev = h\n",
    "        l += 1\n",
    "    \n",
    "    print(\"Ran a total of {0} iterations with the convergence rate delta1, delta2={1},{2}\".format(l, delta1, delta2))\n",
    "    return aprev, hprev\n",
    "\n",
    "A=np.array([\n",
    "    [0, 1, 1, 1], # row1: nb links node 1 points to\n",
    "    [0, 0, 1, 1], \n",
    "    [1, 0, 0, 1],\n",
    "    [0, 0, 0, 1],\n",
    "])  #col1 : nb links pointing to node 1 (different than PageRank's Link matrix!!)\n",
    "\n",
    "a, h = hits_iterative(A, 100)\n",
    "print(\"Result using iterative method:\\n Authoriy vector x={0}\\n Hub vector y={1}\".format(a, h))"
   ]
  },
  {
   "cell_type": "markdown",
   "metadata": {},
   "source": [
    "**HITS recursive:**  \n",
    "\n",
    "S : authorities, T: Hubs\n",
    "\n",
    "$\\vec{t}_{k+1} = r_1  M_1. \\vec{v_1},\\ \\vec{s}_{k+1} = r_2  M_2 . \\vec{v_2}$\n",
    "\n",
    "$\\vec{t}=(t_1,\\ldots,t_n)$ and $\\vec{s}=(s_1,\\ldots,s_m)$ are the vectors ranking interest and expertise of users and universities. Your task is to express $r_p$, $\\vec{v_p}$ and $M_p$, $p=1,\\ldots,5$ in terms of $\\vec{t}_{k}$, $\\vec{s}_{k}$ and $F$, where $r_p$ are scalars, $\\vec{v_p}$ are vectors and $M_p$ are matrices.\n",
    "\n",
    "* For hubs t2: r1 = 1/ norm of s1, M1 = Adjency matrix, v1 = previous authority vector (s1)\n",
    "* For authorities s2: r2 = 1 / norm of t2, v2 = t2, M2 = transpose of Adjacency matrix "
   ]
  },
  {
   "cell_type": "code",
   "execution_count": 19,
   "metadata": {},
   "outputs": [],
   "source": [
    "def hits_recursive(A, k = 10):\n",
    "    N = A.shape[0]\n",
    "    delta1 = delta2 = 1\n",
    "    epsilon = 0.001 # We can strictly check for convergence rate of HITS algorithm\n",
    "    \n",
    "    if k == 1:\n",
    "        a0, h1 = 1 / (N*N) * np.ones(N), 1 / (N*N) * np.ones(N) \n",
    "        a1 = np.matmul(np.transpose(A), h1)\n",
    "        \n",
    "        a1 = a1 / np.linalg.norm(a1,2)\n",
    "        h1 = h1 / np.linalg.norm(h1,2)\n",
    "        \n",
    "#         print(\"a1: {}, h1:{}\".format(a1, h1))\n",
    "        \n",
    "        return a1, h1\n",
    "    \n",
    "    else:\n",
    "        aprev, _ = hits_recursive(A, k-1)\n",
    "        \n",
    "        h = np.matmul(A, aprev) # hub: how many authority i point to?\n",
    "        a = np.matmul(np.transpose(A), h) # authority: how many hubs points to me?\n",
    "        \n",
    "        a = a / np.linalg.norm(a,2)\n",
    "        h = h / np.linalg.norm(h,2)\n",
    "        \n",
    "#         print(\"k: {}, a: {}, h: {}\".format(k, a, h))\n",
    "        \n",
    "        return a, h"
   ]
  },
  {
   "cell_type": "code",
   "execution_count": 35,
   "metadata": {},
   "outputs": [
    {
     "name": "stdout",
     "output_type": "stream",
     "text": [
      "Result using recursive method:\n",
      " Authoriy vector x=[0.59133282 0.73683204 0.32772556]\n",
      " Hub vector y=[0.59054099 0.32836047 0.73718433]\n"
     ]
    }
   ],
   "source": [
    "a, h = hits_recursive(A, 8)\n",
    "print(\"Result using recursive method:\\n Authoriy vector x={0}\\n Hub vector y={1}\".format(a, h))"
   ]
  },
  {
   "cell_type": "code",
   "execution_count": 32,
   "metadata": {},
   "outputs": [
    {
     "name": "stdout",
     "output_type": "stream",
     "text": [
      "Ran a total of 8 iterations with the convergence rate delta1, delta2=0.0005478431302090025,0.0007919169475945065\n",
      "Result using iterative method:\n",
      " Authoriy vector x=[0.59078493 0.73707593 0.32816497]\n",
      " Hub vector y=[0.59133282 0.32772556 0.73683204]\n"
     ]
    }
   ],
   "source": [
    "# To resuse link matrix from Page rank:\n",
    "A = np.array(np.transpose(L))\n",
    "a, h = hits_iterative(A, 100)\n",
    "print(\"Result using iterative method:\\n Authoriy vector x={0}\\n Hub vector y={1}\".format(a, h))"
   ]
  },
  {
   "cell_type": "markdown",
   "metadata": {},
   "source": [
    "Let the adjacency matrix for a graph of four vertices ($n_1$ to $n_4$) be\n",
    "as follows:\n",
    "\n",
    "$\n",
    "A =\n",
    "  \\begin{bmatrix}\n",
    "\t0 & 1 & 1 & 1  \\\\\n",
    "\t0 & 0 & 1 & 1 \\\\\n",
    "\t1 & 0 & 0 & 1 \\\\\n",
    "\t0 & 0 & 0 & 1 \\\\\n",
    "  \\end{bmatrix}\n",
    "$\n",
    "\n",
    "**Details:**\n",
    "**Notice that for authority: A.T, for hubs: A !**\n",
    "+ Initialization: \n",
    "  \n",
    "  $a_0 = \\frac{1}{4^2}(1,1,1,1) = ( 0.0625,  0.0625,  0.0625,  0.0625)$\n",
    "  \n",
    "  $h_0 = \\frac{1}{4^2}(1,1,1,1) = ( 0.0625,  0.0625,  0.0625,  0.0625)$\n",
    "  \n",
    "+ $k=1$:\n",
    "  \n",
    "  $a_1 = \\frac{A^t h_0}{||A^t h_0||} = (0.21320072,  0.21320072,  0.42640143,  0.85280287)$\n",
    "  \n",
    "  $h_1 = \\frac{A a_0}{|| A a_0 ||} = (0.70710678,  0.47140452,  0.47140452,  0.23570226)$\n",
    "  \n",
    "+ ...:\n",
    "  \n",
    "+ $k=6$:\n",
    "  \n",
    "   $a_6 = \\frac{A^t h_5}{||A^t h_5||} = (0.16887796,  0.27257494,  0.49774555, 0.80587375)$\n",
    "  \n",
    "  $h_6 = \\frac{A a_5}{||A a_5||} = (0.65357971,  0.54153747,  0.40815386,  0.33612671)$\n",
    "  \n",
    "\n",
    "**Conclusion:**\n",
    "+ Best authority node: $n_4$. Best hub node: $n_1$."
   ]
  },
  {
   "cell_type": "markdown",
   "metadata": {},
   "source": []
  },
  {
   "cell_type": "code",
   "execution_count": null,
   "metadata": {},
   "outputs": [],
   "source": []
  }
 ],
 "metadata": {
  "kernelspec": {
   "display_name": "Python 3",
   "language": "python",
   "name": "python3"
  },
  "language_info": {
   "codemirror_mode": {
    "name": "ipython",
    "version": 3
   },
   "file_extension": ".py",
   "mimetype": "text/x-python",
   "name": "python",
   "nbconvert_exporter": "python",
   "pygments_lexer": "ipython3",
   "version": "3.5.6"
  }
 },
 "nbformat": 4,
 "nbformat_minor": 2
}
